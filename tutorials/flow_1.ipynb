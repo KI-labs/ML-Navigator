{
 "cells": [
  {
   "cell_type": "code",
   "execution_count": 1,
   "metadata": {},
   "outputs": [],
   "source": [
    "import os"
   ]
  },
  {
   "cell_type": "code",
   "execution_count": 2,
   "metadata": {},
   "outputs": [],
   "source": [
    "os.chdir('..')"
   ]
  },
  {
   "cell_type": "markdown",
   "metadata": {},
   "source": [
    "<img src=\"flow_1.png\">"
   ]
  },
  {
   "cell_type": "code",
   "execution_count": 3,
   "metadata": {
    "scrolled": true
   },
   "outputs": [
    {
     "name": "stderr",
     "output_type": "stream",
     "text": [
      "/anaconda3/envs/ml-nav/lib/python3.6/site-packages/lightgbm/__init__.py:46: UserWarning: Starting from version 2.2.1, the library file in distribution wheels for macOS is built by the Apple Clang (Xcode_8.3.3) compiler.\n",
      "This means that in case of installing LightGBM from PyPI via the ``pip install lightgbm`` command, you don't need to install the gcc compiler anymore.\n",
      "Instead of that, you need to install the OpenMP library, which is required for running LightGBM on the system with the Apple Clang compiler.\n",
      "You can install the OpenMP library by the following command: ``brew install libomp``.\n",
      "  \"You can install the OpenMP library by the following command: ``brew install libomp``.\", UserWarning)\n"
     ]
    },
    {
     "name": "stdout",
     "output_type": "stream",
     "text": [
      "\u001b[1m\u001b[35mWelcome to the Data Science Package. First create an object as follows:\u001b[m\u001b[m\n",
      "\u001b[1m\u001b[35mFor example, use the code below to import the flow 0:\u001b[m\u001b[m\n",
      "\u001b[32m\u001b[40mflow = Flows(0)\u001b[m\n",
      "\u001b[1m\u001b[35mYou can define the `categorical_threshold` which is the maximum number of categories that a categorical feature should have before considering it as continuous numeric feature. The default value is 50\u001b[m\u001b[m\n",
      "\u001b[1m\u001b[35mFor example, use the code below to import the flow 0 with defining the categorical_threshold as 50\u001b[m\u001b[m\n",
      "\u001b[32m\u001b[40mflow = Flows(flow_id=0, categorical_threshold=50)\u001b[m\n"
     ]
    }
   ],
   "source": [
    "from flows.flows import Flows"
   ]
  },
  {
   "cell_type": "code",
   "execution_count": 4,
   "metadata": {},
   "outputs": [
    {
     "name": "stdout",
     "output_type": "stream",
     "text": [
      "\u001b[1m\u001b[35mPlease use the following function to read the data\u001b[m\u001b[m\n",
      "\u001b[32m\u001b[40mdataframe_dict = flow.load_data(path: str, files_list: list)\u001b[m\n",
      "\u001b[1m\u001b[35mFor example: \u001b[m\u001b[32m\u001b[40mpath = './data'\u001b[m\u001b[m\n",
      "\u001b[1m\u001b[35mFor example: \u001b[m\u001b[32m\u001b[40mfiles_list = ['train.csv','test.csv']\u001b[m\u001b[m\n",
      "\u001b[1m\u001b[35mThe output is a dictionary that contains dataframes e.g.  \u001b[m\u001b[m\n",
      "\u001b[34mdataframe_dict = {'train': train_dataframe,'test': test_dataframe}\u001b[m\n"
     ]
    }
   ],
   "source": [
    "flow = Flows(1)"
   ]
  },
  {
   "cell_type": "code",
   "execution_count": 5,
   "metadata": {},
   "outputs": [],
   "source": [
    "path = './data/flow_1'\n",
    "files_list = ['train.csv','test.csv']"
   ]
  },
  {
   "cell_type": "code",
   "execution_count": 6,
   "metadata": {},
   "outputs": [
    {
     "name": "stdout",
     "output_type": "stream",
     "text": [
      "A summary of the data sets\n"
     ]
    },
    {
     "data": {
      "text/html": [
       "<div>\n",
       "<style scoped>\n",
       "    .dataframe tbody tr th:only-of-type {\n",
       "        vertical-align: middle;\n",
       "    }\n",
       "\n",
       "    .dataframe tbody tr th {\n",
       "        vertical-align: top;\n",
       "    }\n",
       "\n",
       "    .dataframe thead th {\n",
       "        text-align: right;\n",
       "    }\n",
       "</style>\n",
       "<table border=\"1\" class=\"dataframe\">\n",
       "  <thead>\n",
       "    <tr style=\"text-align: right;\">\n",
       "      <th></th>\n",
       "      <th>train</th>\n",
       "      <th>test</th>\n",
       "    </tr>\n",
       "    <tr>\n",
       "      <th>column type</th>\n",
       "      <th></th>\n",
       "      <th></th>\n",
       "    </tr>\n",
       "  </thead>\n",
       "  <tbody>\n",
       "    <tr>\n",
       "      <th>categorical_integer</th>\n",
       "      <td>18</td>\n",
       "      <td>18</td>\n",
       "    </tr>\n",
       "    <tr>\n",
       "      <th>categorical_string</th>\n",
       "      <td>43</td>\n",
       "      <td>43</td>\n",
       "    </tr>\n",
       "    <tr>\n",
       "      <th>continuous</th>\n",
       "      <td>20</td>\n",
       "      <td>19</td>\n",
       "    </tr>\n",
       "    <tr>\n",
       "      <th>date</th>\n",
       "      <td>0</td>\n",
       "      <td>0</td>\n",
       "    </tr>\n",
       "    <tr>\n",
       "      <th>json</th>\n",
       "      <td>0</td>\n",
       "      <td>0</td>\n",
       "    </tr>\n",
       "    <tr>\n",
       "      <th>other</th>\n",
       "      <td>0</td>\n",
       "      <td>0</td>\n",
       "    </tr>\n",
       "    <tr>\n",
       "      <th>total amount</th>\n",
       "      <td>81</td>\n",
       "      <td>80</td>\n",
       "    </tr>\n",
       "  </tbody>\n",
       "</table>\n",
       "</div>"
      ],
      "text/plain": [
       "                     train  test\n",
       "column type                     \n",
       "categorical_integer     18    18\n",
       "categorical_string      43    43\n",
       "continuous              20    19\n",
       "date                     0     0\n",
       "json                     0     0\n",
       "other                    0     0\n",
       "total amount            81    80"
      ]
     },
     "metadata": {},
     "output_type": "display_data"
    },
    {
     "name": "stdout",
     "output_type": "stream",
     "text": [
      "\u001b[1mNOTE: numeric categorical columns that contains more than 50 classes are considered numeric continuous features.\u001b[0;0m\n",
      "\u001b[1mNOTE: You can modify the threshold value if you want to consider more or less numeric categorical features as numeric continuous features.\u001b[0;0m\n",
      "The possible ids are {'Id'}\n",
      "The possible possible_target are ['SalePrice']\n",
      "The type of the problem that should be solved {'SalePrice': 'regression'}\n",
      "\u001b[1m\u001b[35mIf you have categorical features with string labels, Encode the categorical features by applying the following function:\n",
      "\u001b[m\u001b[32m\u001b[40mdataframe_dict, columns_set = flow.encode_categorical_feature(dataframe_dict: dict)\u001b[m\u001b[m\n"
     ]
    }
   ],
   "source": [
    "dataframe_dict, columns_set = flow.load_data(path, files_list)"
   ]
  },
  {
   "cell_type": "code",
   "execution_count": 7,
   "metadata": {},
   "outputs": [
    {
     "name": "stdout",
     "output_type": "stream",
     "text": [
      "The reference dataframe is: train\n",
      "\u001b[31m******************************\u001b[m\n",
      "A summary of the data sets\n"
     ]
    },
    {
     "data": {
      "text/html": [
       "<div>\n",
       "<style scoped>\n",
       "    .dataframe tbody tr th:only-of-type {\n",
       "        vertical-align: middle;\n",
       "    }\n",
       "\n",
       "    .dataframe tbody tr th {\n",
       "        vertical-align: top;\n",
       "    }\n",
       "\n",
       "    .dataframe thead th {\n",
       "        text-align: right;\n",
       "    }\n",
       "</style>\n",
       "<table border=\"1\" class=\"dataframe\">\n",
       "  <thead>\n",
       "    <tr style=\"text-align: right;\">\n",
       "      <th></th>\n",
       "      <th>train</th>\n",
       "      <th>test</th>\n",
       "    </tr>\n",
       "    <tr>\n",
       "      <th>column type</th>\n",
       "      <th></th>\n",
       "      <th></th>\n",
       "    </tr>\n",
       "  </thead>\n",
       "  <tbody>\n",
       "    <tr>\n",
       "      <th>categorical_integer</th>\n",
       "      <td>61</td>\n",
       "      <td>61</td>\n",
       "    </tr>\n",
       "    <tr>\n",
       "      <th>categorical_string</th>\n",
       "      <td>0</td>\n",
       "      <td>0</td>\n",
       "    </tr>\n",
       "    <tr>\n",
       "      <th>continuous</th>\n",
       "      <td>20</td>\n",
       "      <td>19</td>\n",
       "    </tr>\n",
       "    <tr>\n",
       "      <th>date</th>\n",
       "      <td>0</td>\n",
       "      <td>0</td>\n",
       "    </tr>\n",
       "    <tr>\n",
       "      <th>json</th>\n",
       "      <td>0</td>\n",
       "      <td>0</td>\n",
       "    </tr>\n",
       "    <tr>\n",
       "      <th>other</th>\n",
       "      <td>0</td>\n",
       "      <td>0</td>\n",
       "    </tr>\n",
       "    <tr>\n",
       "      <th>total amount</th>\n",
       "      <td>81</td>\n",
       "      <td>80</td>\n",
       "    </tr>\n",
       "  </tbody>\n",
       "</table>\n",
       "</div>"
      ],
      "text/plain": [
       "                     train  test\n",
       "column type                     \n",
       "categorical_integer     61    61\n",
       "categorical_string       0     0\n",
       "continuous              20    19\n",
       "date                     0     0\n",
       "json                     0     0\n",
       "other                    0     0\n",
       "total amount            81    80"
      ]
     },
     "metadata": {},
     "output_type": "display_data"
    },
    {
     "name": "stdout",
     "output_type": "stream",
     "text": [
      "\u001b[1mNOTE: numeric categorical columns that contains more than 50 classes are considered numeric continuous features.\u001b[0;0m\n",
      "\u001b[1mNOTE: You can modify the threshold value if you want to consider more or less numeric categorical features as numeric continuous features.\u001b[0;0m\n",
      "\u001b[1m\u001b[35mYou have categorical features. Apply one-hot encoding to the categorical features by applying the following function:\n",
      "\u001b[m\u001b[32m\u001b[40mdataframe_dict, columns_set = flow.one_hot_encoding (dataframe_dict: dict, ignore_columns: list, class_number_range=[3, 50]\u001b[m\u001b[m\n",
      "\u001b[1m\u001b[35mSince one-hot encoding can produce a lot of features, class_number_range will limit the encoding process only for features which have between 3 and 49 unique values.\u001b[m\u001b[m\n",
      "\u001b[1m\u001b[35mIf you are solving a classification problem, you should exclude the target from the one-hot encoding process by defining the ingore_columns\n",
      "\u001b[m\u001b[32m\u001b[40mingore_columns = [<your target/label>]\n",
      "\u001b[m\u001b[35mYou can add more columns to the ingore_columns list to ignore\u001b[m\u001b[m\n"
     ]
    }
   ],
   "source": [
    "dataframe_dict, columns_set = flow.encode_categorical_feature(dataframe_dict)"
   ]
  },
  {
   "cell_type": "code",
   "execution_count": 8,
   "metadata": {},
   "outputs": [],
   "source": [
    "ignore_columns = ['id', 'SalePrice']"
   ]
  },
  {
   "cell_type": "code",
   "execution_count": 9,
   "metadata": {},
   "outputs": [
    {
     "name": "stdout",
     "output_type": "stream",
     "text": [
      "A summary of the data sets\n"
     ]
    },
    {
     "data": {
      "text/html": [
       "<div>\n",
       "<style scoped>\n",
       "    .dataframe tbody tr th:only-of-type {\n",
       "        vertical-align: middle;\n",
       "    }\n",
       "\n",
       "    .dataframe tbody tr th {\n",
       "        vertical-align: top;\n",
       "    }\n",
       "\n",
       "    .dataframe thead th {\n",
       "        text-align: right;\n",
       "    }\n",
       "</style>\n",
       "<table border=\"1\" class=\"dataframe\">\n",
       "  <thead>\n",
       "    <tr style=\"text-align: right;\">\n",
       "      <th></th>\n",
       "      <th>train</th>\n",
       "      <th>test</th>\n",
       "    </tr>\n",
       "    <tr>\n",
       "      <th>column type</th>\n",
       "      <th></th>\n",
       "      <th></th>\n",
       "    </tr>\n",
       "  </thead>\n",
       "  <tbody>\n",
       "    <tr>\n",
       "      <th>categorical_integer</th>\n",
       "      <td>436</td>\n",
       "      <td>436</td>\n",
       "    </tr>\n",
       "    <tr>\n",
       "      <th>categorical_string</th>\n",
       "      <td>0</td>\n",
       "      <td>0</td>\n",
       "    </tr>\n",
       "    <tr>\n",
       "      <th>continuous</th>\n",
       "      <td>20</td>\n",
       "      <td>19</td>\n",
       "    </tr>\n",
       "    <tr>\n",
       "      <th>date</th>\n",
       "      <td>0</td>\n",
       "      <td>0</td>\n",
       "    </tr>\n",
       "    <tr>\n",
       "      <th>json</th>\n",
       "      <td>0</td>\n",
       "      <td>0</td>\n",
       "    </tr>\n",
       "    <tr>\n",
       "      <th>other</th>\n",
       "      <td>0</td>\n",
       "      <td>0</td>\n",
       "    </tr>\n",
       "    <tr>\n",
       "      <th>total amount</th>\n",
       "      <td>456</td>\n",
       "      <td>455</td>\n",
       "    </tr>\n",
       "  </tbody>\n",
       "</table>\n",
       "</div>"
      ],
      "text/plain": [
       "                     train  test\n",
       "column type                     \n",
       "categorical_integer    436   436\n",
       "categorical_string       0     0\n",
       "continuous              20    19\n",
       "date                     0     0\n",
       "json                     0     0\n",
       "other                    0     0\n",
       "total amount           456   455"
      ]
     },
     "metadata": {},
     "output_type": "display_data"
    },
    {
     "name": "stdout",
     "output_type": "stream",
     "text": [
      "\u001b[1mNOTE: numeric categorical columns that contains more than 50 classes are considered numeric continuous features.\u001b[0;0m\n",
      "\u001b[1mNOTE: You can modify the threshold value if you want to consider more or less numeric categorical features as numeric continuous features.\u001b[0;0m\n",
      "\u001b[1m\u001b[35mIf you have numeric features, it is a good idea to normalize numeric features. Use the following function for feature normalization :\n",
      "\u001b[m\u001b[32m\u001b[40mdataframe_dict, columns_set = flow.scale_data (dataframe_dict: dict, ignore_columns: list)\u001b[m\u001b[m\n",
      "\u001b[1m\u001b[35mFor example: \u001b[m\u001b[32m\u001b[40mignore_columns = ['id', 'target']\u001b[m\u001b[m\n"
     ]
    }
   ],
   "source": [
    "dataframe_dict, columns_set = flow.one_hot_encoding(dataframe_dict,\n",
    "                                                    \"train\",\n",
    "                                                    ignore_columns,\n",
    "                                                    class_number_range=[3, 50])"
   ]
  },
  {
   "cell_type": "code",
   "execution_count": 10,
   "metadata": {},
   "outputs": [
    {
     "name": "stdout",
     "output_type": "stream",
     "text": [
      "A summary of the data sets\n"
     ]
    },
    {
     "data": {
      "text/html": [
       "<div>\n",
       "<style scoped>\n",
       "    .dataframe tbody tr th:only-of-type {\n",
       "        vertical-align: middle;\n",
       "    }\n",
       "\n",
       "    .dataframe tbody tr th {\n",
       "        vertical-align: top;\n",
       "    }\n",
       "\n",
       "    .dataframe thead th {\n",
       "        text-align: right;\n",
       "    }\n",
       "</style>\n",
       "<table border=\"1\" class=\"dataframe\">\n",
       "  <thead>\n",
       "    <tr style=\"text-align: right;\">\n",
       "      <th></th>\n",
       "      <th>train</th>\n",
       "      <th>test</th>\n",
       "    </tr>\n",
       "    <tr>\n",
       "      <th>column type</th>\n",
       "      <th></th>\n",
       "      <th></th>\n",
       "    </tr>\n",
       "  </thead>\n",
       "  <tbody>\n",
       "    <tr>\n",
       "      <th>categorical_integer</th>\n",
       "      <td>436</td>\n",
       "      <td>436</td>\n",
       "    </tr>\n",
       "    <tr>\n",
       "      <th>categorical_string</th>\n",
       "      <td>0</td>\n",
       "      <td>0</td>\n",
       "    </tr>\n",
       "    <tr>\n",
       "      <th>continuous</th>\n",
       "      <td>20</td>\n",
       "      <td>19</td>\n",
       "    </tr>\n",
       "    <tr>\n",
       "      <th>date</th>\n",
       "      <td>0</td>\n",
       "      <td>0</td>\n",
       "    </tr>\n",
       "    <tr>\n",
       "      <th>json</th>\n",
       "      <td>0</td>\n",
       "      <td>0</td>\n",
       "    </tr>\n",
       "    <tr>\n",
       "      <th>other</th>\n",
       "      <td>0</td>\n",
       "      <td>0</td>\n",
       "    </tr>\n",
       "    <tr>\n",
       "      <th>total amount</th>\n",
       "      <td>456</td>\n",
       "      <td>455</td>\n",
       "    </tr>\n",
       "  </tbody>\n",
       "</table>\n",
       "</div>"
      ],
      "text/plain": [
       "                     train  test\n",
       "column type                     \n",
       "categorical_integer    436   436\n",
       "categorical_string       0     0\n",
       "continuous              20    19\n",
       "date                     0     0\n",
       "json                     0     0\n",
       "other                    0     0\n",
       "total amount           456   455"
      ]
     },
     "metadata": {},
     "output_type": "display_data"
    },
    {
     "name": "stdout",
     "output_type": "stream",
     "text": [
      "\u001b[1mNOTE: numeric categorical columns that contains more than 50 classes are considered numeric continuous features.\u001b[0;0m\n",
      "\u001b[1mNOTE: You can modify the threshold value if you want to consider more or less numeric categorical features as numeric continuous features.\u001b[0;0m\n",
      "\u001b[1m\u001b[35mYour features are ready to train the model: \u001b[m\u001b[m\n",
      "\u001b[1m\u001b[35mIf you want to explore the data you can run one of the following functions: \u001b[m\u001b[m\n",
      "\u001b[1m\u001b[35m1 . \u001b[m\u001b[32m\u001b[40mflow.exploring_data(dataframe_dict: dict, key_i: str)\u001b[m\u001b[m\n",
      "\u001b[1m\u001b[35mFor example: \u001b[m\u001b[32m\u001b[40mflow.exploring_data(dataframe_dict, 'train')\u001b[m\u001b[m\n",
      "\u001b[1m\u001b[35m2 . \u001b[m\u001b[32m\u001b[40mflow.comparing_statistics(dataframe_dict: dict)\u001b[m\u001b[m\n",
      "\u001b[1m\u001b[35mFor example: \u001b[m\u001b[32m\u001b[40mflow.comparing_statistics(dataframe_dict)\u001b[m\u001b[m\n",
      "\n",
      "\n",
      "\n",
      "\n",
      "\u001b[1m\u001b[35mYou can start training the model by applying the following function: \u001b[m\u001b[m\n",
      "\u001b[32m\u001b[40mmodel_index_list, save_models_dir, y_test = flow.training(parameters)\u001b[m\n",
      "parameters = { \n",
      " \"data\": {\n",
      " \"train\": {\"features\": train_dataframe, \"target\": train_target},\n",
      " \"valid\": {\"features\": valid_dataframe, \"target\": valid_target},\n",
      " \"test\": {\"features\": test_dataframe, \"target\": test_target},\n",
      " },\n",
      " \"split\": {\n",
      " \"method\": \"split\",  # \"method\":\"kfold\"\n",
      " \"split_ratios\": 0.2,  # fold_nr: 5 , \"split_ratios\": 0.2 # \"split_ratios\":(0.3,0.2)\n",
      " },\n",
      " \"model\": {\"type\": \"Ridge linear regression\",\n",
      " \"hyperparameters\": {\"alpha\": 1,  # alpha:optimize\n",
      " },\n",
      " },\n",
      " \"metrics\": [\"r2_score\", \"mean_squared_error\"]\n",
      " }\n"
     ]
    }
   ],
   "source": [
    "dataframe_dict, columns_set = flow.scale_data(dataframe_dict, ignore_columns)"
   ]
  },
  {
   "cell_type": "code",
   "execution_count": 11,
   "metadata": {},
   "outputs": [],
   "source": [
    "ignore_columns = [\"id\", \"SalePrice\"]\n",
    "columns = dataframe_dict[\"train\"].columns\n",
    "train_dataframe = dataframe_dict[\"train\"][[x for x in columns_set[\"train\"][\"categorical_integer\"] if x not in ignore_columns]]\n",
    "test_dataframe = dataframe_dict[\"test\"][[x for x in columns_set[\"train\"][\"categorical_integer\"] if x not in ignore_columns]]\n",
    "train_target = dataframe_dict[\"train\"][\"SalePrice\"]"
   ]
  },
  {
   "cell_type": "code",
   "execution_count": 12,
   "metadata": {},
   "outputs": [],
   "source": [
    "parameters = {\n",
    "    \"data\": {\n",
    "        \"train\": {\"features\": train_dataframe, \"target\": train_target.to_numpy()},\n",
    "    },\n",
    "    \"split\": {\n",
    "        \"method\": \"split\",  # \"method\":\"kfold\"\n",
    "        \"split_ratios\": 0.2,  # foldnr:5 , \"split_ratios\": 0.2 # \"split_ratios\":(0.3,0.2)\n",
    "    },\n",
    "    \"model\": {\"type\": \"Ridge linear regression\",\n",
    "              \"hyperparameters\": {\"alpha\": \"optimize\",  # alpha:optimize\n",
    "                                  },\n",
    "              },\n",
    "    \"metrics\": [\"r2_score\", \"mean_squared_error\"],\n",
    "    \"predict\": {\n",
    "        \"test\": {\"features\": test_dataframe}\n",
    "    }\n",
    "}"
   ]
  },
  {
   "cell_type": "code",
   "execution_count": 13,
   "metadata": {},
   "outputs": [
    {
     "name": "stdout",
     "output_type": "stream",
     "text": [
      "the optimized alpha value 1.0\n"
     ]
    },
    {
     "data": {
      "text/html": [
       "<div>\n",
       "<style scoped>\n",
       "    .dataframe tbody tr th:only-of-type {\n",
       "        vertical-align: middle;\n",
       "    }\n",
       "\n",
       "    .dataframe tbody tr th {\n",
       "        vertical-align: top;\n",
       "    }\n",
       "\n",
       "    .dataframe thead th {\n",
       "        text-align: right;\n",
       "    }\n",
       "</style>\n",
       "<table border=\"1\" class=\"dataframe\">\n",
       "  <thead>\n",
       "    <tr style=\"text-align: right;\">\n",
       "      <th></th>\n",
       "      <th>model 0</th>\n",
       "    </tr>\n",
       "  </thead>\n",
       "  <tbody>\n",
       "    <tr>\n",
       "      <th>mean_squared_error (train.train)</th>\n",
       "      <td>4.511490e+08</td>\n",
       "    </tr>\n",
       "    <tr>\n",
       "      <th>mean_squared_error (train.validation_0)</th>\n",
       "      <td>1.099440e+09</td>\n",
       "    </tr>\n",
       "    <tr>\n",
       "      <th>r2_score (train.train)</th>\n",
       "      <td>9.244000e+01</td>\n",
       "    </tr>\n",
       "    <tr>\n",
       "      <th>r2_score (train.validation_0)</th>\n",
       "      <td>8.567000e+01</td>\n",
       "    </tr>\n",
       "  </tbody>\n",
       "</table>\n",
       "</div>"
      ],
      "text/plain": [
       "                                              model 0\n",
       "mean_squared_error (train.train)         4.511490e+08\n",
       "mean_squared_error (train.validation_0)  1.099440e+09\n",
       "r2_score (train.train)                   9.244000e+01\n",
       "r2_score (train.validation_0)            8.567000e+01"
      ]
     },
     "metadata": {},
     "output_type": "display_data"
    },
    {
     "data": {
      "text/html": [
       "<div>\n",
       "<style scoped>\n",
       "    .dataframe tbody tr th:only-of-type {\n",
       "        vertical-align: middle;\n",
       "    }\n",
       "\n",
       "    .dataframe tbody tr th {\n",
       "        vertical-align: top;\n",
       "    }\n",
       "\n",
       "    .dataframe thead th {\n",
       "        text-align: right;\n",
       "    }\n",
       "</style>\n",
       "<table border=\"1\" class=\"dataframe\">\n",
       "  <thead>\n",
       "    <tr style=\"text-align: right;\">\n",
       "      <th></th>\n",
       "      <th>model 0</th>\n",
       "    </tr>\n",
       "  </thead>\n",
       "  <tbody>\n",
       "    <tr>\n",
       "      <th>mean_squared_error (train)</th>\n",
       "      <td>5.808072e+08</td>\n",
       "    </tr>\n",
       "    <tr>\n",
       "      <th>r2_score (train)</th>\n",
       "      <td>9.079000e+01</td>\n",
       "    </tr>\n",
       "  </tbody>\n",
       "</table>\n",
       "</div>"
      ],
      "text/plain": [
       "                                 model 0\n",
       "mean_squared_error (train)  5.808072e+08\n",
       "r2_score (train)            9.079000e+01"
      ]
     },
     "metadata": {},
     "output_type": "display_data"
    },
    {
     "name": "stdout",
     "output_type": "stream",
     "text": [
      "This is the end of the flow\n"
     ]
    }
   ],
   "source": [
    "model_index_list, save_models_dir, y_test = flow.training(parameters)"
   ]
  },
  {
   "cell_type": "code",
   "execution_count": 14,
   "metadata": {},
   "outputs": [],
   "source": [
    "parameters_lighgbm = {\n",
    "    \"data\": {\n",
    "        \"train\": {\"features\": train_dataframe, \"target\": train_target.to_numpy()},\n",
    "    },\n",
    "    \"split\": {\n",
    "        \"method\": \"kfold\",  # \"method\":\"kfold\"\n",
    "        \"fold_nr\": 5,  # foldnr:5 , \"split_ratios\": 0.2 # \"split_ratios\":(0.3,0.2)\n",
    "    },\n",
    "    \"model\": {\"type\": \"lightgbm\",\n",
    "              \"hyperparameters\": dict(objective='regression', metric='root_mean_squared_error', num_leaves=5,\n",
    "                                      boost_from_average=True,\n",
    "                                      learning_rate=0.05, bagging_fraction=0.99, feature_fraction=0.99, max_depth=-1,\n",
    "                                      num_rounds=10000, min_data_in_leaf=10, boosting='dart')\n",
    "              },\n",
    "    \"metrics\": [\"r2_score\", \"mean_squared_error\"],\n",
    "    \"predict\": {\n",
    "        \"test\": {\"features\": test_dataframe}\n",
    "    }\n",
    "}"
   ]
  },
  {
   "cell_type": "code",
   "execution_count": 15,
   "metadata": {
    "scrolled": false
   },
   "outputs": [
    {
     "name": "stdout",
     "output_type": "stream",
     "text": [
      "shuffle is not provided: 'shuffle'\n",
      "random_state is not provided: 'random_state'\n",
      "fold_nr. 1\n",
      "{'r2_score (train.train)': 98.6, 'mean_squared_error (train.train)': 85407084.72653972, 'r2_score (train.validation)': 89.69, 'mean_squared_error (train.validation)': 735456111.1847914}\n",
      "fold_nr. 2\n",
      "{'r2_score (train.train)': 98.82, 'mean_squared_error (train.train)': 75297508.23059897, 'r2_score (train.validation)': 85.56, 'mean_squared_error (train.validation)': 876638566.3950267}\n",
      "fold_nr. 3\n",
      "{'r2_score (train.train)': 98.81, 'mean_squared_error (train.train)': 76437480.58935387, 'r2_score (train.validation)': 81.49, 'mean_squared_error (train.validation)': 1082012028.1759164}\n",
      "fold_nr. 4\n",
      "{'r2_score (train.train)': 98.7, 'mean_squared_error (train.train)': 80459577.24151137, 'r2_score (train.validation)': 81.24, 'mean_squared_error (train.validation)': 1280155802.525103}\n",
      "fold_nr. 5\n",
      "{'r2_score (train.train)': 98.78, 'mean_squared_error (train.train)': 79321514.48982576, 'r2_score (train.validation)': 88.02, 'mean_squared_error (train.validation)': 673392413.4795401}\n"
     ]
    },
    {
     "data": {
      "text/html": [
       "<div>\n",
       "<style scoped>\n",
       "    .dataframe tbody tr th:only-of-type {\n",
       "        vertical-align: middle;\n",
       "    }\n",
       "\n",
       "    .dataframe tbody tr th {\n",
       "        vertical-align: top;\n",
       "    }\n",
       "\n",
       "    .dataframe thead th {\n",
       "        text-align: right;\n",
       "    }\n",
       "</style>\n",
       "<table border=\"1\" class=\"dataframe\">\n",
       "  <thead>\n",
       "    <tr style=\"text-align: right;\">\n",
       "      <th></th>\n",
       "      <th>fold_1</th>\n",
       "      <th>fold_2</th>\n",
       "      <th>fold_3</th>\n",
       "      <th>fold_4</th>\n",
       "      <th>fold_5</th>\n",
       "      <th>mean</th>\n",
       "    </tr>\n",
       "  </thead>\n",
       "  <tbody>\n",
       "    <tr>\n",
       "      <th>mean_squared_error (train.train)</th>\n",
       "      <td>8.540708e+07</td>\n",
       "      <td>7.529751e+07</td>\n",
       "      <td>7.643748e+07</td>\n",
       "      <td>8.045958e+07</td>\n",
       "      <td>7.932151e+07</td>\n",
       "      <td>7.938463e+07</td>\n",
       "    </tr>\n",
       "    <tr>\n",
       "      <th>mean_squared_error (train.validation)</th>\n",
       "      <td>7.354561e+08</td>\n",
       "      <td>8.766386e+08</td>\n",
       "      <td>1.082012e+09</td>\n",
       "      <td>1.280156e+09</td>\n",
       "      <td>6.733924e+08</td>\n",
       "      <td>9.295310e+08</td>\n",
       "    </tr>\n",
       "    <tr>\n",
       "      <th>r2_score (train.train)</th>\n",
       "      <td>9.860000e+01</td>\n",
       "      <td>9.882000e+01</td>\n",
       "      <td>9.881000e+01</td>\n",
       "      <td>9.870000e+01</td>\n",
       "      <td>9.878000e+01</td>\n",
       "      <td>9.874200e+01</td>\n",
       "    </tr>\n",
       "    <tr>\n",
       "      <th>r2_score (train.validation)</th>\n",
       "      <td>8.969000e+01</td>\n",
       "      <td>8.556000e+01</td>\n",
       "      <td>8.149000e+01</td>\n",
       "      <td>8.124000e+01</td>\n",
       "      <td>8.802000e+01</td>\n",
       "      <td>8.520000e+01</td>\n",
       "    </tr>\n",
       "  </tbody>\n",
       "</table>\n",
       "</div>"
      ],
      "text/plain": [
       "                                             fold_1        fold_2  \\\n",
       "mean_squared_error (train.train)       8.540708e+07  7.529751e+07   \n",
       "mean_squared_error (train.validation)  7.354561e+08  8.766386e+08   \n",
       "r2_score (train.train)                 9.860000e+01  9.882000e+01   \n",
       "r2_score (train.validation)            8.969000e+01  8.556000e+01   \n",
       "\n",
       "                                             fold_3        fold_4  \\\n",
       "mean_squared_error (train.train)       7.643748e+07  8.045958e+07   \n",
       "mean_squared_error (train.validation)  1.082012e+09  1.280156e+09   \n",
       "r2_score (train.train)                 9.881000e+01  9.870000e+01   \n",
       "r2_score (train.validation)            8.149000e+01  8.124000e+01   \n",
       "\n",
       "                                             fold_5          mean  \n",
       "mean_squared_error (train.train)       7.932151e+07  7.938463e+07  \n",
       "mean_squared_error (train.validation)  6.733924e+08  9.295310e+08  \n",
       "r2_score (train.train)                 9.878000e+01  9.874200e+01  \n",
       "r2_score (train.validation)            8.802000e+01  8.520000e+01  "
      ]
     },
     "metadata": {},
     "output_type": "display_data"
    },
    {
     "data": {
      "text/html": [
       "<div>\n",
       "<style scoped>\n",
       "    .dataframe tbody tr th:only-of-type {\n",
       "        vertical-align: middle;\n",
       "    }\n",
       "\n",
       "    .dataframe tbody tr th {\n",
       "        vertical-align: top;\n",
       "    }\n",
       "\n",
       "    .dataframe thead th {\n",
       "        text-align: right;\n",
       "    }\n",
       "</style>\n",
       "<table border=\"1\" class=\"dataframe\">\n",
       "  <thead>\n",
       "    <tr style=\"text-align: right;\">\n",
       "      <th></th>\n",
       "      <th>model 1</th>\n",
       "      <th>model 2</th>\n",
       "      <th>model 3</th>\n",
       "      <th>model 4</th>\n",
       "      <th>model 5</th>\n",
       "      <th>mean</th>\n",
       "    </tr>\n",
       "  </thead>\n",
       "  <tbody>\n",
       "    <tr>\n",
       "      <th>mean_squared_error (train)</th>\n",
       "      <td>2.154169e+08</td>\n",
       "      <td>2.355657e+08</td>\n",
       "      <td>2.775524e+08</td>\n",
       "      <td>3.203988e+08</td>\n",
       "      <td>1.981357e+08</td>\n",
       "      <td>2.494139e+08</td>\n",
       "    </tr>\n",
       "    <tr>\n",
       "      <th>r2_score (train)</th>\n",
       "      <td>9.658000e+01</td>\n",
       "      <td>9.626000e+01</td>\n",
       "      <td>9.560000e+01</td>\n",
       "      <td>9.492000e+01</td>\n",
       "      <td>9.686000e+01</td>\n",
       "      <td>9.604400e+01</td>\n",
       "    </tr>\n",
       "  </tbody>\n",
       "</table>\n",
       "</div>"
      ],
      "text/plain": [
       "                                 model 1       model 2       model 3  \\\n",
       "mean_squared_error (train)  2.154169e+08  2.355657e+08  2.775524e+08   \n",
       "r2_score (train)            9.658000e+01  9.626000e+01  9.560000e+01   \n",
       "\n",
       "                                 model 4       model 5          mean  \n",
       "mean_squared_error (train)  3.203988e+08  1.981357e+08  2.494139e+08  \n",
       "r2_score (train)            9.492000e+01  9.686000e+01  9.604400e+01  "
      ]
     },
     "metadata": {},
     "output_type": "display_data"
    },
    {
     "name": "stdout",
     "output_type": "stream",
     "text": [
      "This is the end of the flow\n"
     ]
    }
   ],
   "source": [
    "model_index_list, save_models_dir, y_test = flow.training(parameters_lighgbm)"
   ]
  },
  {
   "cell_type": "code",
   "execution_count": 16,
   "metadata": {},
   "outputs": [],
   "source": [
    "parameters_xgboost = {\n",
    "    \"data\": {\n",
    "        \"train\": {\"features\": train_dataframe, \"target\": train_target.to_numpy()},\n",
    "    },\n",
    "    \"split\": {\n",
    "        \"method\": \"kfold\",  # \"method\":\"kfold\"\n",
    "        \"fold_nr\": 5,  # fold_nr:5 , \"split_ratios\": 0.3 # \"split_ratios\":(0.3,0.2)\n",
    "    },\n",
    "    \"model\": {\"type\": \"xgboost\",\n",
    "              \"hyperparameters\": {'max_depth': 5, 'eta': 1, 'eval_metric': \"rmse\"}\n",
    "              },\n",
    "    \"metrics\": [\"r2_score\", \"mean_squared_error\"],\n",
    "    \"predict\": {\n",
    "        \"test\": {\"features\": test_dataframe}\n",
    "    }\n",
    "}"
   ]
  },
  {
   "cell_type": "code",
   "execution_count": 17,
   "metadata": {},
   "outputs": [
    {
     "name": "stdout",
     "output_type": "stream",
     "text": [
      "shuffle is not provided: 'shuffle'\n",
      "random_state is not provided: 'random_state'\n",
      "The objective is not defined. The default value is reg:squarederror. Error: 'objective'\n",
      "fold_nr. 1\n",
      "The num_round is not defined. The default value is num_round = 10. Error: 'num_round'\n",
      "[0]\ttrain-rmse:40632.8\ttest-rmse:51489.7\n",
      "[1]\ttrain-rmse:31553\ttest-rmse:46632.6\n",
      "[2]\ttrain-rmse:28335.7\ttest-rmse:44061.5\n",
      "[3]\ttrain-rmse:25816.4\ttest-rmse:45387.2\n",
      "[4]\ttrain-rmse:23930.6\ttest-rmse:45457.9\n",
      "[5]\ttrain-rmse:22649.7\ttest-rmse:44379.5\n",
      "[6]\ttrain-rmse:21681.1\ttest-rmse:44091.1\n",
      "[7]\ttrain-rmse:20877.6\ttest-rmse:44202.4\n",
      "[8]\ttrain-rmse:19857.5\ttest-rmse:44549.4\n",
      "[9]\ttrain-rmse:18202.9\ttest-rmse:44142.4\n",
      "{'r2_score (train.train)': 94.56, 'mean_squared_error (train.train)': 331344493.8129808, 'r2_score (train.validation)': 72.68, 'mean_squared_error (train.validation)': 1948553713.7916}\n",
      "fold_nr. 2\n",
      "The num_round is not defined. The default value is num_round = 10. Error: 'num_round'\n",
      "[0]\ttrain-rmse:43017.9\ttest-rmse:43932.9\n",
      "[1]\ttrain-rmse:31561.7\ttest-rmse:40970.2\n",
      "[2]\ttrain-rmse:28165.2\ttest-rmse:41364.1\n",
      "[3]\ttrain-rmse:24726.5\ttest-rmse:40169.5\n",
      "[4]\ttrain-rmse:23137.3\ttest-rmse:41112.5\n",
      "[5]\ttrain-rmse:21156.9\ttest-rmse:40893.9\n",
      "[6]\ttrain-rmse:19777.4\ttest-rmse:42006.4\n",
      "[7]\ttrain-rmse:18778.8\ttest-rmse:42236.9\n",
      "[8]\ttrain-rmse:17867.5\ttest-rmse:42242.7\n",
      "[9]\ttrain-rmse:17371.2\ttest-rmse:42917.5\n",
      "{'r2_score (train.train)': 95.26, 'mean_squared_error (train.train)': 301758700.8331464, 'r2_score (train.validation)': 69.65, 'mean_squared_error (train.validation)': 1841913092.26344}\n",
      "fold_nr. 3\n",
      "The num_round is not defined. The default value is num_round = 10. Error: 'num_round'\n",
      "[0]\ttrain-rmse:41492.8\ttest-rmse:46185.6\n",
      "[1]\ttrain-rmse:32876.5\ttest-rmse:43020.9\n",
      "[2]\ttrain-rmse:29208.4\ttest-rmse:40720.4\n",
      "[3]\ttrain-rmse:25849\ttest-rmse:40872.9\n",
      "[4]\ttrain-rmse:24047.5\ttest-rmse:40983\n",
      "[5]\ttrain-rmse:22122.8\ttest-rmse:41198.9\n",
      "[6]\ttrain-rmse:20093.4\ttest-rmse:41286.8\n",
      "[7]\ttrain-rmse:18764.8\ttest-rmse:42006\n",
      "[8]\ttrain-rmse:18274\ttest-rmse:41833\n",
      "[9]\ttrain-rmse:16893\ttest-rmse:42303.3\n",
      "{'r2_score (train.train)': 95.55, 'mean_squared_error (train.train)': 285372880.2661118, 'r2_score (train.validation)': 69.38, 'mean_squared_error (train.validation)': 1789568391.943278}\n",
      "fold_nr. 4\n",
      "The num_round is not defined. The default value is num_round = 10. Error: 'num_round'\n",
      "[0]\ttrain-rmse:41576.4\ttest-rmse:52105.8\n",
      "[1]\ttrain-rmse:32949.1\ttest-rmse:47873.3\n",
      "[2]\ttrain-rmse:28590.8\ttest-rmse:43968.7\n",
      "[3]\ttrain-rmse:27155.6\ttest-rmse:43293.6\n",
      "[4]\ttrain-rmse:25787.4\ttest-rmse:42973.1\n",
      "[5]\ttrain-rmse:23016.3\ttest-rmse:42327.7\n",
      "[6]\ttrain-rmse:21573.4\ttest-rmse:41255.5\n",
      "[7]\ttrain-rmse:20033.1\ttest-rmse:40777.5\n",
      "[8]\ttrain-rmse:19389.7\ttest-rmse:40737.2\n",
      "[9]\ttrain-rmse:18319.1\ttest-rmse:40754.8\n",
      "{'r2_score (train.train)': 94.57, 'mean_squared_error (train.train)': 335591215.5496604, 'r2_score (train.validation)': 75.66, 'mean_squared_error (train.validation)': 1660957699.435293}\n",
      "fold_nr. 5\n",
      "The num_round is not defined. The default value is num_round = 10. Error: 'num_round'\n",
      "[0]\ttrain-rmse:42779.2\ttest-rmse:42579\n",
      "[1]\ttrain-rmse:33227.3\ttest-rmse:40324.1\n",
      "[2]\ttrain-rmse:29597.4\ttest-rmse:38645.5\n",
      "[3]\ttrain-rmse:26550.4\ttest-rmse:38023.2\n",
      "[4]\ttrain-rmse:24786.8\ttest-rmse:37763\n",
      "[5]\ttrain-rmse:23707.5\ttest-rmse:37263\n",
      "[6]\ttrain-rmse:22567.1\ttest-rmse:37044.5\n",
      "[7]\ttrain-rmse:21038.9\ttest-rmse:36736.5\n",
      "[8]\ttrain-rmse:19758\ttest-rmse:37546.3\n",
      "[9]\ttrain-rmse:19088.7\ttest-rmse:38094.6\n",
      "{'r2_score (train.train)': 94.38, 'mean_squared_error (train.train)': 364377035.7829847, 'r2_score (train.validation)': 74.18, 'mean_squared_error (train.validation)': 1451201854.7691405}\n"
     ]
    },
    {
     "data": {
      "text/html": [
       "<div>\n",
       "<style scoped>\n",
       "    .dataframe tbody tr th:only-of-type {\n",
       "        vertical-align: middle;\n",
       "    }\n",
       "\n",
       "    .dataframe tbody tr th {\n",
       "        vertical-align: top;\n",
       "    }\n",
       "\n",
       "    .dataframe thead th {\n",
       "        text-align: right;\n",
       "    }\n",
       "</style>\n",
       "<table border=\"1\" class=\"dataframe\">\n",
       "  <thead>\n",
       "    <tr style=\"text-align: right;\">\n",
       "      <th></th>\n",
       "      <th>fold_1</th>\n",
       "      <th>fold_2</th>\n",
       "      <th>fold_3</th>\n",
       "      <th>fold_4</th>\n",
       "      <th>fold_5</th>\n",
       "      <th>mean</th>\n",
       "    </tr>\n",
       "  </thead>\n",
       "  <tbody>\n",
       "    <tr>\n",
       "      <th>mean_squared_error (train.train)</th>\n",
       "      <td>3.313445e+08</td>\n",
       "      <td>3.017587e+08</td>\n",
       "      <td>2.853729e+08</td>\n",
       "      <td>3.355912e+08</td>\n",
       "      <td>3.643770e+08</td>\n",
       "      <td>3.236889e+08</td>\n",
       "    </tr>\n",
       "    <tr>\n",
       "      <th>mean_squared_error (train.validation)</th>\n",
       "      <td>1.948554e+09</td>\n",
       "      <td>1.841913e+09</td>\n",
       "      <td>1.789568e+09</td>\n",
       "      <td>1.660958e+09</td>\n",
       "      <td>1.451202e+09</td>\n",
       "      <td>1.738439e+09</td>\n",
       "    </tr>\n",
       "    <tr>\n",
       "      <th>r2_score (train.train)</th>\n",
       "      <td>9.456000e+01</td>\n",
       "      <td>9.526000e+01</td>\n",
       "      <td>9.555000e+01</td>\n",
       "      <td>9.457000e+01</td>\n",
       "      <td>9.438000e+01</td>\n",
       "      <td>9.486400e+01</td>\n",
       "    </tr>\n",
       "    <tr>\n",
       "      <th>r2_score (train.validation)</th>\n",
       "      <td>7.268000e+01</td>\n",
       "      <td>6.965000e+01</td>\n",
       "      <td>6.938000e+01</td>\n",
       "      <td>7.566000e+01</td>\n",
       "      <td>7.418000e+01</td>\n",
       "      <td>7.231000e+01</td>\n",
       "    </tr>\n",
       "  </tbody>\n",
       "</table>\n",
       "</div>"
      ],
      "text/plain": [
       "                                             fold_1        fold_2  \\\n",
       "mean_squared_error (train.train)       3.313445e+08  3.017587e+08   \n",
       "mean_squared_error (train.validation)  1.948554e+09  1.841913e+09   \n",
       "r2_score (train.train)                 9.456000e+01  9.526000e+01   \n",
       "r2_score (train.validation)            7.268000e+01  6.965000e+01   \n",
       "\n",
       "                                             fold_3        fold_4  \\\n",
       "mean_squared_error (train.train)       2.853729e+08  3.355912e+08   \n",
       "mean_squared_error (train.validation)  1.789568e+09  1.660958e+09   \n",
       "r2_score (train.train)                 9.555000e+01  9.457000e+01   \n",
       "r2_score (train.validation)            6.938000e+01  7.566000e+01   \n",
       "\n",
       "                                             fold_5          mean  \n",
       "mean_squared_error (train.train)       3.643770e+08  3.236889e+08  \n",
       "mean_squared_error (train.validation)  1.451202e+09  1.738439e+09  \n",
       "r2_score (train.train)                 9.438000e+01  9.486400e+01  \n",
       "r2_score (train.validation)            7.418000e+01  7.231000e+01  "
      ]
     },
     "metadata": {},
     "output_type": "display_data"
    },
    {
     "data": {
      "text/html": [
       "<div>\n",
       "<style scoped>\n",
       "    .dataframe tbody tr th:only-of-type {\n",
       "        vertical-align: middle;\n",
       "    }\n",
       "\n",
       "    .dataframe tbody tr th {\n",
       "        vertical-align: top;\n",
       "    }\n",
       "\n",
       "    .dataframe thead th {\n",
       "        text-align: right;\n",
       "    }\n",
       "</style>\n",
       "<table border=\"1\" class=\"dataframe\">\n",
       "  <thead>\n",
       "    <tr style=\"text-align: right;\">\n",
       "      <th></th>\n",
       "      <th>model 1</th>\n",
       "      <th>model 2</th>\n",
       "      <th>model 3</th>\n",
       "      <th>model 4</th>\n",
       "      <th>model 5</th>\n",
       "      <th>mean</th>\n",
       "    </tr>\n",
       "  </thead>\n",
       "  <tbody>\n",
       "    <tr>\n",
       "      <th>mean_squared_error (train)</th>\n",
       "      <td>6.547863e+08</td>\n",
       "      <td>6.097896e+08</td>\n",
       "      <td>5.862120e+08</td>\n",
       "      <td>6.006645e+08</td>\n",
       "      <td>5.817420e+08</td>\n",
       "      <td>6.066389e+08</td>\n",
       "    </tr>\n",
       "    <tr>\n",
       "      <th>r2_score (train)</th>\n",
       "      <td>8.962000e+01</td>\n",
       "      <td>9.033000e+01</td>\n",
       "      <td>9.071000e+01</td>\n",
       "      <td>9.048000e+01</td>\n",
       "      <td>9.078000e+01</td>\n",
       "      <td>9.038400e+01</td>\n",
       "    </tr>\n",
       "  </tbody>\n",
       "</table>\n",
       "</div>"
      ],
      "text/plain": [
       "                                 model 1       model 2       model 3  \\\n",
       "mean_squared_error (train)  6.547863e+08  6.097896e+08  5.862120e+08   \n",
       "r2_score (train)            8.962000e+01  9.033000e+01  9.071000e+01   \n",
       "\n",
       "                                 model 4       model 5          mean  \n",
       "mean_squared_error (train)  6.006645e+08  5.817420e+08  6.066389e+08  \n",
       "r2_score (train)            9.048000e+01  9.078000e+01  9.038400e+01  "
      ]
     },
     "metadata": {},
     "output_type": "display_data"
    },
    {
     "name": "stdout",
     "output_type": "stream",
     "text": [
      "This is the end of the flow\n"
     ]
    }
   ],
   "source": [
    "model_index_list, save_models_dir, y_test = flow.training(parameters_xgboost)"
   ]
  },
  {
   "cell_type": "code",
   "execution_count": null,
   "metadata": {},
   "outputs": [],
   "source": []
  }
 ],
 "metadata": {
  "kernelspec": {
   "display_name": "ml-nav",
   "language": "python",
   "name": "ml-nav"
  },
  "language_info": {
   "codemirror_mode": {
    "name": "ipython",
    "version": 3
   },
   "file_extension": ".py",
   "mimetype": "text/x-python",
   "name": "python",
   "nbconvert_exporter": "python",
   "pygments_lexer": "ipython3",
   "version": "3.6.9"
  }
 },
 "nbformat": 4,
 "nbformat_minor": 2
}
