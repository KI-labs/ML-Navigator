{
 "cells": [
  {
   "cell_type": "code",
   "execution_count": 1,
   "metadata": {},
   "outputs": [],
   "source": [
    "import os"
   ]
  },
  {
   "cell_type": "code",
   "execution_count": 2,
   "metadata": {},
   "outputs": [],
   "source": [
    "os.chdir('..')"
   ]
  },
  {
   "cell_type": "markdown",
   "metadata": {},
   "source": [
    "<img src=\"flow_0.png\">"
   ]
  },
  {
   "cell_type": "code",
   "execution_count": 3,
   "metadata": {},
   "outputs": [
    {
     "name": "stdout",
     "output_type": "stream",
     "text": [
      "\u001b[1m\u001b[35mWelcome to the Data Science Package. First create an object as follows:\u001b[m\u001b[m\n",
      "\u001b[1m\u001b[35mFor example, use the code below to import the flow 0:\u001b[m\u001b[m\n",
      "\u001b[32m\u001b[40mflow = Flows(0)\u001b[m\n",
      "\u001b[1m\u001b[35mYou can define the `categorical_threshold` which is the maximum number of categories that a categorical feature should have before considering it as continuous numeric feature. The default value is 50\u001b[m\u001b[m\n",
      "\u001b[1m\u001b[35mFor example, use the code below to import the flow 0 with defining the categorical_threshold as 50\u001b[m\u001b[m\n",
      "\u001b[32m\u001b[40mflow = Flows(flow_id=0, categorical_threshold=50)\u001b[m\n"
     ]
    }
   ],
   "source": [
    "import numpy as np\n",
    "from flows.flows import Flows"
   ]
  },
  {
   "cell_type": "code",
   "execution_count": 4,
   "metadata": {},
   "outputs": [
    {
     "name": "stdout",
     "output_type": "stream",
     "text": [
      "\u001b[1m\u001b[35mPlease use the following function to read the data\u001b[m\u001b[m\n",
      "\u001b[32m\u001b[40mdataframe_dict, columns_set = flow.load_data(path : str, files_list : list)\u001b[m\n",
      "\u001b[1m\u001b[35mFor example: \u001b[m\u001b[32m\u001b[40mpath = ./data\u001b[m\u001b[m\n",
      "\u001b[1m\u001b[35mIf your data is in a nested directory, it is better to os.path.join. For example:\n",
      "\u001b[m\u001b[32m\u001b[40mpath = os.path.join('data', 'flow_0')\u001b[m\u001b[m\n",
      "\u001b[1m\u001b[35mFor example: \u001b[m\u001b[32m\u001b[40mfiles_list = ['train.csv','test.csv']\u001b[m\u001b[m\n",
      "\u001b[1m\u001b[35mThe output is a dictionary that contains dataframes e.g.\n",
      "\u001b[m\u001b[m\n",
      "\u001b[34mdataframe_dict = {'train': train_dataframe,'test': test_dataframe}\u001b[m\n",
      "\u001b[1m\u001b[35mIf you want to explore the data you can run one of the following functions: \u001b[m\u001b[m\n",
      "\u001b[1m\u001b[35m1 . \u001b[m\u001b[32m\u001b[40mflow.exploring_data(dataframe_dict: dict, key_i: str)\u001b[m\u001b[m\n",
      "\u001b[1m\u001b[35mFor example: \u001b[m\u001b[32m\u001b[40mflow.exploring_data(dataframe_dict, 'train')\u001b[m\u001b[m\n",
      "\u001b[1m\u001b[35m2 . \u001b[m\u001b[32m\u001b[40mflow.comparing_statistics(dataframe_dict: dict)\u001b[m\u001b[m\n",
      "\u001b[1m\u001b[35mFor example: \u001b[m\u001b[32m\u001b[40mflow.comparing_statistics(dataframe_dict)\u001b[m\u001b[m\n",
      "\n",
      "\n"
     ]
    }
   ],
   "source": [
    "flow = Flows(flow_id=0, categorical_threshold=10)"
   ]
  },
  {
   "cell_type": "code",
   "execution_count": 5,
   "metadata": {},
   "outputs": [],
   "source": [
    "path = os.path.join('data','flow_0')\n",
    "files_list = [\"train.csv\",\"test.csv\"]"
   ]
  },
  {
   "cell_type": "code",
   "execution_count": 6,
   "metadata": {},
   "outputs": [
    {
     "name": "stdout",
     "output_type": "stream",
     "text": [
      "A summary of the data sets\n"
     ]
    },
    {
     "data": {
      "text/html": [
       "<div>\n",
       "<style scoped>\n",
       "    .dataframe tbody tr th:only-of-type {\n",
       "        vertical-align: middle;\n",
       "    }\n",
       "\n",
       "    .dataframe tbody tr th {\n",
       "        vertical-align: top;\n",
       "    }\n",
       "\n",
       "    .dataframe thead th {\n",
       "        text-align: right;\n",
       "    }\n",
       "</style>\n",
       "<table border=\"1\" class=\"dataframe\">\n",
       "  <thead>\n",
       "    <tr style=\"text-align: right;\">\n",
       "      <th></th>\n",
       "      <th>train</th>\n",
       "      <th>test</th>\n",
       "    </tr>\n",
       "    <tr>\n",
       "      <th>column type</th>\n",
       "      <th></th>\n",
       "      <th></th>\n",
       "    </tr>\n",
       "  </thead>\n",
       "  <tbody>\n",
       "    <tr>\n",
       "      <th>categorical_integer</th>\n",
       "      <td>12</td>\n",
       "      <td>12</td>\n",
       "    </tr>\n",
       "    <tr>\n",
       "      <th>categorical_string</th>\n",
       "      <td>43</td>\n",
       "      <td>43</td>\n",
       "    </tr>\n",
       "    <tr>\n",
       "      <th>continuous</th>\n",
       "      <td>26</td>\n",
       "      <td>25</td>\n",
       "    </tr>\n",
       "    <tr>\n",
       "      <th>date</th>\n",
       "      <td>0</td>\n",
       "      <td>0</td>\n",
       "    </tr>\n",
       "    <tr>\n",
       "      <th>json</th>\n",
       "      <td>0</td>\n",
       "      <td>0</td>\n",
       "    </tr>\n",
       "    <tr>\n",
       "      <th>other</th>\n",
       "      <td>0</td>\n",
       "      <td>0</td>\n",
       "    </tr>\n",
       "    <tr>\n",
       "      <th>total amount</th>\n",
       "      <td>81</td>\n",
       "      <td>80</td>\n",
       "    </tr>\n",
       "  </tbody>\n",
       "</table>\n",
       "</div>"
      ],
      "text/plain": [
       "                     train  test\n",
       "column type                     \n",
       "categorical_integer     12    12\n",
       "categorical_string      43    43\n",
       "continuous              26    25\n",
       "date                     0     0\n",
       "json                     0     0\n",
       "other                    0     0\n",
       "total amount            81    80"
      ]
     },
     "metadata": {},
     "output_type": "display_data"
    },
    {
     "name": "stdout",
     "output_type": "stream",
     "text": [
      "\u001b[1mNOTE: numeric categorical columns that contains more than 10 classes are considered numeric continuous features.\u001b[0;0m\n",
      "\u001b[1mNOTE: You can modify the threshold value if you want to consider more or less numeric categorical features as numeric continuous features.\u001b[0;0m\n",
      "The possible ids are {'Id'}\n",
      "The possible possible_target are ['SalePrice']\n",
      "The type of the problem that should be solved {'SalePrice': 'regression'}\n",
      "\u001b[1m\u001b[35mIf you have categorical features with string labels, Encode the categorical features by applying the following function:\n",
      "\u001b[m\u001b[32m\u001b[40mdataframe_dict, columns_set = flow.encode_categorical_feature(dataframe_dict: dict)\u001b[m\u001b[m\n"
     ]
    }
   ],
   "source": [
    "dataframe_dict, columns_set = flow.load_data(path, files_list)"
   ]
  },
  {
   "cell_type": "code",
   "execution_count": 7,
   "metadata": {},
   "outputs": [
    {
     "data": {
      "text/plain": [
       "{'train': {'categorical_string': ['MSZoning',\n",
       "   'Street',\n",
       "   'Alley',\n",
       "   'LotShape',\n",
       "   'LandContour',\n",
       "   'Utilities',\n",
       "   'LotConfig',\n",
       "   'LandSlope',\n",
       "   'Neighborhood',\n",
       "   'Condition1',\n",
       "   'Condition2',\n",
       "   'BldgType',\n",
       "   'HouseStyle',\n",
       "   'RoofStyle',\n",
       "   'RoofMatl',\n",
       "   'Exterior1st',\n",
       "   'Exterior2nd',\n",
       "   'MasVnrType',\n",
       "   'ExterQual',\n",
       "   'ExterCond',\n",
       "   'Foundation',\n",
       "   'BsmtQual',\n",
       "   'BsmtCond',\n",
       "   'BsmtExposure',\n",
       "   'BsmtFinType1',\n",
       "   'BsmtFinType2',\n",
       "   'Heating',\n",
       "   'HeatingQC',\n",
       "   'CentralAir',\n",
       "   'Electrical',\n",
       "   'KitchenQual',\n",
       "   'Functional',\n",
       "   'FireplaceQu',\n",
       "   'GarageType',\n",
       "   'GarageFinish',\n",
       "   'GarageQual',\n",
       "   'GarageCond',\n",
       "   'PavedDrive',\n",
       "   'PoolQC',\n",
       "   'Fence',\n",
       "   'MiscFeature',\n",
       "   'SaleType',\n",
       "   'SaleCondition'],\n",
       "  'categorical_integer': ['OverallQual',\n",
       "   'OverallCond',\n",
       "   'BsmtFullBath',\n",
       "   'BsmtHalfBath',\n",
       "   'FullBath',\n",
       "   'HalfBath',\n",
       "   'BedroomAbvGr',\n",
       "   'KitchenAbvGr',\n",
       "   'Fireplaces',\n",
       "   'GarageCars',\n",
       "   'PoolArea',\n",
       "   'YrSold'],\n",
       "  'continuous': ['Id',\n",
       "   'MSSubClass',\n",
       "   'LotFrontage',\n",
       "   'LotArea',\n",
       "   'YearBuilt',\n",
       "   'YearRemodAdd',\n",
       "   'MasVnrArea',\n",
       "   'BsmtFinSF1',\n",
       "   'BsmtFinSF2',\n",
       "   'BsmtUnfSF',\n",
       "   'TotalBsmtSF',\n",
       "   '1stFlrSF',\n",
       "   '2ndFlrSF',\n",
       "   'LowQualFinSF',\n",
       "   'GrLivArea',\n",
       "   'TotRmsAbvGrd',\n",
       "   'GarageYrBlt',\n",
       "   'GarageArea',\n",
       "   'WoodDeckSF',\n",
       "   'OpenPorchSF',\n",
       "   'EnclosedPorch',\n",
       "   '3SsnPorch',\n",
       "   'ScreenPorch',\n",
       "   'MiscVal',\n",
       "   'MoSold',\n",
       "   'SalePrice'],\n",
       "  'date': [],\n",
       "  'json': [],\n",
       "  'other': []},\n",
       " 'test': {'categorical_string': ['MSZoning',\n",
       "   'Street',\n",
       "   'Alley',\n",
       "   'LotShape',\n",
       "   'LandContour',\n",
       "   'Utilities',\n",
       "   'LotConfig',\n",
       "   'LandSlope',\n",
       "   'Neighborhood',\n",
       "   'Condition1',\n",
       "   'Condition2',\n",
       "   'BldgType',\n",
       "   'HouseStyle',\n",
       "   'RoofStyle',\n",
       "   'RoofMatl',\n",
       "   'Exterior1st',\n",
       "   'Exterior2nd',\n",
       "   'MasVnrType',\n",
       "   'ExterQual',\n",
       "   'ExterCond',\n",
       "   'Foundation',\n",
       "   'BsmtQual',\n",
       "   'BsmtCond',\n",
       "   'BsmtExposure',\n",
       "   'BsmtFinType1',\n",
       "   'BsmtFinType2',\n",
       "   'Heating',\n",
       "   'HeatingQC',\n",
       "   'CentralAir',\n",
       "   'Electrical',\n",
       "   'KitchenQual',\n",
       "   'Functional',\n",
       "   'FireplaceQu',\n",
       "   'GarageType',\n",
       "   'GarageFinish',\n",
       "   'GarageQual',\n",
       "   'GarageCond',\n",
       "   'PavedDrive',\n",
       "   'PoolQC',\n",
       "   'Fence',\n",
       "   'MiscFeature',\n",
       "   'SaleType',\n",
       "   'SaleCondition'],\n",
       "  'categorical_integer': ['OverallQual',\n",
       "   'OverallCond',\n",
       "   'BsmtFullBath',\n",
       "   'BsmtHalfBath',\n",
       "   'FullBath',\n",
       "   'HalfBath',\n",
       "   'BedroomAbvGr',\n",
       "   'KitchenAbvGr',\n",
       "   'Fireplaces',\n",
       "   'GarageCars',\n",
       "   'PoolArea',\n",
       "   'YrSold'],\n",
       "  'continuous': ['Id',\n",
       "   'MSSubClass',\n",
       "   'LotFrontage',\n",
       "   'LotArea',\n",
       "   'YearBuilt',\n",
       "   'YearRemodAdd',\n",
       "   'MasVnrArea',\n",
       "   'BsmtFinSF1',\n",
       "   'BsmtFinSF2',\n",
       "   'BsmtUnfSF',\n",
       "   'TotalBsmtSF',\n",
       "   '1stFlrSF',\n",
       "   '2ndFlrSF',\n",
       "   'LowQualFinSF',\n",
       "   'GrLivArea',\n",
       "   'TotRmsAbvGrd',\n",
       "   'GarageYrBlt',\n",
       "   'GarageArea',\n",
       "   'WoodDeckSF',\n",
       "   'OpenPorchSF',\n",
       "   'EnclosedPorch',\n",
       "   '3SsnPorch',\n",
       "   'ScreenPorch',\n",
       "   'MiscVal',\n",
       "   'MoSold'],\n",
       "  'date': [],\n",
       "  'json': [],\n",
       "  'other': []}}"
      ]
     },
     "execution_count": 7,
     "metadata": {},
     "output_type": "execute_result"
    }
   ],
   "source": [
    " columns_set"
   ]
  },
  {
   "cell_type": "code",
   "execution_count": 8,
   "metadata": {},
   "outputs": [
    {
     "name": "stdout",
     "output_type": "stream",
     "text": [
      "The reference dataframe is: train\n",
      "\u001b[31m******************************\u001b[m\n",
      "A summary of the data sets\n"
     ]
    },
    {
     "data": {
      "text/html": [
       "<div>\n",
       "<style scoped>\n",
       "    .dataframe tbody tr th:only-of-type {\n",
       "        vertical-align: middle;\n",
       "    }\n",
       "\n",
       "    .dataframe tbody tr th {\n",
       "        vertical-align: top;\n",
       "    }\n",
       "\n",
       "    .dataframe thead th {\n",
       "        text-align: right;\n",
       "    }\n",
       "</style>\n",
       "<table border=\"1\" class=\"dataframe\">\n",
       "  <thead>\n",
       "    <tr style=\"text-align: right;\">\n",
       "      <th></th>\n",
       "      <th>train</th>\n",
       "      <th>test</th>\n",
       "    </tr>\n",
       "    <tr>\n",
       "      <th>column type</th>\n",
       "      <th></th>\n",
       "      <th></th>\n",
       "    </tr>\n",
       "  </thead>\n",
       "  <tbody>\n",
       "    <tr>\n",
       "      <th>categorical_integer</th>\n",
       "      <td>52</td>\n",
       "      <td>52</td>\n",
       "    </tr>\n",
       "    <tr>\n",
       "      <th>categorical_string</th>\n",
       "      <td>0</td>\n",
       "      <td>0</td>\n",
       "    </tr>\n",
       "    <tr>\n",
       "      <th>continuous</th>\n",
       "      <td>29</td>\n",
       "      <td>28</td>\n",
       "    </tr>\n",
       "    <tr>\n",
       "      <th>date</th>\n",
       "      <td>0</td>\n",
       "      <td>0</td>\n",
       "    </tr>\n",
       "    <tr>\n",
       "      <th>json</th>\n",
       "      <td>0</td>\n",
       "      <td>0</td>\n",
       "    </tr>\n",
       "    <tr>\n",
       "      <th>other</th>\n",
       "      <td>0</td>\n",
       "      <td>0</td>\n",
       "    </tr>\n",
       "    <tr>\n",
       "      <th>total amount</th>\n",
       "      <td>81</td>\n",
       "      <td>80</td>\n",
       "    </tr>\n",
       "  </tbody>\n",
       "</table>\n",
       "</div>"
      ],
      "text/plain": [
       "                     train  test\n",
       "column type                     \n",
       "categorical_integer     52    52\n",
       "categorical_string       0     0\n",
       "continuous              29    28\n",
       "date                     0     0\n",
       "json                     0     0\n",
       "other                    0     0\n",
       "total amount            81    80"
      ]
     },
     "metadata": {},
     "output_type": "display_data"
    },
    {
     "name": "stdout",
     "output_type": "stream",
     "text": [
      "\u001b[1mNOTE: numeric categorical columns that contains more than 10 classes are considered numeric continuous features.\u001b[0;0m\n",
      "\u001b[1mNOTE: You can modify the threshold value if you want to consider more or less numeric categorical features as numeric continuous features.\u001b[0;0m\n",
      "\u001b[1m\u001b[35mIf you have numeric features, it is a good idea to normalize numeric features.Use the following function for feature normalization:\n",
      "\u001b[m\u001b[32m\u001b[40m dataframe_dict, columns_set = flow.scale_data (dataframe_dict: dict, ignore_columns: list)\u001b[m\u001b[m\n",
      "\u001b[1m\u001b[35mFor example: \u001b[m\u001b[32m\u001b[40mignore_columns = ['id', 'target']\u001b[m\u001b[m\n"
     ]
    }
   ],
   "source": [
    "dataframe_dict, columns_set = flow.encode_categorical_feature(dataframe_dict)"
   ]
  },
  {
   "cell_type": "code",
   "execution_count": 9,
   "metadata": {},
   "outputs": [],
   "source": [
    "ignore_columns = ['Id', 'SalePrice']"
   ]
  },
  {
   "cell_type": "code",
   "execution_count": 10,
   "metadata": {},
   "outputs": [
    {
     "name": "stdout",
     "output_type": "stream",
     "text": [
      "A summary of the data sets\n"
     ]
    },
    {
     "data": {
      "text/html": [
       "<div>\n",
       "<style scoped>\n",
       "    .dataframe tbody tr th:only-of-type {\n",
       "        vertical-align: middle;\n",
       "    }\n",
       "\n",
       "    .dataframe tbody tr th {\n",
       "        vertical-align: top;\n",
       "    }\n",
       "\n",
       "    .dataframe thead th {\n",
       "        text-align: right;\n",
       "    }\n",
       "</style>\n",
       "<table border=\"1\" class=\"dataframe\">\n",
       "  <thead>\n",
       "    <tr style=\"text-align: right;\">\n",
       "      <th></th>\n",
       "      <th>train</th>\n",
       "      <th>test</th>\n",
       "    </tr>\n",
       "    <tr>\n",
       "      <th>column type</th>\n",
       "      <th></th>\n",
       "      <th></th>\n",
       "    </tr>\n",
       "  </thead>\n",
       "  <tbody>\n",
       "    <tr>\n",
       "      <th>categorical_integer</th>\n",
       "      <td>52</td>\n",
       "      <td>52</td>\n",
       "    </tr>\n",
       "    <tr>\n",
       "      <th>categorical_string</th>\n",
       "      <td>0</td>\n",
       "      <td>0</td>\n",
       "    </tr>\n",
       "    <tr>\n",
       "      <th>continuous</th>\n",
       "      <td>29</td>\n",
       "      <td>28</td>\n",
       "    </tr>\n",
       "    <tr>\n",
       "      <th>date</th>\n",
       "      <td>0</td>\n",
       "      <td>0</td>\n",
       "    </tr>\n",
       "    <tr>\n",
       "      <th>json</th>\n",
       "      <td>0</td>\n",
       "      <td>0</td>\n",
       "    </tr>\n",
       "    <tr>\n",
       "      <th>other</th>\n",
       "      <td>0</td>\n",
       "      <td>0</td>\n",
       "    </tr>\n",
       "    <tr>\n",
       "      <th>total amount</th>\n",
       "      <td>81</td>\n",
       "      <td>80</td>\n",
       "    </tr>\n",
       "  </tbody>\n",
       "</table>\n",
       "</div>"
      ],
      "text/plain": [
       "                     train  test\n",
       "column type                     \n",
       "categorical_integer     52    52\n",
       "categorical_string       0     0\n",
       "continuous              29    28\n",
       "date                     0     0\n",
       "json                     0     0\n",
       "other                    0     0\n",
       "total amount            81    80"
      ]
     },
     "metadata": {},
     "output_type": "display_data"
    },
    {
     "name": "stdout",
     "output_type": "stream",
     "text": [
      "\u001b[1mNOTE: numeric categorical columns that contains more than 10 classes are considered numeric continuous features.\u001b[0;0m\n",
      "\u001b[1mNOTE: You can modify the threshold value if you want to consider more or less numeric categorical features as numeric continuous features.\u001b[0;0m\n",
      "\u001b[1m\u001b[35mIf you want to explore the data you can run one of the following functions: \u001b[m\u001b[m\n",
      "\u001b[1m\u001b[35m1 . \u001b[m\u001b[32m\u001b[40mflow.exploring_data(dataframe_dict: dict, key_i: str)\u001b[m\u001b[m\n",
      "\u001b[1m\u001b[35mFor example: \u001b[m\u001b[32m\u001b[40mflow.exploring_data(dataframe_dict, 'train')\u001b[m\u001b[m\n",
      "\u001b[1m\u001b[35m2 . \u001b[m\u001b[32m\u001b[40mflow.comparing_statistics(dataframe_dict: dict)\u001b[m\u001b[m\n",
      "\u001b[1m\u001b[35mFor example: \u001b[m\u001b[32m\u001b[40mflow.comparing_statistics(dataframe_dict)\u001b[m\u001b[m\n",
      "\n",
      "\n",
      "\u001b[1m\u001b[35mYour features are ready to train the model: \u001b[m\u001b[m\n",
      "\u001b[1m\u001b[35mYou can start training the model by applying the following function: \u001b[m\u001b[m\n",
      "\u001b[32m\u001b[40mmodel_index_list, save_models_dir, y_test = flow.training(parameters)\u001b[m\n",
      "parameters = {\n",
      "     \"data\": {\n",
      "         \"train\": {\"features\": train_dataframe, \"target\": train_target}, \n",
      "         \"valid\": {\"features\": valid_dataframe, \"target\": valid_target}, \n",
      "         \"test\": {\"features\": test_dataframe, \"target\": test_target}, \n",
      "     }, \n",
      "     \"split\": {\n",
      "         \"method\": \"split\",\n",
      "         \"split_ratios\": 0.2\n",
      "         }, \n",
      "      \"model\": {\"type\": \"Ridge linear regression\",\n",
      "               \"hyperparameters\": {\"alpha\": 1,  # alpha:optimize}\n",
      "             }, \n",
      "      \"metrics\": [\"r2_score\", \"mean_squared_error\"]\n",
      "}\n"
     ]
    }
   ],
   "source": [
    "dataframe_dict, columns_set = flow.scale_data(dataframe_dict, ignore_columns)"
   ]
  },
  {
   "cell_type": "code",
   "execution_count": 11,
   "metadata": {},
   "outputs": [
    {
     "data": {
      "application/vnd.jupyter.widget-view+json": {
       "model_id": "2b84767dfeb44ef0a826e4c5e653c42a",
       "version_major": 2,
       "version_minor": 0
      },
      "text/plain": [
       "interactive(children=(IntSlider(value=0, description='column_i', max=80), Output()), _dom_classes=('widget-int…"
      ]
     },
     "metadata": {},
     "output_type": "display_data"
    }
   ],
   "source": [
    "flow.exploring_data(dataframe_dict, \"train\")"
   ]
  },
  {
   "cell_type": "code",
   "execution_count": 12,
   "metadata": {},
   "outputs": [
    {
     "data": {
      "application/vnd.jupyter.widget-view+json": {
       "model_id": "eda594728b334367b95ab62a9fa538d6",
       "version_major": 2,
       "version_minor": 0
      },
      "text/plain": [
       "interactive(children=(IntSlider(value=0, description='feature_nr', max=80), Output()), _dom_classes=('widget-i…"
      ]
     },
     "metadata": {},
     "output_type": "display_data"
    }
   ],
   "source": [
    "flow.comparing_statistics(dataframe_dict)"
   ]
  },
  {
   "cell_type": "code",
   "execution_count": 13,
   "metadata": {},
   "outputs": [],
   "source": [
    "ignore_columns = [\"Id\", \"SalePrice\"]\n",
    "columns = dataframe_dict[\"train\"].columns\n",
    "train_dataframe = dataframe_dict[\"train\"][[x for x in columns_set[\"train\"][\"continuous\"] if x not in ignore_columns]]\n",
    "test_dataframe = dataframe_dict[\"test\"][[x for x in columns_set[\"train\"][\"continuous\"] if x not in ignore_columns]]\n",
    "train_target = dataframe_dict[\"train\"][\"SalePrice\"]"
   ]
  },
  {
   "cell_type": "code",
   "execution_count": 14,
   "metadata": {},
   "outputs": [],
   "source": [
    "parameters = {\n",
    "    \"data\": {\n",
    "        \"train\": {\"features\": train_dataframe, \"target\": train_target.to_numpy()},\n",
    "    },\n",
    "    \"split\": {\n",
    "        \"method\": \"kfold\",  # \"method\":\"kfold\"\n",
    "        \"fold_nr\": 5,  # fold_nr:5 , \"split_ratios\": 0.3 # \"split_ratios\":(0.3,0.2)\n",
    "    },\n",
    "    \"model\": {\"type\": \"Ridge linear regression\",\n",
    "              \"hyperparameters\": {\"alpha\": \"optimize\",  # alpha:optimize\n",
    "                                  },\n",
    "              },\n",
    "    \"metrics\": [\"r2_score\"],\n",
    "    \"predict\": {\n",
    "        \"test\": {\"features\": test_dataframe}\n",
    "    }\n",
    "}"
   ]
  },
  {
   "cell_type": "code",
   "execution_count": 15,
   "metadata": {
    "scrolled": true
   },
   "outputs": [
    {
     "name": "stdout",
     "output_type": "stream",
     "text": [
      "shuffle is not provided: 'shuffle'\n",
      "random_state is not provided: 'random_state'\n",
      "fold_nr. 1\n",
      "{'r2_score (train.train)': 73.74, 'r2_score (train.validation)': 78.22}\n",
      "fold_nr. 2\n",
      "{'r2_score (train.train)': 78.62, 'r2_score (train.validation)': 56.76}\n",
      "fold_nr. 3\n",
      "{'r2_score (train.train)': 74.61, 'r2_score (train.validation)': 76.83}\n",
      "fold_nr. 4\n",
      "{'r2_score (train.train)': 76.44, 'r2_score (train.validation)': 70.23}\n",
      "fold_nr. 5\n",
      "{'r2_score (train.train)': 74.09, 'r2_score (train.validation)': 79.26}\n"
     ]
    },
    {
     "data": {
      "text/html": [
       "<div>\n",
       "<style scoped>\n",
       "    .dataframe tbody tr th:only-of-type {\n",
       "        vertical-align: middle;\n",
       "    }\n",
       "\n",
       "    .dataframe tbody tr th {\n",
       "        vertical-align: top;\n",
       "    }\n",
       "\n",
       "    .dataframe thead th {\n",
       "        text-align: right;\n",
       "    }\n",
       "</style>\n",
       "<table border=\"1\" class=\"dataframe\">\n",
       "  <thead>\n",
       "    <tr style=\"text-align: right;\">\n",
       "      <th></th>\n",
       "      <th>fold_1</th>\n",
       "      <th>fold_2</th>\n",
       "      <th>fold_3</th>\n",
       "      <th>fold_4</th>\n",
       "      <th>fold_5</th>\n",
       "      <th>mean</th>\n",
       "    </tr>\n",
       "  </thead>\n",
       "  <tbody>\n",
       "    <tr>\n",
       "      <th>r2_score (train.train)</th>\n",
       "      <td>73.74</td>\n",
       "      <td>78.62</td>\n",
       "      <td>74.61</td>\n",
       "      <td>76.44</td>\n",
       "      <td>74.09</td>\n",
       "      <td>75.50</td>\n",
       "    </tr>\n",
       "    <tr>\n",
       "      <th>r2_score (train.validation)</th>\n",
       "      <td>78.22</td>\n",
       "      <td>56.76</td>\n",
       "      <td>76.83</td>\n",
       "      <td>70.23</td>\n",
       "      <td>79.26</td>\n",
       "      <td>72.26</td>\n",
       "    </tr>\n",
       "  </tbody>\n",
       "</table>\n",
       "</div>"
      ],
      "text/plain": [
       "                             fold_1  fold_2  fold_3  fold_4  fold_5   mean\n",
       "r2_score (train.train)        73.74   78.62   74.61   76.44   74.09  75.50\n",
       "r2_score (train.validation)   78.22   56.76   76.83   70.23   79.26  72.26"
      ]
     },
     "metadata": {},
     "output_type": "display_data"
    },
    {
     "data": {
      "text/html": [
       "<div>\n",
       "<style scoped>\n",
       "    .dataframe tbody tr th:only-of-type {\n",
       "        vertical-align: middle;\n",
       "    }\n",
       "\n",
       "    .dataframe tbody tr th {\n",
       "        vertical-align: top;\n",
       "    }\n",
       "\n",
       "    .dataframe thead th {\n",
       "        text-align: right;\n",
       "    }\n",
       "</style>\n",
       "<table border=\"1\" class=\"dataframe\">\n",
       "  <thead>\n",
       "    <tr style=\"text-align: right;\">\n",
       "      <th></th>\n",
       "      <th>model 1</th>\n",
       "      <th>model 2</th>\n",
       "      <th>model 3</th>\n",
       "      <th>model 4</th>\n",
       "      <th>model 5</th>\n",
       "      <th>mean</th>\n",
       "    </tr>\n",
       "  </thead>\n",
       "  <tbody>\n",
       "    <tr>\n",
       "      <th>r2_score (train)</th>\n",
       "      <td>74.78</td>\n",
       "      <td>74.41</td>\n",
       "      <td>75.04</td>\n",
       "      <td>75.1</td>\n",
       "      <td>75.01</td>\n",
       "      <td>74.868</td>\n",
       "    </tr>\n",
       "  </tbody>\n",
       "</table>\n",
       "</div>"
      ],
      "text/plain": [
       "                  model 1  model 2  model 3  model 4  model 5    mean\n",
       "r2_score (train)    74.78    74.41    75.04     75.1    75.01  74.868"
      ]
     },
     "metadata": {},
     "output_type": "display_data"
    },
    {
     "name": "stdout",
     "output_type": "stream",
     "text": [
      "This is the end of the flow\n"
     ]
    }
   ],
   "source": [
    "model_index_list, save_models_dir, y_test = flow.training(parameters)"
   ]
  },
  {
   "cell_type": "code",
   "execution_count": null,
   "metadata": {},
   "outputs": [],
   "source": [
    "parameters_lighgbm = {\n",
    "    \"data\": {\n",
    "        \"train\": {\"features\": train_dataframe, \"target\": train_target.to_numpy()},\n",
    "    },\n",
    "    \"split\": {\n",
    "        \"method\": \"kfold\",  # \"method\":\"kfold\"\n",
    "        \"fold_nr\": 5,  # fold_nr:5 , \"split_ratios\": 0.3 # \"split_ratios\":(0.3,0.2)\n",
    "    },\n",
    "    \"model\": {\"type\": \"lightgbm\",\n",
    "              \"hyperparameters\": dict(objective='regression', metric='root_mean_squared_error', num_leaves=5,\n",
    "                                      boost_from_average=True,\n",
    "                                      learning_rate=0.05, bagging_fraction=0.99, feature_fraction=0.99, max_depth=-1,\n",
    "                                      num_rounds=10000, min_data_in_leaf=10, boosting='dart')\n",
    "              },\n",
    "    \"metrics\": [\"mean_squared_error\"],\n",
    "    \"predict\": {\n",
    "        \"test\": {\"features\": test_dataframe}\n",
    "    }\n",
    "}"
   ]
  },
  {
   "cell_type": "code",
   "execution_count": null,
   "metadata": {},
   "outputs": [],
   "source": [
    "model_index_list, save_models_dir, y_test = flow.training(parameters_lighgbm)"
   ]
  },
  {
   "cell_type": "code",
   "execution_count": null,
   "metadata": {},
   "outputs": [],
   "source": [
    "parameters_xgboost = {\n",
    "    \"data\": {\n",
    "        \"train\": {\"features\": train_dataframe, \"target\": train_target.to_numpy()},\n",
    "    },\n",
    "    \"split\": {\n",
    "        \"method\": \"kfold\",  # \"method\":\"kfold\"\n",
    "        \"fold_nr\": 5,  # fold_nr:5 , \"split_ratios\": 0.3 # \"split_ratios\":(0.3,0.2)\n",
    "    },\n",
    "    \"model\": {\"type\": \"xgboost\",\n",
    "              \"hyperparameters\": {'max_depth': 5, 'eta': 1, 'eval_metric': \"rmse\", \"num_round\": 100}\n",
    "              },\n",
    "    \"metrics\": [\"r2_score\", \"mean_squared_error\"],\n",
    "    \"predict\": {\n",
    "        \"test\": {\"features\": test_dataframe}\n",
    "    }\n",
    "}"
   ]
  },
  {
   "cell_type": "code",
   "execution_count": null,
   "metadata": {},
   "outputs": [],
   "source": [
    "model_index_list, save_models_dir, ytest = flow.training(parameters_xgboost)"
   ]
  },
  {
   "cell_type": "code",
   "execution_count": null,
   "metadata": {},
   "outputs": [],
   "source": [
    "parameters_sklearn = {\n",
    "    \"data\": {\n",
    "        \"train\": {\"features\": train_dataframe, \"target\": train_target.to_numpy()},\n",
    "    },\n",
    "    \"split\": {\n",
    "        \"method\": \"split\",\n",
    "        \"split_ratios\": 0.2,\n",
    "        \"stratify\": False  # set to True only for classification tasks\n",
    "    },\n",
    "    \"model\": {\n",
    "        \"type\": \"sklearn.ensemble.RandomForestRegressor\",\n",
    "        \"hyperparameters\": {\n",
    "            'params_grid':{\n",
    "                'criterion': [\"mse\", \"mae\"],\n",
    "                'max_depth': [5, 10, 15, 999],\n",
    "                'min_samples_leaf': [4, 1],\n",
    "                'max_depth': [4, 8, 12],\n",
    "            },\n",
    "            'params_fixed': {\n",
    "                'min_samples_split': 10, \n",
    "                'random_state': 11\n",
    "            },\n",
    "            'params_cv': {\n",
    "                'n_splits': 5, \n",
    "                'shuffle': True, \n",
    "                'random_state': 11\n",
    "            },\n",
    "            'objective': 'regression',  # 'classification'\n",
    "            \"grid_search_scoring\": ['r2', 'neg_mean_squared_error']\n",
    "        },\n",
    "    },\n",
    "    \"metrics\": [\"r2_score\", \"mean_squared_error\"],\n",
    "    \"predict\": {\n",
    "        \"test\": {\"features\": test_dataframe}\n",
    "    }\n",
    "}\n",
    "\n",
    "model_index_list, save_models_dir, y_test = flow.training(parameters_sklearn)"
   ]
  },
  {
   "cell_type": "code",
   "execution_count": null,
   "metadata": {
    "scrolled": false
   },
   "outputs": [],
   "source": [
    "parameters_sklearn = {\n",
    "    \"data\": {\n",
    "        \"train\": {\"features\": train_dataframe, \"target\": train_target.to_numpy()},\n",
    "    },\n",
    "    \"split\": {\n",
    "        \"method\": \"split\",\n",
    "        \"split_ratios\": 0.2,\n",
    "        \"stratify\": False  # set to True only for classification tasks\n",
    "    },\n",
    "    \"model\": {\n",
    "        \"type\": \"sklearn.linear_model.ElasticNet\",\n",
    "        \"hyperparameters\": {\n",
    "            'params_grid':{\n",
    "                'alpha': np.logspace(-3,3,7),\n",
    "                'l1_ratio': np.linspace(0, 0., num=4)+0.01\n",
    "            },\n",
    "            'params_fixed': {\n",
    "                'normalize': True, \n",
    "                'max_iter': 2000,\n",
    "                'random_state': 11\n",
    "            },\n",
    "            'params_cv': {\n",
    "                'n_splits': 5, \n",
    "                'shuffle': True, \n",
    "                'random_state': 11\n",
    "            },\n",
    "            'objective': 'regression',  # 'classification'\n",
    "            \"grid_search_scoring\": ['r2', 'neg_mean_squared_error']\n",
    "        },\n",
    "    },\n",
    "    \"metrics\": [\"r2_score\", \"mean_squared_error\"],\n",
    "    \"predict\": {\n",
    "        \"test\": {\"features\": test_dataframe}\n",
    "    }\n",
    "}\n",
    "\n",
    "model_index_list, save_models_dir, y_test = flow.training(parameters_sklearn)"
   ]
  },
  {
   "cell_type": "code",
   "execution_count": null,
   "metadata": {},
   "outputs": [],
   "source": []
  }
 ],
 "metadata": {
  "kernelspec": {
   "display_name": "Python 3",
   "language": "python",
   "name": "python3"
  },
  "language_info": {
   "codemirror_mode": {
    "name": "ipython",
    "version": 3
   },
   "file_extension": ".py",
   "mimetype": "text/x-python",
   "name": "python",
   "nbconvert_exporter": "python",
   "pygments_lexer": "ipython3",
   "version": "3.6.8"
  }
 },
 "nbformat": 4,
 "nbformat_minor": 2
}
