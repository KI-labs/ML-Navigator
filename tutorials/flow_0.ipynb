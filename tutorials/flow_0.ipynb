{
 "cells": [
  {
   "cell_type": "code",
   "execution_count": 1,
   "metadata": {},
   "outputs": [
    {
     "name": "stdout",
     "output_type": "stream",
     "text": [
      "/Users/m.dee/Documents/Data-science-package-beta/data-science-package\n"
     ]
    }
   ],
   "source": [
    "cd .."
   ]
  },
  {
   "cell_type": "markdown",
   "metadata": {},
   "source": [
    "<img src=\"flow_0.png\">"
   ]
  },
  {
   "cell_type": "code",
   "execution_count": 2,
   "metadata": {},
   "outputs": [
    {
     "name": "stdout",
     "output_type": "stream",
     "text": [
      "\u001b[1m\u001b[35mWelcome to the Data Science Package. First create an object as follows:\u001b[m\u001b[m\n",
      "\u001b[1m\u001b[35mFor example, use the code below to import the flow 0:\u001b[m\u001b[m\n",
      "\u001b[32m\u001b[40mflow = Flows(0)\u001b[m\n"
     ]
    }
   ],
   "source": [
    "from flows.flows import Flows"
   ]
  },
  {
   "cell_type": "code",
   "execution_count": 3,
   "metadata": {},
   "outputs": [
    {
     "name": "stdout",
     "output_type": "stream",
     "text": [
      "\u001b[1m\u001b[35mPlease use the following function to read the data\u001b[m\u001b[m\n",
      "\u001b[32m\u001b[40mdataframe_dict = flow.load_data(path: str, files_list: list)\u001b[m\n",
      "\u001b[1m\u001b[35mFor example: \u001b[m\u001b[32m\u001b[40mpath = './data'\u001b[m\u001b[m\n",
      "\u001b[1m\u001b[35mFor example: \u001b[m\u001b[32m\u001b[40mfiles_list = ['train.csv','test.csv']\u001b[m\u001b[m\n",
      "\u001b[1m\u001b[35mThe output is a dictionary that contains dataframes e.g.  \u001b[m\u001b[m\n",
      "\u001b[34mdataframe_dict = {'train': train_dataframe,'test': test_dataframe}\u001b[m\n"
     ]
    }
   ],
   "source": [
    "flow = Flows(0)"
   ]
  },
  {
   "cell_type": "code",
   "execution_count": 4,
   "metadata": {},
   "outputs": [],
   "source": [
    "path = \"./data/flow_0\"\n",
    "files_list = [\"train.csv\",\"test.csv\"]"
   ]
  },
  {
   "cell_type": "code",
   "execution_count": 5,
   "metadata": {},
   "outputs": [
    {
     "name": "stdout",
     "output_type": "stream",
     "text": [
      "\u001b[1mThe summary of the train dataset:\u001b[0;0m\n",
      "The train dataset contains 81 columns\n",
      "There are 43 string categorical columns\n",
      "There are 18 numeric categorical columns\n",
      "\u001b[1mNOTE: numeric categorical columns that contains more than 50 classes are considered numeric continuous features.\u001b[0;0m\n",
      "\u001b[1mNOTE: You can modify the threshold value if you want to consider more or less numeric categorical features as numeric continuous features.\u001b[0;0m\n",
      "There are 20 columns with numeric continuous values \n",
      "There are 0 columns that contain date\n",
      "There are 0 columns that contain valid nested JSON data\n",
      "There are 0 columns that contain other type of data\n",
      "********** End of the summary of the train dataset **********\n",
      "\u001b[1mThe summary of the test dataset:\u001b[0;0m\n",
      "The test dataset contains 80 columns\n",
      "There are 43 string categorical columns\n",
      "There are 18 numeric categorical columns\n",
      "\u001b[1mNOTE: numeric categorical columns that contains more than 50 classes are considered numeric continuous features.\u001b[0;0m\n",
      "\u001b[1mNOTE: You can modify the threshold value if you want to consider more or less numeric categorical features as numeric continuous features.\u001b[0;0m\n",
      "There are 19 columns with numeric continuous values \n",
      "There are 0 columns that contain date\n",
      "There are 0 columns that contain valid nested JSON data\n",
      "There are 0 columns that contain other type of data\n",
      "********** End of the summary of the test dataset **********\n",
      "The possible ids are {'Id'}\n",
      "The possible possible_target are ['SalePrice']\n",
      "The type of the problem that should be solved {'SalePrice': 'regression'}\n",
      "\u001b[1m\u001b[35mIf you have categorical features with string labels, Encode the categorical features by applying the following function:\n",
      "\u001b[m\u001b[32m\u001b[40mdataframe_dict, columns_set = flow.encode_categorical_feature(dataframe_dict: dict)\u001b[m\u001b[m\n"
     ]
    }
   ],
   "source": [
    "dataframe_dict, columns_set = flow.load_data(path, files_list)"
   ]
  },
  {
   "cell_type": "code",
   "execution_count": 6,
   "metadata": {},
   "outputs": [
    {
     "data": {
      "text/plain": [
       "dict_keys(['categorical_string', 'categorical_integer', 'continuous', 'date', 'json', 'other'])"
      ]
     },
     "execution_count": 6,
     "metadata": {},
     "output_type": "execute_result"
    }
   ],
   "source": [
    " columns_set[\"train\"].keys()"
   ]
  },
  {
   "cell_type": "code",
   "execution_count": 7,
   "metadata": {},
   "outputs": [
    {
     "name": "stdout",
     "output_type": "stream",
     "text": [
      "The reference dataframe is: train\n",
      "the are 2 datasets provided\n",
      "encoding the feature in the dataset train\n",
      "encoding the feature in the dataset test\n",
      "the number of classes in MSZoning feature is: 6\n",
      "the are 2 datasets provided\n",
      "encoding the feature in the dataset train\n",
      "encoding the feature in the dataset test\n",
      "the number of classes in Street feature is: 2\n",
      "the are 2 datasets provided\n",
      "encoding the feature in the dataset train\n",
      "encoding the feature in the dataset test\n",
      "the number of classes in Alley feature is: 3\n",
      "the are 2 datasets provided\n",
      "encoding the feature in the dataset train\n",
      "encoding the feature in the dataset test\n",
      "the number of classes in LotShape feature is: 4\n",
      "the are 2 datasets provided\n",
      "encoding the feature in the dataset train\n",
      "encoding the feature in the dataset test\n",
      "the number of classes in LandContour feature is: 4\n",
      "the are 2 datasets provided\n",
      "encoding the feature in the dataset train\n",
      "encoding the feature in the dataset test\n",
      "the number of classes in Utilities feature is: 3\n",
      "the are 2 datasets provided\n",
      "encoding the feature in the dataset train\n",
      "encoding the feature in the dataset test\n",
      "the number of classes in LotConfig feature is: 5\n",
      "the are 2 datasets provided\n",
      "encoding the feature in the dataset train\n",
      "encoding the feature in the dataset test\n",
      "the number of classes in LandSlope feature is: 3\n",
      "the are 2 datasets provided\n",
      "encoding the feature in the dataset train\n",
      "encoding the feature in the dataset test\n",
      "the number of classes in Neighborhood feature is: 25\n",
      "the are 2 datasets provided\n",
      "encoding the feature in the dataset train\n",
      "encoding the feature in the dataset test\n",
      "the number of classes in Condition1 feature is: 9\n",
      "the are 2 datasets provided\n",
      "encoding the feature in the dataset train\n",
      "encoding the feature in the dataset test\n",
      "the number of classes in Condition2 feature is: 8\n",
      "the are 2 datasets provided\n",
      "encoding the feature in the dataset train\n",
      "encoding the feature in the dataset test\n",
      "the number of classes in BldgType feature is: 5\n",
      "the are 2 datasets provided\n",
      "encoding the feature in the dataset train\n",
      "encoding the feature in the dataset test\n",
      "the number of classes in HouseStyle feature is: 8\n",
      "the are 2 datasets provided\n",
      "encoding the feature in the dataset train\n",
      "encoding the feature in the dataset test\n",
      "the number of classes in RoofStyle feature is: 6\n",
      "the are 2 datasets provided\n",
      "encoding the feature in the dataset train\n",
      "encoding the feature in the dataset test\n",
      "the number of classes in RoofMatl feature is: 8\n",
      "the are 2 datasets provided\n",
      "encoding the feature in the dataset train\n",
      "encoding the feature in the dataset test\n",
      "the number of classes in Exterior1st feature is: 16\n",
      "the are 2 datasets provided\n",
      "encoding the feature in the dataset train\n",
      "encoding the feature in the dataset test\n",
      "the number of classes in Exterior2nd feature is: 17\n",
      "the are 2 datasets provided\n",
      "encoding the feature in the dataset train\n",
      "encoding the feature in the dataset test\n",
      "the number of classes in MasVnrType feature is: 5\n",
      "the are 2 datasets provided\n",
      "encoding the feature in the dataset train\n",
      "encoding the feature in the dataset test\n",
      "the number of classes in ExterQual feature is: 4\n",
      "the are 2 datasets provided\n",
      "encoding the feature in the dataset train\n",
      "encoding the feature in the dataset test\n",
      "the number of classes in ExterCond feature is: 5\n",
      "the are 2 datasets provided\n",
      "encoding the feature in the dataset train\n",
      "encoding the feature in the dataset test\n",
      "the number of classes in Foundation feature is: 6\n",
      "the are 2 datasets provided\n",
      "encoding the feature in the dataset train\n",
      "encoding the feature in the dataset test\n",
      "the number of classes in BsmtQual feature is: 5\n",
      "the are 2 datasets provided\n",
      "encoding the feature in the dataset train\n",
      "encoding the feature in the dataset test\n",
      "the number of classes in BsmtCond feature is: 5\n",
      "the are 2 datasets provided\n",
      "encoding the feature in the dataset train\n",
      "encoding the feature in the dataset test\n",
      "the number of classes in BsmtExposure feature is: 5\n",
      "the are 2 datasets provided\n",
      "encoding the feature in the dataset train\n",
      "encoding the feature in the dataset test\n",
      "the number of classes in BsmtFinType1 feature is: 7\n",
      "the are 2 datasets provided\n",
      "encoding the feature in the dataset train\n",
      "encoding the feature in the dataset test\n",
      "the number of classes in BsmtFinType2 feature is: 7\n",
      "the are 2 datasets provided\n",
      "encoding the feature in the dataset train\n",
      "encoding the feature in the dataset test\n",
      "the number of classes in Heating feature is: 6\n",
      "the are 2 datasets provided\n",
      "encoding the feature in the dataset train\n",
      "encoding the feature in the dataset test\n",
      "the number of classes in HeatingQC feature is: 5\n",
      "the are 2 datasets provided\n",
      "encoding the feature in the dataset train\n",
      "encoding the feature in the dataset test\n",
      "the number of classes in CentralAir feature is: 2\n",
      "the are 2 datasets provided\n",
      "encoding the feature in the dataset train\n",
      "encoding the feature in the dataset test\n",
      "the number of classes in Electrical feature is: 6\n",
      "the are 2 datasets provided\n",
      "encoding the feature in the dataset train\n",
      "encoding the feature in the dataset test\n",
      "the number of classes in KitchenQual feature is: 5\n",
      "the are 2 datasets provided\n",
      "encoding the feature in the dataset train\n",
      "encoding the feature in the dataset test\n",
      "the number of classes in Functional feature is: 8\n",
      "the are 2 datasets provided\n",
      "encoding the feature in the dataset train\n",
      "encoding the feature in the dataset test\n",
      "the number of classes in FireplaceQu feature is: 6\n",
      "the are 2 datasets provided\n",
      "encoding the feature in the dataset train\n",
      "encoding the feature in the dataset test\n",
      "the number of classes in GarageType feature is: 7\n",
      "the are 2 datasets provided\n",
      "encoding the feature in the dataset train\n",
      "encoding the feature in the dataset test\n",
      "the number of classes in GarageFinish feature is: 4\n",
      "the are 2 datasets provided\n",
      "encoding the feature in the dataset train\n",
      "encoding the feature in the dataset test\n",
      "the number of classes in GarageQual feature is: 6\n",
      "the are 2 datasets provided\n",
      "encoding the feature in the dataset train\n",
      "encoding the feature in the dataset test\n",
      "the number of classes in GarageCond feature is: 6\n",
      "the are 2 datasets provided\n",
      "encoding the feature in the dataset train\n",
      "encoding the feature in the dataset test\n",
      "the number of classes in PavedDrive feature is: 3\n",
      "the are 2 datasets provided\n",
      "encoding the feature in the dataset train\n",
      "encoding the feature in the dataset test\n",
      "the number of classes in PoolQC feature is: 4\n",
      "the are 2 datasets provided\n",
      "encoding the feature in the dataset train\n",
      "encoding the feature in the dataset test\n",
      "the number of classes in Fence feature is: 5\n",
      "the are 2 datasets provided\n",
      "encoding the feature in the dataset train\n",
      "encoding the feature in the dataset test\n",
      "the number of classes in MiscFeature feature is: 5\n",
      "the are 2 datasets provided\n",
      "encoding the feature in the dataset train\n",
      "encoding the feature in the dataset test\n",
      "the number of classes in SaleType feature is: 10\n",
      "the are 2 datasets provided\n",
      "encoding the feature in the dataset train\n",
      "encoding the feature in the dataset test\n",
      "the number of classes in SaleCondition feature is: 6\n",
      "the are 2 datasets provided\n",
      "encoding the feature in the dataset train\n",
      "encoding the feature in the dataset test\n",
      "the number of classes in MSSubClass feature is: 16\n",
      "the are 2 datasets provided\n",
      "encoding the feature in the dataset train\n",
      "encoding the feature in the dataset test\n",
      "the number of classes in OverallQual feature is: 10\n",
      "the are 2 datasets provided\n",
      "encoding the feature in the dataset train\n",
      "encoding the feature in the dataset test\n",
      "the number of classes in OverallCond feature is: 9\n",
      "the are 2 datasets provided\n",
      "encoding the feature in the dataset train\n",
      "encoding the feature in the dataset test\n",
      "the number of classes in LowQualFinSF feature is: 36\n",
      "the are 2 datasets provided\n",
      "encoding the feature in the dataset train\n",
      "encoding the feature in the dataset test\n",
      "the number of classes in BsmtFullBath feature is: 9\n",
      "the are 2 datasets provided\n",
      "encoding the feature in the dataset train\n",
      "encoding the feature in the dataset test\n",
      "the number of classes in BsmtHalfBath feature is: 7\n",
      "the are 2 datasets provided\n",
      "encoding the feature in the dataset train\n",
      "encoding the feature in the dataset test\n",
      "the number of classes in FullBath feature is: 5\n",
      "the are 2 datasets provided\n",
      "encoding the feature in the dataset train\n",
      "encoding the feature in the dataset test\n",
      "the number of classes in HalfBath feature is: 3\n",
      "the are 2 datasets provided\n",
      "encoding the feature in the dataset train\n",
      "encoding the feature in the dataset test\n",
      "the number of classes in BedroomAbvGr feature is: 8\n",
      "the are 2 datasets provided\n",
      "encoding the feature in the dataset train\n",
      "encoding the feature in the dataset test\n",
      "the number of classes in KitchenAbvGr feature is: 4\n",
      "the are 2 datasets provided\n",
      "encoding the feature in the dataset train\n",
      "encoding the feature in the dataset test\n",
      "the number of classes in TotRmsAbvGrd feature is: 14\n",
      "the are 2 datasets provided\n",
      "encoding the feature in the dataset train\n",
      "encoding the feature in the dataset test\n",
      "the number of classes in Fireplaces feature is: 5\n",
      "the are 2 datasets provided\n",
      "encoding the feature in the dataset train\n",
      "encoding the feature in the dataset test\n",
      "the number of classes in GarageCars feature is: 12\n",
      "the are 2 datasets provided\n",
      "encoding the feature in the dataset train\n",
      "encoding the feature in the dataset test\n",
      "the number of classes in 3SsnPorch feature is: 31\n",
      "the are 2 datasets provided\n",
      "encoding the feature in the dataset train\n",
      "encoding the feature in the dataset test\n",
      "the number of classes in PoolArea feature is: 14\n",
      "the are 2 datasets provided\n",
      "encoding the feature in the dataset train\n",
      "encoding the feature in the dataset test\n",
      "the number of classes in MiscVal feature is: 38\n",
      "the are 2 datasets provided\n",
      "encoding the feature in the dataset train\n",
      "encoding the feature in the dataset test\n",
      "the number of classes in MoSold feature is: 12\n",
      "the are 2 datasets provided\n",
      "encoding the feature in the dataset train\n",
      "encoding the feature in the dataset test\n",
      "the number of classes in YrSold feature is: 5\n",
      "\u001b[31m******************************\u001b[m\n"
     ]
    },
    {
     "name": "stdout",
     "output_type": "stream",
     "text": [
      "\u001b[1mThe summary of the train dataset:\u001b[0;0m\n",
      "The train dataset contains 81 columns\n",
      "There are 0 string categorical columns\n",
      "There are 61 numeric categorical columns\n",
      "\u001b[1mNOTE: numeric categorical columns that contains more than 50 classes are considered numeric continuous features.\u001b[0;0m\n",
      "\u001b[1mNOTE: You can modify the threshold value if you want to consider more or less numeric categorical features as numeric continuous features.\u001b[0;0m\n",
      "There are 20 columns with numeric continuous values \n",
      "There are 0 columns that contain date\n",
      "There are 0 columns that contain valid nested JSON data\n",
      "There are 0 columns that contain other type of data\n",
      "********** End of the summary of the train dataset **********\n",
      "\u001b[1mThe summary of the test dataset:\u001b[0;0m\n",
      "The test dataset contains 80 columns\n",
      "There are 0 string categorical columns\n",
      "There are 61 numeric categorical columns\n",
      "\u001b[1mNOTE: numeric categorical columns that contains more than 50 classes are considered numeric continuous features.\u001b[0;0m\n",
      "\u001b[1mNOTE: You can modify the threshold value if you want to consider more or less numeric categorical features as numeric continuous features.\u001b[0;0m\n",
      "There are 19 columns with numeric continuous values \n",
      "There are 0 columns that contain date\n",
      "There are 0 columns that contain valid nested JSON data\n",
      "There are 0 columns that contain other type of data\n",
      "********** End of the summary of the test dataset **********\n",
      "\u001b[1m\u001b[35mIf you have numeric features, it is a good idea to normalize numeric features. Use the following function for feature normalization :\n",
      "\u001b[m\u001b[32m\u001b[40mdataframe_dict, columns_set = flow.scale_data (dataframe_dict: dict, ignore_columns: list)\u001b[m\u001b[m\n",
      "\u001b[1m\u001b[35mFor example: \u001b[m\u001b[32m\u001b[40mignore_columns = ['id', 'target']\u001b[m\u001b[m\n"
     ]
    }
   ],
   "source": [
    "dataframe_dict, columns_set = flow.encode_categorical_feature(dataframe_dict)"
   ]
  },
  {
   "cell_type": "code",
   "execution_count": 8,
   "metadata": {},
   "outputs": [],
   "source": [
    "ignore_columns = ['id', 'SalePrice']"
   ]
  },
  {
   "cell_type": "code",
   "execution_count": 9,
   "metadata": {},
   "outputs": [
    {
     "name": "stdout",
     "output_type": "stream",
     "text": [
      "\u001b[1mThe summary of the train dataset:\u001b[0;0m\n",
      "The train dataset contains 81 columns\n",
      "There are 0 string categorical columns\n",
      "There are 61 numeric categorical columns\n",
      "\u001b[1mNOTE: numeric categorical columns that contains more than 50 classes are considered numeric continuous features.\u001b[0;0m\n",
      "\u001b[1mNOTE: You can modify the threshold value if you want to consider more or less numeric categorical features as numeric continuous features.\u001b[0;0m\n",
      "There are 20 columns with numeric continuous values \n",
      "There are 0 columns that contain date\n",
      "There are 0 columns that contain valid nested JSON data\n",
      "There are 0 columns that contain other type of data\n",
      "********** End of the summary of the train dataset **********\n",
      "\u001b[1mThe summary of the test dataset:\u001b[0;0m\n",
      "The test dataset contains 80 columns\n",
      "There are 0 string categorical columns\n",
      "There are 61 numeric categorical columns\n",
      "\u001b[1mNOTE: numeric categorical columns that contains more than 50 classes are considered numeric continuous features.\u001b[0;0m\n",
      "\u001b[1mNOTE: You can modify the threshold value if you want to consider more or less numeric categorical features as numeric continuous features.\u001b[0;0m\n",
      "There are 19 columns with numeric continuous values \n",
      "There are 0 columns that contain date\n",
      "There are 0 columns that contain valid nested JSON data\n",
      "There are 0 columns that contain other type of data\n",
      "********** End of the summary of the test dataset **********\n",
      "\u001b[1m\u001b[35mYour features are ready to train the model: \u001b[m\u001b[m\n",
      "\u001b[1m\u001b[35mIf you want to explore the data you can run one of the following functions: \u001b[m\u001b[m\n",
      "\u001b[1m\u001b[35m1 . \u001b[m\u001b[32m\u001b[40mflow.exploring_data(dataframe_dict: dict, key_i: str)\u001b[m\u001b[m\n",
      "\u001b[1m\u001b[35mFor example: \u001b[m\u001b[32m\u001b[40mflow.exploring_data(dataframe_dict, 'train')\u001b[m\u001b[m\n",
      "\u001b[1m\u001b[35m2 . \u001b[m\u001b[32m\u001b[40mflow.comparing_statistics(dataframe_dict: dict)\u001b[m\u001b[m\n",
      "\u001b[1m\u001b[35mFor example: \u001b[m\u001b[32m\u001b[40mflow.comparing_statistics(dataframe_dict)\u001b[m\u001b[m\n",
      "\n",
      "\n",
      "\n",
      "\n",
      "\u001b[1m\u001b[35mYou can start training the model by applying the following function: \u001b[m\u001b[m\n",
      "\u001b[32m\u001b[40mmodel_index_list, save_models_dir, y_test = flow.training(parameters)\u001b[m\n",
      "parameters = { \n",
      " \"data\": {\n",
      " \"train\": {\"features\": train_dataframe, \"target\": train_target},\n",
      " \"valid\": {\"features\": valid_dataframe, \"target\": valid_target},\n",
      " \"test\": {\"features\": test_dataframe, \"target\": test_target},\n",
      " },\n",
      " \"split\": {\n",
      " \"method\": \"split\",  # \"method\":\"kfold\"\n",
      " \"split_ratios\": 0.2,  # fold_nr: 5 , \"split_ratios\": 0.2 # \"split_ratios\":(0.3,0.2)\n",
      " },\n",
      " \"model\": {\"type\": \"Ridge linear regression\",\n",
      " \"hyperparameters\": {\"alpha\": 1,  # alpha:optimize\n",
      " },\n",
      " },\n",
      " \"metrics\": [\"r2_score\", \"mean_squared_error\"]\n",
      " }\n"
     ]
    }
   ],
   "source": [
    "dataframe_dict, columns_set = flow.scale_data(dataframe_dict, ignore_columns)"
   ]
  },
  {
   "cell_type": "code",
   "execution_count": 10,
   "metadata": {},
   "outputs": [
    {
     "data": {
      "application/vnd.jupyter.widget-view+json": {
       "model_id": "25222b4745b24c84aa58b49cd9405614",
       "version_major": 2,
       "version_minor": 0
      },
      "text/plain": [
       "interactive(children=(IntSlider(value=0, description='column_i', max=79), Output()), _dom_classes=('widget-int…"
      ]
     },
     "metadata": {},
     "output_type": "display_data"
    }
   ],
   "source": [
    "flow.exploring_data(dataframe_dict, \"test\")"
   ]
  },
  {
   "cell_type": "code",
   "execution_count": 11,
   "metadata": {},
   "outputs": [
    {
     "data": {
      "application/vnd.jupyter.widget-view+json": {
       "model_id": "6ae86c5ad70546ab9a8087e61f4d7445",
       "version_major": 2,
       "version_minor": 0
      },
      "text/plain": [
       "interactive(children=(IntSlider(value=0, description='feature_nr', max=80), Output()), _dom_classes=('widget-i…"
      ]
     },
     "metadata": {},
     "output_type": "display_data"
    }
   ],
   "source": [
    "flow.comparing_statistics(dataframe_dict)"
   ]
  },
  {
   "cell_type": "code",
   "execution_count": 12,
   "metadata": {},
   "outputs": [],
   "source": [
    "ignore_columns = [\"id\", \"SalePrice\"]\n",
    "columns = dataframe_dict[\"train\"].columns\n",
    "train_dataframe = dataframe_dict[\"train\"][[x for x in columns_set[\"train\"][\"continuous\"] if x not in ignore_columns]]\n",
    "test_dataframe = dataframe_dict[\"test\"][[x for x in columns_set[\"train\"][\"continuous\"] if x not in ignore_columns]]\n",
    "train_target = dataframe_dict[\"train\"][\"SalePrice\"]"
   ]
  },
  {
   "cell_type": "code",
   "execution_count": 13,
   "metadata": {},
   "outputs": [],
   "source": [
    "parameters = {\n",
    "    \"data\": {\n",
    "        \"train\": {\"features\": train_dataframe, \"target\": train_target.to_numpy()},\n",
    "    },\n",
    "    \"split\": {\n",
    "        \"method\": \"kfold\",  # \"method\":\"kfold\"\n",
    "        \"fold_nr\": 5,  # foldnr:5 , \"split_ratios\": 0.8 # \"split_ratios\":(0.7,0.2)\n",
    "    },\n",
    "    \"model\": {\"type\": \"Ridge linear regression\",\n",
    "              \"hyperparameters\": {\"alpha\": \"optimize\",  # alpha:optimize\n",
    "                                  },\n",
    "              },\n",
    "    \"metrics\": [\"r2_score\", \"mean_squared_error\"],\n",
    "    \"predict\": {\n",
    "        \"test\": {\"features\": test_dataframe}\n",
    "    }\n",
    "}"
   ]
  },
  {
   "cell_type": "code",
   "execution_count": 14,
   "metadata": {},
   "outputs": [
    {
     "name": "stdout",
     "output_type": "stream",
     "text": [
      "shuffle is not provided: 'shuffle'\n",
      "random_state is not provided: 'random_state'\n",
      "fold_nr. 1\n",
      "The quality of the model using the dataset kfold 1\n",
      "dataset kfold 1: Mean squared error: 1506796185.067\n",
      "dataset kfold 1:  R2: 78.9 %\n",
      "fold_nr. 2\n",
      "The quality of the model using the dataset kfold 2\n",
      "dataset kfold 2: Mean squared error: 2861589417.8701\n",
      "dataset kfold 2:  R2: 52.9 %\n",
      "fold_nr. 3\n",
      "The quality of the model using the dataset kfold 3\n",
      "dataset kfold 3: Mean squared error: 1289676591.0382\n",
      "dataset kfold 3:  R2: 77.9 %\n",
      "fold_nr. 4\n",
      "The quality of the model using the dataset kfold 4\n",
      "dataset kfold 4: Mean squared error: 2065097273.2933\n",
      "dataset kfold 4:  R2: 69.7 %\n",
      "fold_nr. 5\n",
      "The quality of the model using the dataset kfold 5\n",
      "dataset kfold 5: Mean squared error: 1190322713.9753\n",
      "dataset kfold 5:  R2: 78.8 %\n",
      "mean R2 5 Folds:  71.64\n",
      "mean MSE 5 Folds:  1782696436.2488\n",
      "The quality of the model using the Evaluating the dataset: train\n",
      "Evaluating the dataset: train: Mean squared error: 1614587139.4879\n",
      "Evaluating the dataset: train:  R2: 74.4 %\n",
      "The quality of the model using the Evaluating the dataset: train\n",
      "Evaluating the dataset: train: Mean squared error: 1660846057.176\n",
      "Evaluating the dataset: train:  R2: 73.7 %\n",
      "The quality of the model using the Evaluating the dataset: train\n",
      "Evaluating the dataset: train: Mean squared error: 1605282817.8739\n",
      "Evaluating the dataset: train:  R2: 74.5 %\n",
      "The quality of the model using the Evaluating the dataset: train\n",
      "Evaluating the dataset: train: Mean squared error: 1601422136.113\n",
      "Evaluating the dataset: train:  R2: 74.6 %\n",
      "The quality of the model using the Evaluating the dataset: train\n",
      "Evaluating the dataset: train: Mean squared error: 1605034956.7559\n",
      "Evaluating the dataset: train:  R2: 74.6 %\n",
      "train: Mean squared error linear: 1617434621.48134\n",
      "train:  Mean R2: 74.36000000000001 %\n",
      "This is the end of the flow\n"
     ]
    }
   ],
   "source": [
    "model_index_list, save_models_dir, y_test = flow.training(parameters)"
   ]
  },
  {
   "cell_type": "code",
   "execution_count": 15,
   "metadata": {},
   "outputs": [],
   "source": [
    "parameters_lighgbm = {\n",
    "    \"data\": {\n",
    "        \"train\": {\"features\": train_dataframe, \"target\": train_target.to_numpy()},\n",
    "    },\n",
    "    \"split\": {\n",
    "        \"method\": \"kfold\",  # \"method\":\"kfold\"\n",
    "        \"fold_nr\": 5,  # foldnr:5 , \"split_ratios\": 0.8 # \"split_ratios\":(0.7,0.2)\n",
    "    },\n",
    "    \"model\": {\"type\": \"lightgbm\",\n",
    "              \"hyperparameters\": dict(objective='regression', metric='root_mean_squared_error', num_leaves=5,\n",
    "                                      boost_from_average=True,\n",
    "                                      learning_rate=0.05, bagging_fraction=0.99, feature_fraction=0.99, max_depth=-1,\n",
    "                                      num_rounds=10000, min_data_in_leaf=10, boosting='dart')\n",
    "              },\n",
    "    \"metrics\": [\"r2_score\", \"mean_squared_error\"],\n",
    "    \"predict\": {\n",
    "        \"test\": {\"features\": test_dataframe}\n",
    "    }\n",
    "}"
   ]
  },
  {
   "cell_type": "code",
   "execution_count": 16,
   "metadata": {},
   "outputs": [
    {
     "name": "stdout",
     "output_type": "stream",
     "text": [
      "shuffle is not provided: 'shuffle'\n",
      "random_state is not provided: 'random_state'\n",
      "fold_nr. 1\n",
      "The quality of the model using the dataset kfold 1\n",
      "dataset kfold 1: Mean squared error: 1122052458.1018\n",
      "dataset kfold 1:  R2: 84.3 %\n",
      "fold_nr. 2\n",
      "The quality of the model using the dataset kfold 2\n",
      "dataset kfold 2: Mean squared error: 1093527367.2384\n",
      "dataset kfold 2:  R2: 82.0 %\n",
      "fold_nr. 3\n",
      "The quality of the model using the dataset kfold 3\n",
      "dataset kfold 3: Mean squared error: 873025510.1807\n",
      "dataset kfold 3:  R2: 85.1 %\n",
      "fold_nr. 4\n",
      "The quality of the model using the dataset kfold 4\n",
      "dataset kfold 4: Mean squared error: 1291925866.0344\n",
      "dataset kfold 4:  R2: 81.1 %\n",
      "fold_nr. 5\n",
      "The quality of the model using the dataset kfold 5\n",
      "dataset kfold 5: Mean squared error: 703399525.7765\n",
      "dataset kfold 5:  R2: 87.5 %\n",
      "mean R2 5 Folds:  83.97\n",
      "mean MSE 5 Folds:  1016786145.4664\n",
      "The quality of the model using the Evaluating the dataset: train\n",
      "Evaluating the dataset: train: Mean squared error: 256187947.7154\n",
      "Evaluating the dataset: train:  R2: 95.9 %\n",
      "The quality of the model using the Evaluating the dataset: train\n",
      "Evaluating the dataset: train: Mean squared error: 250308092.3944\n",
      "Evaluating the dataset: train:  R2: 96.0 %\n",
      "The quality of the model using the Evaluating the dataset: train\n",
      "Evaluating the dataset: train: Mean squared error: 205899947.0069\n",
      "Evaluating the dataset: train:  R2: 96.7 %\n",
      "The quality of the model using the Evaluating the dataset: train\n",
      "Evaluating the dataset: train: Mean squared error: 289890450.1245\n",
      "Evaluating the dataset: train:  R2: 95.4 %\n",
      "The quality of the model using the Evaluating the dataset: train\n",
      "Evaluating the dataset: train: Mean squared error: 174868224.8762\n",
      "Evaluating the dataset: train:  R2: 97.2 %\n",
      "train: Mean squared error linear: 235430932.42347997\n",
      "train:  Mean R2: 96.24 %\n",
      "This is the end of the flow\n"
     ]
    }
   ],
   "source": [
    "model_index_list, save_models_dir, y_test = flow.training(parameters_lighgbm)"
   ]
  },
  {
   "cell_type": "code",
   "execution_count": null,
   "metadata": {},
   "outputs": [],
   "source": []
  }
 ],
 "metadata": {
  "kernelspec": {
   "display_name": "Python 3",
   "language": "python",
   "name": "python3"
  },
  "language_info": {
   "codemirror_mode": {
    "name": "ipython",
    "version": 3
   },
   "file_extension": ".py",
   "mimetype": "text/x-python",
   "name": "python",
   "nbconvert_exporter": "python",
   "pygments_lexer": "ipython3",
   "version": "3.6.8"
  }
 },
 "nbformat": 4,
 "nbformat_minor": 2
}
