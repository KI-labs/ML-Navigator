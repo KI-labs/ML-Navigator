{
 "cells": [
  {
   "cell_type": "code",
   "execution_count": 1,
   "metadata": {},
   "outputs": [],
   "source": [
    "import os"
   ]
  },
  {
   "cell_type": "code",
   "execution_count": 2,
   "metadata": {},
   "outputs": [],
   "source": [
    "os.chdir('..')"
   ]
  },
  {
   "cell_type": "markdown",
   "metadata": {},
   "source": [
    "<img src=\"flow_0.png\">"
   ]
  },
  {
   "cell_type": "code",
   "execution_count": 3,
   "metadata": {},
   "outputs": [
    {
     "name": "stdout",
     "output_type": "stream",
     "text": [
      "\u001b[1m\u001b[35mWelcome to the Data Science Package. First create an object as follows:\u001b[m\u001b[m\n",
      "\u001b[1m\u001b[35mFor example, use the code below to import the flow 0:\u001b[m\u001b[m\n",
      "\u001b[32m\u001b[40mflow = Flows(0)\u001b[m\n",
      "\u001b[1m\u001b[35mYou can define the `categorical_threshold` which is the maximum number of categories that a categorical feature should have before considering it as continuous numeric feature. The default value is 50\u001b[m\u001b[m\n",
      "\u001b[1m\u001b[35mFor example, use the code below to import the flow 0 with defining the categorical_threshold as 50\u001b[m\u001b[m\n",
      "\u001b[32m\u001b[40mflow = Flows(flow_id=0, categorical_threshold=50)\u001b[m\n"
     ]
    }
   ],
   "source": [
    "import numpy as np\n",
    "from flows.flows import Flows"
   ]
  },
  {
   "cell_type": "code",
   "execution_count": 4,
   "metadata": {},
   "outputs": [
    {
     "name": "stdout",
     "output_type": "stream",
     "text": [
      "\u001b[1m\u001b[35mPlease use the following function to read the data\u001b[m\u001b[m\n",
      "\u001b[32m\u001b[40mdataframe_dict, columns_set = flow.load_data(path : str, files_list : list)\u001b[m\n",
      "\u001b[1m\u001b[35mFor example: \u001b[m\u001b[32m\u001b[40mpath = './data'\u001b[m\u001b[m\n",
      "\u001b[1m\u001b[35mIf your data is in a nested directory, it is better to os.path.join. For example: \u001b[m\u001b[32m\u001b[40mpath = os.path.join('data', 'flow_0')\u001b[m\u001b[m\n",
      "\u001b[1m\u001b[35mFor example: \u001b[m\u001b[32m\u001b[40mfiles_list = ['train.csv','test.csv']\u001b[m\u001b[m\n",
      "\u001b[1m\u001b[35mThe output is a dictionary that contains dataframes e.g.  \u001b[m\u001b[m\n",
      "\u001b[34mdataframe_dict, columns_set = {'train': train_dataframe,'test': test_dataframe}\u001b[m\n",
      "\u001b[1m\u001b[35mIf you want to explore the data you can run one of the following functions: \u001b[m\u001b[m\n",
      "\u001b[1m\u001b[35m1 . \u001b[m\u001b[32m\u001b[40mflow.exploring_data(dataframe_dict: dict, key_i: str)\u001b[m\u001b[m\n",
      "\u001b[1m\u001b[35mFor example: \u001b[m\u001b[32m\u001b[40mflow.exploring_data(dataframe_dict, 'train')\u001b[m\u001b[m\n",
      "\u001b[1m\u001b[35m2 . \u001b[m\u001b[32m\u001b[40mflow.comparing_statistics(dataframe_dict: dict)\u001b[m\u001b[m\n",
      "\u001b[1m\u001b[35mFor example: \u001b[m\u001b[32m\u001b[40mflow.comparing_statistics(dataframe_dict)\u001b[m\u001b[m\n",
      "\n",
      "\n",
      "\n",
      "\n"
     ]
    }
   ],
   "source": [
    "flow = Flows(flow_id=0, categorical_threshold=10)"
   ]
  },
  {
   "cell_type": "code",
   "execution_count": null,
   "metadata": {},
   "outputs": [],
   "source": [
    "path = os.path.join('data','flow_0')\n",
    "files_list = [\"train.csv\",\"test.csv\"]"
   ]
  },
  {
   "cell_type": "code",
   "execution_count": null,
   "metadata": {},
   "outputs": [],
   "source": [
    "dataframe_dict, columns_set = flow.load_data(path, files_list)"
   ]
  },
  {
   "cell_type": "code",
   "execution_count": null,
   "metadata": {},
   "outputs": [],
   "source": [
    " columns_set[\"train\"].keys()"
   ]
  },
  {
   "cell_type": "code",
   "execution_count": null,
   "metadata": {},
   "outputs": [],
   "source": [
    "dataframe_dict, columns_set = flow.encode_categorical_feature(dataframe_dict)"
   ]
  },
  {
   "cell_type": "code",
   "execution_count": null,
   "metadata": {},
   "outputs": [],
   "source": [
    "ignore_columns = ['Id', 'SalePrice']"
   ]
  },
  {
   "cell_type": "code",
   "execution_count": null,
   "metadata": {},
   "outputs": [],
   "source": [
    "dataframe_dict, columns_set = flow.scale_data(dataframe_dict, ignore_columns)"
   ]
  },
  {
   "cell_type": "code",
   "execution_count": null,
   "metadata": {},
   "outputs": [],
   "source": [
    "flow.exploring_data(dataframe_dict, \"train\")"
   ]
  },
  {
   "cell_type": "code",
   "execution_count": null,
   "metadata": {},
   "outputs": [],
   "source": [
    "flow.comparing_statistics(dataframe_dict)"
   ]
  },
  {
   "cell_type": "code",
   "execution_count": null,
   "metadata": {},
   "outputs": [],
   "source": [
    "ignore_columns = [\"Id\", \"SalePrice\"]\n",
    "columns = dataframe_dict[\"train\"].columns\n",
    "train_dataframe = dataframe_dict[\"train\"][[x for x in columns_set[\"train\"][\"continuous\"] if x not in ignore_columns]]\n",
    "test_dataframe = dataframe_dict[\"test\"][[x for x in columns_set[\"train\"][\"continuous\"] if x not in ignore_columns]]\n",
    "train_target = dataframe_dict[\"train\"][\"SalePrice\"]"
   ]
  },
  {
   "cell_type": "code",
   "execution_count": null,
   "metadata": {},
   "outputs": [],
   "source": [
    "parameters = {\n",
    "    \"data\": {\n",
    "        \"train\": {\"features\": train_dataframe, \"target\": train_target.to_numpy()},\n",
    "    },\n",
    "    \"split\": {\n",
    "        \"method\": \"kfold\",  # \"method\":\"kfold\"\n",
    "        \"fold_nr\": 5,  # fold_nr:5 , \"split_ratios\": 0.3 # \"split_ratios\":(0.3,0.2)\n",
    "    },\n",
    "    \"model\": {\"type\": \"Ridge linear regression\",\n",
    "              \"hyperparameters\": {\"alpha\": \"optimize\",  # alpha:optimize\n",
    "                                  },\n",
    "              },\n",
    "    \"metrics\": [\"r2_score\"],\n",
    "    \"predict\": {\n",
    "        \"test\": {\"features\": test_dataframe}\n",
    "    }\n",
    "}"
   ]
  },
  {
   "cell_type": "code",
   "execution_count": null,
   "metadata": {
    "scrolled": true
   },
   "outputs": [],
   "source": [
    "model_index_list, save_models_dir, y_test = flow.training(parameters)"
   ]
  },
  {
   "cell_type": "code",
   "execution_count": null,
   "metadata": {},
   "outputs": [],
   "source": [
    "parameters_lighgbm = {\n",
    "    \"data\": {\n",
    "        \"train\": {\"features\": train_dataframe, \"target\": train_target.to_numpy()},\n",
    "    },\n",
    "    \"split\": {\n",
    "        \"method\": \"kfold\",  # \"method\":\"kfold\"\n",
    "        \"fold_nr\": 5,  # fold_nr:5 , \"split_ratios\": 0.3 # \"split_ratios\":(0.3,0.2)\n",
    "    },\n",
    "    \"model\": {\"type\": \"lightgbm\",\n",
    "              \"hyperparameters\": dict(objective='regression', metric='root_mean_squared_error', num_leaves=5,\n",
    "                                      boost_from_average=True,\n",
    "                                      learning_rate=0.05, bagging_fraction=0.99, feature_fraction=0.99, max_depth=-1,\n",
    "                                      num_rounds=10000, min_data_in_leaf=10, boosting='dart')\n",
    "              },\n",
    "    \"metrics\": [\"mean_squared_error\"],\n",
    "    \"predict\": {\n",
    "        \"test\": {\"features\": test_dataframe}\n",
    "    }\n",
    "}"
   ]
  },
  {
   "cell_type": "code",
   "execution_count": null,
   "metadata": {},
   "outputs": [],
   "source": [
    "model_index_list, save_models_dir, y_test = flow.training(parameters_lighgbm)"
   ]
  },
  {
   "cell_type": "code",
   "execution_count": null,
   "metadata": {},
   "outputs": [],
   "source": [
    "parameters_xgboost = {\n",
    "    \"data\": {\n",
    "        \"train\": {\"features\": train_dataframe, \"target\": train_target.to_numpy()},\n",
    "    },\n",
    "    \"split\": {\n",
    "        \"method\": \"kfold\",  # \"method\":\"kfold\"\n",
    "        \"fold_nr\": 5,  # fold_nr:5 , \"split_ratios\": 0.3 # \"split_ratios\":(0.3,0.2)\n",
    "    },\n",
    "    \"model\": {\"type\": \"xgboost\",\n",
    "              \"hyperparameters\": {'max_depth': 5, 'eta': 1, 'eval_metric': \"rmse\", \"num_round\": 100}\n",
    "              },\n",
    "    \"metrics\": [\"r2_score\", \"mean_squared_error\"],\n",
    "    \"predict\": {\n",
    "        \"test\": {\"features\": test_dataframe}\n",
    "    }\n",
    "}"
   ]
  },
  {
   "cell_type": "code",
   "execution_count": null,
   "metadata": {},
   "outputs": [],
   "source": [
    "model_index_list, save_models_dir, ytest = flow.training(parameters_xgboost)"
   ]
  },
  {
   "cell_type": "code",
   "execution_count": null,
   "metadata": {},
   "outputs": [],
   "source": [
    "parameters_sklearn = {\n",
    "    \"data\": {\n",
    "        \"train\": {\"features\": train_dataframe, \"target\": train_target.to_numpy()},\n",
    "    },\n",
    "    \"split\": {\n",
    "        \"method\": \"split\",\n",
    "        \"split_ratios\": 0.2,\n",
    "        \"stratify\": False  # set to True only for classification tasks\n",
    "    },\n",
    "    \"model\": {\n",
    "        \"type\": \"sklearn.ensemble.RandomForestRegressor\",\n",
    "        \"hyperparameters\": {\n",
    "            'params_grid':{\n",
    "                'criterion': [\"mse\", \"mae\"],\n",
    "                'max_depth': [5, 10, 15, 999],\n",
    "                'min_samples_leaf': [4, 1],\n",
    "                'max_depth': [4, 8, 12],\n",
    "            },\n",
    "            'params_fixed': {\n",
    "                'min_samples_split': 10, \n",
    "                'random_state': 11\n",
    "            },\n",
    "            'params_cv': {\n",
    "                'n_splits': 5, \n",
    "                'shuffle': True, \n",
    "                'random_state': 11\n",
    "            },\n",
    "            'objective': 'regression',  # 'classification'\n",
    "            \"grid_search_scoring\": ['r2', 'neg_mean_squared_error']\n",
    "        },\n",
    "    },\n",
    "    \"metrics\": [\"r2_score\", \"mean_squared_error\"],\n",
    "    \"predict\": {\n",
    "        \"test\": {\"features\": test_dataframe}\n",
    "    }\n",
    "}\n",
    "\n",
    "model_index_list, save_models_dir, y_test = flow.training(parameters_sklearn)"
   ]
  },
  {
   "cell_type": "code",
   "execution_count": null,
   "metadata": {
    "scrolled": false
   },
   "outputs": [],
   "source": [
    "parameters_sklearn = {\n",
    "    \"data\": {\n",
    "        \"train\": {\"features\": train_dataframe, \"target\": train_target.to_numpy()},\n",
    "    },\n",
    "    \"split\": {\n",
    "        \"method\": \"split\",\n",
    "        \"split_ratios\": 0.2,\n",
    "        \"stratify\": False  # set to True only for classification tasks\n",
    "    },\n",
    "    \"model\": {\n",
    "        \"type\": \"sklearn.linear_model.ElasticNet\",\n",
    "        \"hyperparameters\": {\n",
    "            'params_grid':{\n",
    "                'alpha': np.logspace(-3,3,7),\n",
    "                'l1_ratio': np.linspace(0, 0., num=4)+0.01\n",
    "            },\n",
    "            'params_fixed': {\n",
    "                'normalize': True, \n",
    "                'max_iter': 2000,\n",
    "                'random_state': 11\n",
    "            },\n",
    "            'params_cv': {\n",
    "                'n_splits': 5, \n",
    "                'shuffle': True, \n",
    "                'random_state': 11\n",
    "            },\n",
    "            'objective': 'regression',  # 'classification'\n",
    "            \"grid_search_scoring\": ['r2', 'neg_mean_squared_error']\n",
    "        },\n",
    "    },\n",
    "    \"metrics\": [\"r2_score\", \"mean_squared_error\"],\n",
    "    \"predict\": {\n",
    "        \"test\": {\"features\": test_dataframe}\n",
    "    }\n",
    "}\n",
    "\n",
    "model_index_list, save_models_dir, y_test = flow.training(parameters_sklearn)"
   ]
  },
  {
   "cell_type": "code",
   "execution_count": null,
   "metadata": {},
   "outputs": [],
   "source": []
  }
 ],
 "metadata": {
  "kernelspec": {
   "display_name": "Python 3",
   "language": "python",
   "name": "python3"
  },
  "language_info": {
   "codemirror_mode": {
    "name": "ipython",
    "version": 3
   },
   "file_extension": ".py",
   "mimetype": "text/x-python",
   "name": "python",
   "nbconvert_exporter": "python",
   "pygments_lexer": "ipython3",
   "version": "3.6.8"
  }
 },
 "nbformat": 4,
 "nbformat_minor": 2
}
