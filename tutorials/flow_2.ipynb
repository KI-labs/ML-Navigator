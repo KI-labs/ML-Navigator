{
 "cells": [
  {
   "cell_type": "code",
   "execution_count": 1,
   "metadata": {},
   "outputs": [],
   "source": [
    "import os"
   ]
  },
  {
   "cell_type": "code",
   "execution_count": 2,
   "metadata": {},
   "outputs": [],
   "source": [
    "os.chdir('..')"
   ]
  },
  {
   "cell_type": "markdown",
   "metadata": {},
   "source": [
    "<img src=\"flow_2.png\">"
   ]
  },
  {
   "cell_type": "code",
   "execution_count": 3,
   "metadata": {},
   "outputs": [
    {
     "name": "stdout",
     "output_type": "stream",
     "text": [
      "\u001b[1m\u001b[35mWelcome to the Data Science Package. First create an object as follows:\u001b[m\u001b[m\n",
      "\u001b[1m\u001b[35mFor example, use the code below to import the flow 0:\u001b[m\u001b[m\n",
      "\u001b[32m\u001b[40mflow = Flows(0)\u001b[m\n",
      "\u001b[1m\u001b[35mYou can define the `categorical_threshold` which is the maximum number of categories that a categorical feature should have before considering it as continuous numeric feature. The default value is 50\u001b[m\u001b[m\n",
      "\u001b[1m\u001b[35mFor example, use the code below to import the flow 0 with defining the categorical_threshold as 50\u001b[m\u001b[m\n",
      "\u001b[32m\u001b[40mflow = Flows(flow_id=0, categorical_threshold=50)\u001b[m\n"
     ]
    }
   ],
   "source": [
    "from flows.flows import Flows"
   ]
  },
  {
   "cell_type": "code",
   "execution_count": 4,
   "metadata": {},
   "outputs": [
    {
     "name": "stdout",
     "output_type": "stream",
     "text": [
      "\u001b[1m\u001b[35mPlease use the following function to read the data\u001b[m\u001b[m\n",
      "\u001b[32m\u001b[40mdataframe_dict = flow.load_data(path: str, files_list: list)\u001b[m\n",
      "\u001b[1m\u001b[35mFor example: \u001b[m\u001b[32m\u001b[40mpath = './data'\u001b[m\u001b[m\n",
      "\u001b[1m\u001b[35mFor example: \u001b[m\u001b[32m\u001b[40mfiles_list = ['train.csv','test.csv']\u001b[m\u001b[m\n",
      "\u001b[1m\u001b[35mThe output is a dictionary that contains dataframes e.g.  \u001b[m\u001b[m\n",
      "\u001b[34mdataframe_dict = {'train': train_dataframe,'test': test_dataframe}\u001b[m\n"
     ]
    }
   ],
   "source": [
    "flow = Flows(2)"
   ]
  },
  {
   "cell_type": "code",
   "execution_count": 5,
   "metadata": {},
   "outputs": [],
   "source": [
    "path = \"./data/flow_2\"\n",
    "files_list = [\"train.csv\",\"test.csv\"]"
   ]
  },
  {
   "cell_type": "code",
   "execution_count": 6,
   "metadata": {
    "scrolled": true
   },
   "outputs": [
    {
     "name": "stdout",
     "output_type": "stream",
     "text": [
      "A summary of the data sets\n"
     ]
    },
    {
     "data": {
      "text/html": [
       "<div>\n",
       "<style scoped>\n",
       "    .dataframe tbody tr th:only-of-type {\n",
       "        vertical-align: middle;\n",
       "    }\n",
       "\n",
       "    .dataframe tbody tr th {\n",
       "        vertical-align: top;\n",
       "    }\n",
       "\n",
       "    .dataframe thead th {\n",
       "        text-align: right;\n",
       "    }\n",
       "</style>\n",
       "<table border=\"1\" class=\"dataframe\">\n",
       "  <thead>\n",
       "    <tr style=\"text-align: right;\">\n",
       "      <th></th>\n",
       "      <th>train</th>\n",
       "      <th>test</th>\n",
       "    </tr>\n",
       "    <tr>\n",
       "      <th>column type</th>\n",
       "      <th></th>\n",
       "      <th></th>\n",
       "    </tr>\n",
       "  </thead>\n",
       "  <tbody>\n",
       "    <tr>\n",
       "      <th>categorical_integer</th>\n",
       "      <td>0</td>\n",
       "      <td>0</td>\n",
       "    </tr>\n",
       "    <tr>\n",
       "      <th>categorical_string</th>\n",
       "      <td>9</td>\n",
       "      <td>8</td>\n",
       "    </tr>\n",
       "    <tr>\n",
       "      <th>continuous</th>\n",
       "      <td>5</td>\n",
       "      <td>4</td>\n",
       "    </tr>\n",
       "    <tr>\n",
       "      <th>date</th>\n",
       "      <td>1</td>\n",
       "      <td>1</td>\n",
       "    </tr>\n",
       "    <tr>\n",
       "      <th>json</th>\n",
       "      <td>8</td>\n",
       "      <td>9</td>\n",
       "    </tr>\n",
       "    <tr>\n",
       "      <th>other</th>\n",
       "      <td>0</td>\n",
       "      <td>0</td>\n",
       "    </tr>\n",
       "    <tr>\n",
       "      <th>total amount</th>\n",
       "      <td>23</td>\n",
       "      <td>22</td>\n",
       "    </tr>\n",
       "  </tbody>\n",
       "</table>\n",
       "</div>"
      ],
      "text/plain": [
       "                     train  test\n",
       "column type                     \n",
       "categorical_integer      0     0\n",
       "categorical_string       9     8\n",
       "continuous               5     4\n",
       "date                     1     1\n",
       "json                     8     9\n",
       "other                    0     0\n",
       "total amount            23    22"
      ]
     },
     "metadata": {},
     "output_type": "display_data"
    },
    {
     "name": "stdout",
     "output_type": "stream",
     "text": [
      "\u001b[1mNOTE: numeric categorical columns that contains more than 50 classes are considered numeric continuous features.\u001b[0;0m\n",
      "\u001b[1mNOTE: You can modify the threshold value if you want to consider more or less numeric categorical features as numeric continuous features.\u001b[0;0m\n",
      "The possible ids are {'id', 'imdb_id', 'popularity'}\n",
      "The possible possible_target are ['revenue']\n",
      "The type of the problem that should be solved {'revenue': 'regression'}\n",
      "\u001b[1m\u001b[35mYou have JSON nested data inside the dataframe columns. Flatten the nested JSON data by applying the following function:\n",
      "\u001b[m\u001b[32m\u001b[40mdataframe_dict, columns_set= flow.flatten_json_data(dataframe_dict)\u001b[m\u001b[m\n"
     ]
    }
   ],
   "source": [
    "dataframe_dict, columns_set = flow.load_data(path, files_list)"
   ]
  },
  {
   "cell_type": "code",
   "execution_count": 7,
   "metadata": {},
   "outputs": [
    {
     "name": "stdout",
     "output_type": "stream",
     "text": [
      "Flatting column: belongs_to_collection\n",
      "Flatting column: genres\n",
      "Flatting column: production_companies\n",
      "Flatting column: production_countries\n",
      "Flatting column: spoken_languages\n",
      "Flatting column: Keywords\n",
      "Flatting column: cast\n",
      "Flatting column: crew\n",
      "A summary of the data sets\n"
     ]
    },
    {
     "data": {
      "text/html": [
       "<div>\n",
       "<style scoped>\n",
       "    .dataframe tbody tr th:only-of-type {\n",
       "        vertical-align: middle;\n",
       "    }\n",
       "\n",
       "    .dataframe tbody tr th {\n",
       "        vertical-align: top;\n",
       "    }\n",
       "\n",
       "    .dataframe thead th {\n",
       "        text-align: right;\n",
       "    }\n",
       "</style>\n",
       "<table border=\"1\" class=\"dataframe\">\n",
       "  <thead>\n",
       "    <tr style=\"text-align: right;\">\n",
       "      <th></th>\n",
       "      <th>train</th>\n",
       "      <th>test</th>\n",
       "    </tr>\n",
       "    <tr>\n",
       "      <th>column type</th>\n",
       "      <th></th>\n",
       "      <th></th>\n",
       "    </tr>\n",
       "  </thead>\n",
       "  <tbody>\n",
       "    <tr>\n",
       "      <th>categorical_integer</th>\n",
       "      <td>39</td>\n",
       "      <td>38</td>\n",
       "    </tr>\n",
       "    <tr>\n",
       "      <th>categorical_string</th>\n",
       "      <td>163</td>\n",
       "      <td>166</td>\n",
       "    </tr>\n",
       "    <tr>\n",
       "      <th>continuous</th>\n",
       "      <td>55</td>\n",
       "      <td>55</td>\n",
       "    </tr>\n",
       "    <tr>\n",
       "      <th>date</th>\n",
       "      <td>6</td>\n",
       "      <td>2</td>\n",
       "    </tr>\n",
       "    <tr>\n",
       "      <th>json</th>\n",
       "      <td>0</td>\n",
       "      <td>1</td>\n",
       "    </tr>\n",
       "    <tr>\n",
       "      <th>other</th>\n",
       "      <td>0</td>\n",
       "      <td>0</td>\n",
       "    </tr>\n",
       "    <tr>\n",
       "      <th>total amount</th>\n",
       "      <td>263</td>\n",
       "      <td>262</td>\n",
       "    </tr>\n",
       "  </tbody>\n",
       "</table>\n",
       "</div>"
      ],
      "text/plain": [
       "                     train  test\n",
       "column type                     \n",
       "categorical_integer     39    38\n",
       "categorical_string     163   166\n",
       "continuous              55    55\n",
       "date                     6     2\n",
       "json                     0     1\n",
       "other                    0     0\n",
       "total amount           263   262"
      ]
     },
     "metadata": {},
     "output_type": "display_data"
    },
    {
     "name": "stdout",
     "output_type": "stream",
     "text": [
      "\u001b[1mNOTE: numeric categorical columns that contains more than 50 classes are considered numeric continuous features.\u001b[0;0m\n",
      "\u001b[1mNOTE: You can modify the threshold value if you want to consider more or less numeric categorical features as numeric continuous features.\u001b[0;0m\n",
      "\u001b[1m\u001b[35mIf you have categorical features with string labels, Encode the categorical features by applying the following function:\n",
      "\u001b[m\u001b[32m\u001b[40mdataframe_dict, columns_set = flow.encode_categorical_feature(dataframe_dict: dict)\u001b[m\u001b[m\n"
     ]
    }
   ],
   "source": [
    "dataframe_dict, columns_set= flow.flatten_json_data(dataframe_dict)"
   ]
  },
  {
   "cell_type": "code",
   "execution_count": 8,
   "metadata": {},
   "outputs": [
    {
     "name": "stdout",
     "output_type": "stream",
     "text": [
      "The reference dataframe is: train\n",
      "\u001b[31m******************************\u001b[m\n",
      "A summary of the data sets\n"
     ]
    },
    {
     "data": {
      "text/html": [
       "<div>\n",
       "<style scoped>\n",
       "    .dataframe tbody tr th:only-of-type {\n",
       "        vertical-align: middle;\n",
       "    }\n",
       "\n",
       "    .dataframe tbody tr th {\n",
       "        vertical-align: top;\n",
       "    }\n",
       "\n",
       "    .dataframe thead th {\n",
       "        text-align: right;\n",
       "    }\n",
       "</style>\n",
       "<table border=\"1\" class=\"dataframe\">\n",
       "  <thead>\n",
       "    <tr style=\"text-align: right;\">\n",
       "      <th></th>\n",
       "      <th>train</th>\n",
       "      <th>test</th>\n",
       "    </tr>\n",
       "    <tr>\n",
       "      <th>column type</th>\n",
       "      <th></th>\n",
       "      <th></th>\n",
       "    </tr>\n",
       "  </thead>\n",
       "  <tbody>\n",
       "    <tr>\n",
       "      <th>categorical_integer</th>\n",
       "      <td>89</td>\n",
       "      <td>83</td>\n",
       "    </tr>\n",
       "    <tr>\n",
       "      <th>categorical_string</th>\n",
       "      <td>0</td>\n",
       "      <td>5</td>\n",
       "    </tr>\n",
       "    <tr>\n",
       "      <th>continuous</th>\n",
       "      <td>168</td>\n",
       "      <td>173</td>\n",
       "    </tr>\n",
       "    <tr>\n",
       "      <th>date</th>\n",
       "      <td>6</td>\n",
       "      <td>1</td>\n",
       "    </tr>\n",
       "    <tr>\n",
       "      <th>json</th>\n",
       "      <td>0</td>\n",
       "      <td>0</td>\n",
       "    </tr>\n",
       "    <tr>\n",
       "      <th>other</th>\n",
       "      <td>0</td>\n",
       "      <td>0</td>\n",
       "    </tr>\n",
       "    <tr>\n",
       "      <th>total amount</th>\n",
       "      <td>263</td>\n",
       "      <td>262</td>\n",
       "    </tr>\n",
       "  </tbody>\n",
       "</table>\n",
       "</div>"
      ],
      "text/plain": [
       "                     train  test\n",
       "column type                     \n",
       "categorical_integer     89    83\n",
       "categorical_string       0     5\n",
       "continuous             168   173\n",
       "date                     6     1\n",
       "json                     0     0\n",
       "other                    0     0\n",
       "total amount           263   262"
      ]
     },
     "metadata": {},
     "output_type": "display_data"
    },
    {
     "name": "stdout",
     "output_type": "stream",
     "text": [
      "\u001b[1mNOTE: numeric categorical columns that contains more than 50 classes are considered numeric continuous features.\u001b[0;0m\n",
      "\u001b[1mNOTE: You can modify the threshold value if you want to consider more or less numeric categorical features as numeric continuous features.\u001b[0;0m\n",
      "\u001b[1m\u001b[35mIf you have numeric features, it is a good idea to normalize numeric features. Use the following function for feature normalization :\n",
      "\u001b[m\u001b[32m\u001b[40mdataframe_dict, columns_set = flow.scale_data (dataframe_dict: dict, ignore_columns: list)\u001b[m\u001b[m\n",
      "\u001b[1m\u001b[35mFor example: \u001b[m\u001b[32m\u001b[40mignore_columns = ['id', 'target']\u001b[m\u001b[m\n"
     ]
    }
   ],
   "source": [
    "dataframe_dict, columns_set = flow.encode_categorical_feature(dataframe_dict)"
   ]
  },
  {
   "cell_type": "code",
   "execution_count": 9,
   "metadata": {},
   "outputs": [],
   "source": [
    "ignore_columns = ['id', 'revenue']"
   ]
  },
  {
   "cell_type": "code",
   "execution_count": 10,
   "metadata": {},
   "outputs": [
    {
     "name": "stdout",
     "output_type": "stream",
     "text": [
      "A summary of the data sets\n"
     ]
    },
    {
     "data": {
      "text/html": [
       "<div>\n",
       "<style scoped>\n",
       "    .dataframe tbody tr th:only-of-type {\n",
       "        vertical-align: middle;\n",
       "    }\n",
       "\n",
       "    .dataframe tbody tr th {\n",
       "        vertical-align: top;\n",
       "    }\n",
       "\n",
       "    .dataframe thead th {\n",
       "        text-align: right;\n",
       "    }\n",
       "</style>\n",
       "<table border=\"1\" class=\"dataframe\">\n",
       "  <thead>\n",
       "    <tr style=\"text-align: right;\">\n",
       "      <th></th>\n",
       "      <th>train</th>\n",
       "      <th>test</th>\n",
       "    </tr>\n",
       "    <tr>\n",
       "      <th>column type</th>\n",
       "      <th></th>\n",
       "      <th></th>\n",
       "    </tr>\n",
       "  </thead>\n",
       "  <tbody>\n",
       "    <tr>\n",
       "      <th>categorical_integer</th>\n",
       "      <td>89</td>\n",
       "      <td>83</td>\n",
       "    </tr>\n",
       "    <tr>\n",
       "      <th>categorical_string</th>\n",
       "      <td>0</td>\n",
       "      <td>5</td>\n",
       "    </tr>\n",
       "    <tr>\n",
       "      <th>continuous</th>\n",
       "      <td>168</td>\n",
       "      <td>173</td>\n",
       "    </tr>\n",
       "    <tr>\n",
       "      <th>date</th>\n",
       "      <td>6</td>\n",
       "      <td>1</td>\n",
       "    </tr>\n",
       "    <tr>\n",
       "      <th>json</th>\n",
       "      <td>0</td>\n",
       "      <td>0</td>\n",
       "    </tr>\n",
       "    <tr>\n",
       "      <th>other</th>\n",
       "      <td>0</td>\n",
       "      <td>0</td>\n",
       "    </tr>\n",
       "    <tr>\n",
       "      <th>total amount</th>\n",
       "      <td>263</td>\n",
       "      <td>262</td>\n",
       "    </tr>\n",
       "  </tbody>\n",
       "</table>\n",
       "</div>"
      ],
      "text/plain": [
       "                     train  test\n",
       "column type                     \n",
       "categorical_integer     89    83\n",
       "categorical_string       0     5\n",
       "continuous             168   173\n",
       "date                     6     1\n",
       "json                     0     0\n",
       "other                    0     0\n",
       "total amount           263   262"
      ]
     },
     "metadata": {},
     "output_type": "display_data"
    },
    {
     "name": "stdout",
     "output_type": "stream",
     "text": [
      "\u001b[1mNOTE: numeric categorical columns that contains more than 50 classes are considered numeric continuous features.\u001b[0;0m\n",
      "\u001b[1mNOTE: You can modify the threshold value if you want to consider more or less numeric categorical features as numeric continuous features.\u001b[0;0m\n",
      "\u001b[1m\u001b[35mYour features are ready to train the model: \u001b[m\u001b[m\n",
      "\u001b[1m\u001b[35mIf you want to explore the data you can run one of the following functions: \u001b[m\u001b[m\n",
      "\u001b[1m\u001b[35m1 . \u001b[m\u001b[32m\u001b[40mflow.exploring_data(dataframe_dict: dict, key_i: str)\u001b[m\u001b[m\n",
      "\u001b[1m\u001b[35mFor example: \u001b[m\u001b[32m\u001b[40mflow.exploring_data(dataframe_dict, 'train')\u001b[m\u001b[m\n",
      "\u001b[1m\u001b[35m2 . \u001b[m\u001b[32m\u001b[40mflow.comparing_statistics(dataframe_dict: dict)\u001b[m\u001b[m\n",
      "\u001b[1m\u001b[35mFor example: \u001b[m\u001b[32m\u001b[40mflow.comparing_statistics(dataframe_dict)\u001b[m\u001b[m\n",
      "\n",
      "\n",
      "\n",
      "\n",
      "\u001b[1m\u001b[35mYou can start training the model by applying the following function: \u001b[m\u001b[m\n",
      "\u001b[32m\u001b[40mmodel_index_list, save_models_dir, y_test = flow.training(parameters)\u001b[m\n",
      "parameters = { \n",
      " \"data\": {\n",
      " \"train\": {\"features\": train_dataframe, \"target\": train_target},\n",
      " \"valid\": {\"features\": valid_dataframe, \"target\": valid_target},\n",
      " \"test\": {\"features\": test_dataframe, \"target\": test_target},\n",
      " },\n",
      " \"split\": {\n",
      " \"method\": \"split\",  # \"method\":\"kfold\"\n",
      " \"split_ratios\": 0.2,  # fold_nr: 5 , \"split_ratios\": 0.2 # \"split_ratios\":(0.3,0.2)\n",
      " },\n",
      " \"model\": {\"type\": \"Ridge linear regression\",\n",
      " \"hyperparameters\": {\"alpha\": 1,  # alpha:optimize\n",
      " },\n",
      " },\n",
      " \"metrics\": [\"r2_score\", \"mean_squared_error\"]\n",
      " }\n"
     ]
    }
   ],
   "source": [
    "dataframe_dict, columns_set = flow.scale_data(dataframe_dict, ignore_columns)"
   ]
  },
  {
   "cell_type": "code",
   "execution_count": 11,
   "metadata": {},
   "outputs": [
    {
     "name": "stdout",
     "output_type": "stream",
     "text": [
      "\u001b[1mExploring column: id\u001b[0;0m\n",
      "If there are missing values, they will be replaced by the term: -9999\n",
      "The 5 most repeated values:\n",
      "the value 4094     is found  1 times\n",
      "the value 4835     is found  1 times\n",
      "the value 4823     is found  1 times\n",
      "the value 6874     is found  1 times\n",
      "the value 4827     is found  1 times\n",
      "The 5 least repeated values\n",
      "the value 3351     is found  1 times\n",
      "the value 5396     is found  1 times\n",
      "the value 3347     is found  1 times\n",
      "the value 5392     is found  1 times\n",
      "the value 4098     is found  1 times\n",
      "The number of unique values is --> 4398\n",
      "If you applied a normalization function, the x axis will show the normalized values.\n"
     ]
    },
    {
     "data": {
      "image/png": "[encoded data removed]",
      "text/plain": [
       "<Figure size 432x288 with 1 Axes>"
      ]
     },
     "metadata": {
      "needs_background": "light"
     },
     "output_type": "display_data"
    }
   ],
   "source": [
    "flow.exploring_data(dataframe_dict, \"test\")"
   ]
  },
  {
   "cell_type": "code",
   "execution_count": 12,
   "metadata": {},
   "outputs": [
    {
     "name": "stdout",
     "output_type": "stream",
     "text": [
      "id: Comparing the statistical properties\n"
     ]
    },
    {
     "data": {
      "image/png": "[encoded data removed]",
      "text/plain": [
       "<Figure size 432x288 with 1 Axes>"
      ]
     },
     "metadata": {
      "needs_background": "light"
     },
     "output_type": "display_data"
    }
   ],
   "source": [
    "flow.comparing_statistics(dataframe_dict)"
   ]
  },
  {
   "cell_type": "code",
   "execution_count": 13,
   "metadata": {},
   "outputs": [],
   "source": [
    "ignore_columns = [\"id\", \"release_date\", \"revenue\"]\n",
    "columns = dataframe_dict[\"train\"].columns\n",
    "train_dataframe = dataframe_dict[\"train\"][[x for x in columns_set[\"train\"][\"continuous\"] if x not in ignore_columns]]\n",
    "test_dataframe = dataframe_dict[\"test\"][[x for x in columns_set[\"train\"][\"continuous\"] if x not in ignore_columns]]\n",
    "train_target = dataframe_dict[\"train\"][\"revenue\"]"
   ]
  },
  {
   "cell_type": "code",
   "execution_count": 14,
   "metadata": {},
   "outputs": [],
   "source": [
    "parameters = {\n",
    "    \"data\": {\n",
    "        \"train\": {\"features\": train_dataframe, \"target\": train_target.to_numpy()},\n",
    "    },\n",
    "    \"split\": {\n",
    "        \"method\": \"kfold\",  # \"method\":\"kfold\"\n",
    "        \"fold_nr\": 5,  # foldnr:5 , \"split_ratios\": 0.8 # \"split_ratios\":(0.7,0.2)\n",
    "    },\n",
    "    \"model\": {\"type\": \"Ridge linear regression\",\n",
    "              \"hyperparameters\": {\"alpha\": \"optimize\",  # alpha:optimize\n",
    "                                  },\n",
    "              },\n",
    "    \"metrics\": [\"r2_score\", \"mean_squared_error\"],\n",
    "    \"predict\": {\n",
    "        \"test\": {\"features\": test_dataframe}\n",
    "    }\n",
    "}"
   ]
  },
  {
   "cell_type": "code",
   "execution_count": 15,
   "metadata": {},
   "outputs": [
    {
     "name": "stdout",
     "output_type": "stream",
     "text": [
      "shuffle is not provided: 'shuffle'\n",
      "random_state is not provided: 'random_state'\n",
      "fold_nr. 1\n",
      "{'r2_score (train.train)': 67.61, 'mean_squared_error (train.train)': 6546600044115886.0, 'r2_score (train.validation)': 62.37, 'mean_squared_error (train.validation)': 5084606750712582.0}\n",
      "fold_nr. 2\n",
      "{'r2_score (train.train)': 68.2, 'mean_squared_error (train.train)': 5445447195619802.0, 'r2_score (train.validation)': 59.34, 'mean_squared_error (train.validation)': 1.0559274556050284e+16}\n",
      "fold_nr. 3\n",
      "{'r2_score (train.train)': 65.22, 'mean_squared_error (train.train)': 6629820394829373.0, 'r2_score (train.validation)': 73.8, 'mean_squared_error (train.validation)': 4793264072532893.0}\n",
      "fold_nr. 4\n",
      "{'r2_score (train.train)': 69.89, 'mean_squared_error (train.train)': 6108809815850518.0, 'r2_score (train.validation)': 49.3, 'mean_squared_error (train.validation)': 6790113966867325.0}\n",
      "fold_nr. 5\n",
      "{'r2_score (train.train)': 66.73, 'mean_squared_error (train.train)': 5937221370042006.0, 'r2_score (train.validation)': 66.14, 'mean_squared_error (train.validation)': 7840840394784980.0}\n"
     ]
    },
    {
     "data": {
      "text/html": [
       "<div>\n",
       "<style scoped>\n",
       "    .dataframe tbody tr th:only-of-type {\n",
       "        vertical-align: middle;\n",
       "    }\n",
       "\n",
       "    .dataframe tbody tr th {\n",
       "        vertical-align: top;\n",
       "    }\n",
       "\n",
       "    .dataframe thead th {\n",
       "        text-align: right;\n",
       "    }\n",
       "</style>\n",
       "<table border=\"1\" class=\"dataframe\">\n",
       "  <thead>\n",
       "    <tr style=\"text-align: right;\">\n",
       "      <th></th>\n",
       "      <th>fold_1</th>\n",
       "      <th>fold_2</th>\n",
       "      <th>fold_3</th>\n",
       "      <th>fold_4</th>\n",
       "      <th>fold_5</th>\n",
       "      <th>mean</th>\n",
       "    </tr>\n",
       "  </thead>\n",
       "  <tbody>\n",
       "    <tr>\n",
       "      <th>mean_squared_error (train.train)</th>\n",
       "      <td>6.546600e+15</td>\n",
       "      <td>5.445447e+15</td>\n",
       "      <td>6.629820e+15</td>\n",
       "      <td>6.108810e+15</td>\n",
       "      <td>5.937221e+15</td>\n",
       "      <td>6.133580e+15</td>\n",
       "    </tr>\n",
       "    <tr>\n",
       "      <th>mean_squared_error (train.validation)</th>\n",
       "      <td>5.084607e+15</td>\n",
       "      <td>1.055927e+16</td>\n",
       "      <td>4.793264e+15</td>\n",
       "      <td>6.790114e+15</td>\n",
       "      <td>7.840840e+15</td>\n",
       "      <td>7.013620e+15</td>\n",
       "    </tr>\n",
       "    <tr>\n",
       "      <th>r2_score (train.train)</th>\n",
       "      <td>6.761000e+01</td>\n",
       "      <td>6.820000e+01</td>\n",
       "      <td>6.522000e+01</td>\n",
       "      <td>6.989000e+01</td>\n",
       "      <td>6.673000e+01</td>\n",
       "      <td>6.753000e+01</td>\n",
       "    </tr>\n",
       "    <tr>\n",
       "      <th>r2_score (train.validation)</th>\n",
       "      <td>6.237000e+01</td>\n",
       "      <td>5.934000e+01</td>\n",
       "      <td>7.380000e+01</td>\n",
       "      <td>4.930000e+01</td>\n",
       "      <td>6.614000e+01</td>\n",
       "      <td>6.219000e+01</td>\n",
       "    </tr>\n",
       "  </tbody>\n",
       "</table>\n",
       "</div>"
      ],
      "text/plain": [
       "                                             fold_1        fold_2  \\\n",
       "mean_squared_error (train.train)       6.546600e+15  5.445447e+15   \n",
       "mean_squared_error (train.validation)  5.084607e+15  1.055927e+16   \n",
       "r2_score (train.train)                 6.761000e+01  6.820000e+01   \n",
       "r2_score (train.validation)            6.237000e+01  5.934000e+01   \n",
       "\n",
       "                                             fold_3        fold_4  \\\n",
       "mean_squared_error (train.train)       6.629820e+15  6.108810e+15   \n",
       "mean_squared_error (train.validation)  4.793264e+15  6.790114e+15   \n",
       "r2_score (train.train)                 6.522000e+01  6.989000e+01   \n",
       "r2_score (train.validation)            7.380000e+01  4.930000e+01   \n",
       "\n",
       "                                             fold_5          mean  \n",
       "mean_squared_error (train.train)       5.937221e+15  6.133580e+15  \n",
       "mean_squared_error (train.validation)  7.840840e+15  7.013620e+15  \n",
       "r2_score (train.train)                 6.673000e+01  6.753000e+01  \n",
       "r2_score (train.validation)            6.614000e+01  6.219000e+01  "
      ]
     },
     "metadata": {},
     "output_type": "display_data"
    },
    {
     "data": {
      "text/html": [
       "<div>\n",
       "<style scoped>\n",
       "    .dataframe tbody tr th:only-of-type {\n",
       "        vertical-align: middle;\n",
       "    }\n",
       "\n",
       "    .dataframe tbody tr th {\n",
       "        vertical-align: top;\n",
       "    }\n",
       "\n",
       "    .dataframe thead th {\n",
       "        text-align: right;\n",
       "    }\n",
       "</style>\n",
       "<table border=\"1\" class=\"dataframe\">\n",
       "  <thead>\n",
       "    <tr style=\"text-align: right;\">\n",
       "      <th></th>\n",
       "      <th>model 1</th>\n",
       "      <th>model 2</th>\n",
       "      <th>model 3</th>\n",
       "      <th>model 4</th>\n",
       "      <th>model 5</th>\n",
       "      <th>mean</th>\n",
       "    </tr>\n",
       "  </thead>\n",
       "  <tbody>\n",
       "    <tr>\n",
       "      <th>mean_squared_error (train)</th>\n",
       "      <td>6.254201e+15</td>\n",
       "      <td>6.468213e+15</td>\n",
       "      <td>6.262509e+15</td>\n",
       "      <td>6.245071e+15</td>\n",
       "      <td>6.317945e+15</td>\n",
       "      <td>6.309588e+15</td>\n",
       "    </tr>\n",
       "    <tr>\n",
       "      <th>r2_score (train)</th>\n",
       "      <td>6.692000e+01</td>\n",
       "      <td>6.579000e+01</td>\n",
       "      <td>6.688000e+01</td>\n",
       "      <td>6.697000e+01</td>\n",
       "      <td>6.659000e+01</td>\n",
       "      <td>6.663000e+01</td>\n",
       "    </tr>\n",
       "  </tbody>\n",
       "</table>\n",
       "</div>"
      ],
      "text/plain": [
       "                                 model 1       model 2       model 3  \\\n",
       "mean_squared_error (train)  6.254201e+15  6.468213e+15  6.262509e+15   \n",
       "r2_score (train)            6.692000e+01  6.579000e+01  6.688000e+01   \n",
       "\n",
       "                                 model 4       model 5          mean  \n",
       "mean_squared_error (train)  6.245071e+15  6.317945e+15  6.309588e+15  \n",
       "r2_score (train)            6.697000e+01  6.659000e+01  6.663000e+01  "
      ]
     },
     "metadata": {},
     "output_type": "display_data"
    },
    {
     "name": "stdout",
     "output_type": "stream",
     "text": [
      "This is the end of the flow\n"
     ]
    }
   ],
   "source": [
    "model_index_list, save_models_dir, y_test = flow.training(parameters)"
   ]
  },
  {
   "cell_type": "code",
   "execution_count": 16,
   "metadata": {},
   "outputs": [],
   "source": [
    "parameters_lighgbm = {\n",
    "    \"data\": {\n",
    "        \"train\": {\"features\": train_dataframe, \"target\": train_target.to_numpy()},\n",
    "    },\n",
    "    \"split\": {\n",
    "        \"method\": \"kfold\",  # \"method\":\"kfold\"\n",
    "        \"fold_nr\": 5,  # foldnr:5 , \"split_ratios\": 0.8 # \"split_ratios\":(0.7,0.2)\n",
    "    },\n",
    "    \"model\": {\"type\": \"lightgbm\",\n",
    "              \"hyperparameters\": dict(objective='regression', metric='root_mean_squared_error', num_leaves=5,\n",
    "                                      boost_from_average=True,\n",
    "                                      learning_rate=0.05, bagging_fraction=0.99, feature_fraction=0.99, max_depth=-1,\n",
    "                                      num_rounds=10000, min_data_in_leaf=10, boosting='dart')\n",
    "              },\n",
    "    \"metrics\": [\"r2_score\", \"mean_squared_error\"],\n",
    "    \"predict\": {\n",
    "        \"test\": {\"features\": test_dataframe}\n",
    "    }\n",
    "}"
   ]
  },
  {
   "cell_type": "code",
   "execution_count": 17,
   "metadata": {},
   "outputs": [
    {
     "name": "stdout",
     "output_type": "stream",
     "text": [
      "shuffle is not provided: 'shuffle'\n",
      "random_state is not provided: 'random_state'\n",
      "fold_nr. 1\n",
      "{'r2_score (train.train)': 99.2, 'mean_squared_error (train.train)': 162532072875726.03, 'r2_score (train.validation)': 69.2, 'mean_squared_error (train.validation)': 4161872311224590.5}\n",
      "fold_nr. 2\n",
      "{'r2_score (train.train)': 99.19, 'mean_squared_error (train.train)': 138068043611638.67, 'r2_score (train.validation)': 65.72, 'mean_squared_error (train.validation)': 8901642375697507.0}\n",
      "fold_nr. 3\n",
      "{'r2_score (train.train)': 99.2, 'mean_squared_error (train.train)': 152172631423137.28, 'r2_score (train.validation)': 81.64, 'mean_squared_error (train.validation)': 3358898044730845.5}\n",
      "fold_nr. 4\n",
      "{'r2_score (train.train)': 99.27, 'mean_squared_error (train.train)': 147493714262241.38, 'r2_score (train.validation)': 54.66, 'mean_squared_error (train.validation)': 6071373086620322.0}\n",
      "fold_nr. 5\n",
      "{'r2_score (train.train)': 99.2, 'mean_squared_error (train.train)': 142303366061344.75, 'r2_score (train.validation)': 68.14, 'mean_squared_error (train.validation)': 7376339159188029.0}\n"
     ]
    },
    {
     "data": {
      "text/html": [
       "<div>\n",
       "<style scoped>\n",
       "    .dataframe tbody tr th:only-of-type {\n",
       "        vertical-align: middle;\n",
       "    }\n",
       "\n",
       "    .dataframe tbody tr th {\n",
       "        vertical-align: top;\n",
       "    }\n",
       "\n",
       "    .dataframe thead th {\n",
       "        text-align: right;\n",
       "    }\n",
       "</style>\n",
       "<table border=\"1\" class=\"dataframe\">\n",
       "  <thead>\n",
       "    <tr style=\"text-align: right;\">\n",
       "      <th></th>\n",
       "      <th>fold_1</th>\n",
       "      <th>fold_2</th>\n",
       "      <th>fold_3</th>\n",
       "      <th>fold_4</th>\n",
       "      <th>fold_5</th>\n",
       "      <th>mean</th>\n",
       "    </tr>\n",
       "  </thead>\n",
       "  <tbody>\n",
       "    <tr>\n",
       "      <th>mean_squared_error (train.train)</th>\n",
       "      <td>1.625321e+14</td>\n",
       "      <td>1.380680e+14</td>\n",
       "      <td>1.521726e+14</td>\n",
       "      <td>1.474937e+14</td>\n",
       "      <td>1.423034e+14</td>\n",
       "      <td>1.485140e+14</td>\n",
       "    </tr>\n",
       "    <tr>\n",
       "      <th>mean_squared_error (train.validation)</th>\n",
       "      <td>4.161872e+15</td>\n",
       "      <td>8.901642e+15</td>\n",
       "      <td>3.358898e+15</td>\n",
       "      <td>6.071373e+15</td>\n",
       "      <td>7.376339e+15</td>\n",
       "      <td>5.974025e+15</td>\n",
       "    </tr>\n",
       "    <tr>\n",
       "      <th>r2_score (train.train)</th>\n",
       "      <td>9.920000e+01</td>\n",
       "      <td>9.919000e+01</td>\n",
       "      <td>9.920000e+01</td>\n",
       "      <td>9.927000e+01</td>\n",
       "      <td>9.920000e+01</td>\n",
       "      <td>9.921200e+01</td>\n",
       "    </tr>\n",
       "    <tr>\n",
       "      <th>r2_score (train.validation)</th>\n",
       "      <td>6.920000e+01</td>\n",
       "      <td>6.572000e+01</td>\n",
       "      <td>8.164000e+01</td>\n",
       "      <td>5.466000e+01</td>\n",
       "      <td>6.814000e+01</td>\n",
       "      <td>6.787200e+01</td>\n",
       "    </tr>\n",
       "  </tbody>\n",
       "</table>\n",
       "</div>"
      ],
      "text/plain": [
       "                                             fold_1        fold_2  \\\n",
       "mean_squared_error (train.train)       1.625321e+14  1.380680e+14   \n",
       "mean_squared_error (train.validation)  4.161872e+15  8.901642e+15   \n",
       "r2_score (train.train)                 9.920000e+01  9.919000e+01   \n",
       "r2_score (train.validation)            6.920000e+01  6.572000e+01   \n",
       "\n",
       "                                             fold_3        fold_4  \\\n",
       "mean_squared_error (train.train)       1.521726e+14  1.474937e+14   \n",
       "mean_squared_error (train.validation)  3.358898e+15  6.071373e+15   \n",
       "r2_score (train.train)                 9.920000e+01  9.927000e+01   \n",
       "r2_score (train.validation)            8.164000e+01  5.466000e+01   \n",
       "\n",
       "                                             fold_5          mean  \n",
       "mean_squared_error (train.train)       1.423034e+14  1.485140e+14  \n",
       "mean_squared_error (train.validation)  7.376339e+15  5.974025e+15  \n",
       "r2_score (train.train)                 9.920000e+01  9.921200e+01  \n",
       "r2_score (train.validation)            6.814000e+01  6.787200e+01  "
      ]
     },
     "metadata": {},
     "output_type": "display_data"
    },
    {
     "data": {
      "text/html": [
       "<div>\n",
       "<style scoped>\n",
       "    .dataframe tbody tr th:only-of-type {\n",
       "        vertical-align: middle;\n",
       "    }\n",
       "\n",
       "    .dataframe tbody tr th {\n",
       "        vertical-align: top;\n",
       "    }\n",
       "\n",
       "    .dataframe thead th {\n",
       "        text-align: right;\n",
       "    }\n",
       "</style>\n",
       "<table border=\"1\" class=\"dataframe\">\n",
       "  <thead>\n",
       "    <tr style=\"text-align: right;\">\n",
       "      <th></th>\n",
       "      <th>model 1</th>\n",
       "      <th>model 2</th>\n",
       "      <th>model 3</th>\n",
       "      <th>model 4</th>\n",
       "      <th>model 5</th>\n",
       "      <th>mean</th>\n",
       "    </tr>\n",
       "  </thead>\n",
       "  <tbody>\n",
       "    <tr>\n",
       "      <th>mean_squared_error (train)</th>\n",
       "      <td>9.624001e+14</td>\n",
       "      <td>1.890783e+15</td>\n",
       "      <td>7.935177e+14</td>\n",
       "      <td>1.332270e+15</td>\n",
       "      <td>1.589111e+15</td>\n",
       "      <td>1.313616e+15</td>\n",
       "    </tr>\n",
       "    <tr>\n",
       "      <th>r2_score (train)</th>\n",
       "      <td>9.491000e+01</td>\n",
       "      <td>9.000000e+01</td>\n",
       "      <td>9.580000e+01</td>\n",
       "      <td>9.295000e+01</td>\n",
       "      <td>9.160000e+01</td>\n",
       "      <td>9.305200e+01</td>\n",
       "    </tr>\n",
       "  </tbody>\n",
       "</table>\n",
       "</div>"
      ],
      "text/plain": [
       "                                 model 1       model 2       model 3  \\\n",
       "mean_squared_error (train)  9.624001e+14  1.890783e+15  7.935177e+14   \n",
       "r2_score (train)            9.491000e+01  9.000000e+01  9.580000e+01   \n",
       "\n",
       "                                 model 4       model 5          mean  \n",
       "mean_squared_error (train)  1.332270e+15  1.589111e+15  1.313616e+15  \n",
       "r2_score (train)            9.295000e+01  9.160000e+01  9.305200e+01  "
      ]
     },
     "metadata": {},
     "output_type": "display_data"
    },
    {
     "name": "stdout",
     "output_type": "stream",
     "text": [
      "This is the end of the flow\n"
     ]
    }
   ],
   "source": [
    "model_index_list, save_models_dir, y_test = flow.training(parameters_lighgbm)"
   ]
  },
  {
   "cell_type": "code",
   "execution_count": 18,
   "metadata": {},
   "outputs": [],
   "source": [
    "parameters_xgboost = {\n",
    "    \"data\": {\n",
    "        \"train\": {\"features\": train_dataframe, \"target\": train_target.to_numpy()},\n",
    "    },\n",
    "    \"split\": {\n",
    "        \"method\": \"kfold\",  # \"method\":\"kfold\"\n",
    "        \"fold_nr\": 5,  # fold_nr:5 , \"split_ratios\": 0.3 # \"split_ratios\":(0.3,0.2)\n",
    "    },\n",
    "    \"model\": {\"type\": \"xgboost\",\n",
    "              \"hyperparameters\": {'max_depth': 5, 'eta': 1, 'eval_metric': \"rmse\"}\n",
    "              },\n",
    "    \"metrics\": [\"r2_score\", \"mean_squared_error\"],\n",
    "    \"predict\": {\n",
    "        \"test\": {\"features\": test_dataframe}\n",
    "    }\n",
    "}"
   ]
  },
  {
   "cell_type": "code",
   "execution_count": 19,
   "metadata": {
    "scrolled": true
   },
   "outputs": [
    {
     "name": "stdout",
     "output_type": "stream",
     "text": [
      "shuffle is not provided: 'shuffle'\n",
      "random_state is not provided: 'random_state'\n",
      "The objective is not defined. The default value is reg:squarederror. Error: 'objective'\n",
      "fold_nr. 1\n",
      "The num_round is not defined. The default value is num_round = 10. Error: 'num_round'\n",
      "[0]\ttrain-rmse:6.379e+07\ttest-rmse:8.1404e+07\n",
      "[1]\ttrain-rmse:5.30354e+07\ttest-rmse:7.98035e+07\n",
      "[2]\ttrain-rmse:4.76315e+07\ttest-rmse:8.40547e+07\n",
      "[3]\ttrain-rmse:4.49167e+07\ttest-rmse:8.48168e+07\n",
      "[4]\ttrain-rmse:4.1329e+07\ttest-rmse:8.74375e+07\n",
      "[5]\ttrain-rmse:3.9357e+07\ttest-rmse:8.93973e+07\n",
      "[6]\ttrain-rmse:3.65121e+07\ttest-rmse:9.0741e+07\n",
      "[7]\ttrain-rmse:3.51372e+07\ttest-rmse:9.15847e+07\n",
      "[8]\ttrain-rmse:3.27178e+07\ttest-rmse:9.10178e+07\n",
      "[9]\ttrain-rmse:3.02967e+07\ttest-rmse:9.17028e+07\n",
      "{'r2_score (train.train)': 95.46, 'mean_squared_error (train.train)': 917891806851493.8, 'r2_score (train.validation)': 37.77, 'mean_squared_error (train.validation)': 8409395281268395.0}\n",
      "fold_nr. 2\n",
      "The num_round is not defined. The default value is num_round = 10. Error: 'num_round'\n",
      "[0]\ttrain-rmse:6.20598e+07\ttest-rmse:1.19644e+08\n",
      "[1]\ttrain-rmse:5.27837e+07\ttest-rmse:1.13553e+08\n",
      "[2]\ttrain-rmse:4.78106e+07\ttest-rmse:1.15685e+08\n",
      "[3]\ttrain-rmse:4.51656e+07\ttest-rmse:1.16182e+08\n",
      "[4]\ttrain-rmse:4.17663e+07\ttest-rmse:1.17692e+08\n",
      "[5]\ttrain-rmse:3.88524e+07\ttest-rmse:1.17339e+08\n",
      "[6]\ttrain-rmse:3.72607e+07\ttest-rmse:1.16277e+08\n",
      "[7]\ttrain-rmse:3.43452e+07\ttest-rmse:1.16899e+08\n",
      "[8]\ttrain-rmse:3.10037e+07\ttest-rmse:1.18595e+08\n",
      "[9]\ttrain-rmse:2.93104e+07\ttest-rmse:1.20876e+08\n",
      "{'r2_score (train.train)': 94.98, 'mean_squared_error (train.train)': 859098958912233.2, 'r2_score (train.validation)': 43.73, 'mean_squared_error (train.validation)': 1.4611025034450262e+16}\n",
      "fold_nr. 3\n",
      "The num_round is not defined. The default value is num_round = 10. Error: 'num_round'\n",
      "[0]\ttrain-rmse:6.55479e+07\ttest-rmse:8.30866e+07\n",
      "[1]\ttrain-rmse:5.26756e+07\ttest-rmse:8.95587e+07\n",
      "[2]\ttrain-rmse:4.76964e+07\ttest-rmse:8.94888e+07\n",
      "[3]\ttrain-rmse:4.19375e+07\ttest-rmse:9.29056e+07\n",
      "[4]\ttrain-rmse:3.86266e+07\ttest-rmse:9.33267e+07\n",
      "[5]\ttrain-rmse:3.69444e+07\ttest-rmse:9.32704e+07\n",
      "[6]\ttrain-rmse:3.31943e+07\ttest-rmse:9.54206e+07\n",
      "[7]\ttrain-rmse:3.13376e+07\ttest-rmse:9.62555e+07\n",
      "[8]\ttrain-rmse:2.90418e+07\ttest-rmse:9.55776e+07\n",
      "[9]\ttrain-rmse:2.76868e+07\ttest-rmse:9.57144e+07\n",
      "{'r2_score (train.train)': 95.98, 'mean_squared_error (train.train)': 766558704879063.9, 'r2_score (train.validation)': 49.93, 'mean_squared_error (train.validation)': 9161250220737298.0}\n",
      "fold_nr. 4\n",
      "The num_round is not defined. The default value is num_round = 10. Error: 'num_round'\n",
      "[0]\ttrain-rmse:6.67632e+07\ttest-rmse:9.53966e+07\n",
      "[1]\ttrain-rmse:5.29666e+07\ttest-rmse:9.68194e+07\n",
      "[2]\ttrain-rmse:4.5658e+07\ttest-rmse:1.02021e+08\n",
      "[3]\ttrain-rmse:4.16798e+07\ttest-rmse:1.05494e+08\n",
      "[4]\ttrain-rmse:3.93622e+07\ttest-rmse:1.0599e+08\n",
      "[5]\ttrain-rmse:3.64692e+07\ttest-rmse:1.06314e+08\n",
      "[6]\ttrain-rmse:3.49623e+07\ttest-rmse:1.05885e+08\n",
      "[7]\ttrain-rmse:3.2405e+07\ttest-rmse:1.06265e+08\n",
      "[8]\ttrain-rmse:3.02048e+07\ttest-rmse:1.07543e+08\n",
      "[9]\ttrain-rmse:2.77735e+07\ttest-rmse:1.08283e+08\n",
      "{'r2_score (train.train)': 96.2, 'mean_squared_error (train.train)': 771369797930020.8, 'r2_score (train.validation)': 12.45, 'mean_squared_error (train.validation)': 1.1725115384626066e+16}\n",
      "fold_nr. 5\n",
      "The num_round is not defined. The default value is num_round = 10. Error: 'num_round'\n",
      "[0]\ttrain-rmse:6.61765e+07\ttest-rmse:1.04559e+08\n",
      "[1]\ttrain-rmse:5.42195e+07\ttest-rmse:1.05499e+08\n",
      "[2]\ttrain-rmse:4.96246e+07\ttest-rmse:1.07678e+08\n",
      "[3]\ttrain-rmse:4.63173e+07\ttest-rmse:1.06557e+08\n",
      "[4]\ttrain-rmse:4.33334e+07\ttest-rmse:1.06809e+08\n",
      "[5]\ttrain-rmse:3.99069e+07\ttest-rmse:1.07115e+08\n",
      "[6]\ttrain-rmse:3.74825e+07\ttest-rmse:1.08069e+08\n",
      "[7]\ttrain-rmse:3.3826e+07\ttest-rmse:1.09671e+08\n",
      "[8]\ttrain-rmse:3.22395e+07\ttest-rmse:1.09773e+08\n",
      "[9]\ttrain-rmse:3.07492e+07\ttest-rmse:1.10429e+08\n",
      "{'r2_score (train.train)': 94.7, 'mean_squared_error (train.train)': 945513471097447.2, 'r2_score (train.validation)': 47.34, 'mean_squared_error (train.validation)': 1.2194649652643486e+16}\n"
     ]
    },
    {
     "data": {
      "text/html": [
       "<div>\n",
       "<style scoped>\n",
       "    .dataframe tbody tr th:only-of-type {\n",
       "        vertical-align: middle;\n",
       "    }\n",
       "\n",
       "    .dataframe tbody tr th {\n",
       "        vertical-align: top;\n",
       "    }\n",
       "\n",
       "    .dataframe thead th {\n",
       "        text-align: right;\n",
       "    }\n",
       "</style>\n",
       "<table border=\"1\" class=\"dataframe\">\n",
       "  <thead>\n",
       "    <tr style=\"text-align: right;\">\n",
       "      <th></th>\n",
       "      <th>fold_1</th>\n",
       "      <th>fold_2</th>\n",
       "      <th>fold_3</th>\n",
       "      <th>fold_4</th>\n",
       "      <th>fold_5</th>\n",
       "      <th>mean</th>\n",
       "    </tr>\n",
       "  </thead>\n",
       "  <tbody>\n",
       "    <tr>\n",
       "      <th>mean_squared_error (train.train)</th>\n",
       "      <td>9.178918e+14</td>\n",
       "      <td>8.590990e+14</td>\n",
       "      <td>7.665587e+14</td>\n",
       "      <td>7.713698e+14</td>\n",
       "      <td>9.455135e+14</td>\n",
       "      <td>8.520865e+14</td>\n",
       "    </tr>\n",
       "    <tr>\n",
       "      <th>mean_squared_error (train.validation)</th>\n",
       "      <td>8.409395e+15</td>\n",
       "      <td>1.461103e+16</td>\n",
       "      <td>9.161250e+15</td>\n",
       "      <td>1.172512e+16</td>\n",
       "      <td>1.219465e+16</td>\n",
       "      <td>1.122029e+16</td>\n",
       "    </tr>\n",
       "    <tr>\n",
       "      <th>r2_score (train.train)</th>\n",
       "      <td>9.546000e+01</td>\n",
       "      <td>9.498000e+01</td>\n",
       "      <td>9.598000e+01</td>\n",
       "      <td>9.620000e+01</td>\n",
       "      <td>9.470000e+01</td>\n",
       "      <td>9.546400e+01</td>\n",
       "    </tr>\n",
       "    <tr>\n",
       "      <th>r2_score (train.validation)</th>\n",
       "      <td>3.777000e+01</td>\n",
       "      <td>4.373000e+01</td>\n",
       "      <td>4.993000e+01</td>\n",
       "      <td>1.245000e+01</td>\n",
       "      <td>4.734000e+01</td>\n",
       "      <td>3.824400e+01</td>\n",
       "    </tr>\n",
       "  </tbody>\n",
       "</table>\n",
       "</div>"
      ],
      "text/plain": [
       "                                             fold_1        fold_2  \\\n",
       "mean_squared_error (train.train)       9.178918e+14  8.590990e+14   \n",
       "mean_squared_error (train.validation)  8.409395e+15  1.461103e+16   \n",
       "r2_score (train.train)                 9.546000e+01  9.498000e+01   \n",
       "r2_score (train.validation)            3.777000e+01  4.373000e+01   \n",
       "\n",
       "                                             fold_3        fold_4  \\\n",
       "mean_squared_error (train.train)       7.665587e+14  7.713698e+14   \n",
       "mean_squared_error (train.validation)  9.161250e+15  1.172512e+16   \n",
       "r2_score (train.train)                 9.598000e+01  9.620000e+01   \n",
       "r2_score (train.validation)            4.993000e+01  1.245000e+01   \n",
       "\n",
       "                                             fold_5          mean  \n",
       "mean_squared_error (train.train)       9.455135e+14  8.520865e+14  \n",
       "mean_squared_error (train.validation)  1.219465e+16  1.122029e+16  \n",
       "r2_score (train.train)                 9.470000e+01  9.546400e+01  \n",
       "r2_score (train.validation)            4.734000e+01  3.824400e+01  "
      ]
     },
     "metadata": {},
     "output_type": "display_data"
    },
    {
     "data": {
      "text/html": [
       "<div>\n",
       "<style scoped>\n",
       "    .dataframe tbody tr th:only-of-type {\n",
       "        vertical-align: middle;\n",
       "    }\n",
       "\n",
       "    .dataframe tbody tr th {\n",
       "        vertical-align: top;\n",
       "    }\n",
       "\n",
       "    .dataframe thead th {\n",
       "        text-align: right;\n",
       "    }\n",
       "</style>\n",
       "<table border=\"1\" class=\"dataframe\">\n",
       "  <thead>\n",
       "    <tr style=\"text-align: right;\">\n",
       "      <th></th>\n",
       "      <th>model 1</th>\n",
       "      <th>model 2</th>\n",
       "      <th>model 3</th>\n",
       "      <th>model 4</th>\n",
       "      <th>model 5</th>\n",
       "      <th>mean</th>\n",
       "    </tr>\n",
       "  </thead>\n",
       "  <tbody>\n",
       "    <tr>\n",
       "      <th>mean_squared_error (train)</th>\n",
       "      <td>2.416192e+15</td>\n",
       "      <td>3.609484e+15</td>\n",
       "      <td>2.445497e+15</td>\n",
       "      <td>2.962119e+15</td>\n",
       "      <td>3.195341e+15</td>\n",
       "      <td>2.925727e+15</td>\n",
       "    </tr>\n",
       "    <tr>\n",
       "      <th>r2_score (train)</th>\n",
       "      <td>8.722000e+01</td>\n",
       "      <td>8.091000e+01</td>\n",
       "      <td>8.707000e+01</td>\n",
       "      <td>8.433000e+01</td>\n",
       "      <td>8.310000e+01</td>\n",
       "      <td>8.452600e+01</td>\n",
       "    </tr>\n",
       "  </tbody>\n",
       "</table>\n",
       "</div>"
      ],
      "text/plain": [
       "                                 model 1       model 2       model 3  \\\n",
       "mean_squared_error (train)  2.416192e+15  3.609484e+15  2.445497e+15   \n",
       "r2_score (train)            8.722000e+01  8.091000e+01  8.707000e+01   \n",
       "\n",
       "                                 model 4       model 5          mean  \n",
       "mean_squared_error (train)  2.962119e+15  3.195341e+15  2.925727e+15  \n",
       "r2_score (train)            8.433000e+01  8.310000e+01  8.452600e+01  "
      ]
     },
     "metadata": {},
     "output_type": "display_data"
    },
    {
     "name": "stdout",
     "output_type": "stream",
     "text": [
      "This is the end of the flow\n"
     ]
    }
   ],
   "source": [
    "model_index_list, save_models_dir, y_test = flow.training(parameters_xgboost)"
   ]
  },
  {
   "cell_type": "code",
   "execution_count": null,
   "metadata": {},
   "outputs": [],
   "source": []
  }
 ],
 "metadata": {
  "kernelspec": {
   "display_name": "ml-nav",
   "language": "python",
   "name": "ml-nav"
  },
  "language_info": {
   "codemirror_mode": {
    "name": "ipython",
    "version": 3
   },
   "file_extension": ".py",
   "mimetype": "text/x-python",
   "name": "python",
   "nbconvert_exporter": "python",
   "pygments_lexer": "ipython3",
   "version": "3.6.9"
  }
 },
 "nbformat": 4,
 "nbformat_minor": 2
}
