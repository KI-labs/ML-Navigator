{
 "cells": [
  {
   "cell_type": "code",
   "execution_count": null,
   "metadata": {},
   "outputs": [],
   "source": [
    "import os"
   ]
  },
  {
   "cell_type": "code",
   "execution_count": 1,
   "metadata": {},
   "outputs": [
    {
     "name": "stdout",
     "output_type": "stream",
     "text": [
      "/Users/m.dee/Documents/ML-Navigator\n"
     ]
    }
   ],
   "source": [
    "os.chdir('..')"
   ]
  },
  {
   "cell_type": "markdown",
   "metadata": {},
   "source": [
    "<img src=\"flow_2.png\">"
   ]
  },
  {
   "cell_type": "code",
   "execution_count": 2,
   "metadata": {},
   "outputs": [
    {
     "name": "stdout",
     "output_type": "stream",
     "text": [
      "\u001b[1m\u001b[35mWelcome to the Data Science Package. First create an object as follows:\u001b[m\u001b[m\n",
      "\u001b[1m\u001b[35mFor example, use the code below to import the flow 0:\u001b[m\u001b[m\n",
      "\u001b[32m\u001b[40mflow = Flows(0)\u001b[m\n",
      "\u001b[1m\u001b[35mYou can define the `categorical_threshold` which is the maximum number of categories that a categorical feature should have before considering it as continuous numeric feature. The default value is 50\u001b[m\u001b[m\n",
      "\u001b[1m\u001b[35mFor example, use the code below to import the flow 0 with defining the categorical_threshold as 50\u001b[m\u001b[m\n",
      "\u001b[32m\u001b[40mflow = Flows(flow_id=0, categorical_threshold=50)\u001b[m\n"
     ]
    }
   ],
   "source": [
    "from flows.flows import Flows"
   ]
  },
  {
   "cell_type": "code",
   "execution_count": 3,
   "metadata": {},
   "outputs": [
    {
     "name": "stdout",
     "output_type": "stream",
     "text": [
      "\u001b[1m\u001b[35mPlease use the following function to read the data\u001b[m\u001b[m\n",
      "\u001b[32m\u001b[40mdataframe_dict = flow.load_data(path: str, files_list: list)\u001b[m\n",
      "\u001b[1m\u001b[35mFor example: \u001b[m\u001b[32m\u001b[40mpath = './data'\u001b[m\u001b[m\n",
      "\u001b[1m\u001b[35mFor example: \u001b[m\u001b[32m\u001b[40mfiles_list = ['train.csv','test.csv']\u001b[m\u001b[m\n",
      "\u001b[1m\u001b[35mThe output is a dictionary that contains dataframes e.g.  \u001b[m\u001b[m\n",
      "\u001b[34mdataframe_dict = {'train': train_dataframe,'test': test_dataframe}\u001b[m\n"
     ]
    }
   ],
   "source": [
    "flow = Flows(2)"
   ]
  },
  {
   "cell_type": "code",
   "execution_count": 4,
   "metadata": {},
   "outputs": [],
   "source": [
    "path = \"./data/flow_2\"\n",
    "files_list = [\"train.csv\",\"test.csv\"]"
   ]
  },
  {
   "cell_type": "code",
   "execution_count": 5,
   "metadata": {
    "scrolled": true
   },
   "outputs": [
    {
     "name": "stdout",
     "output_type": "stream",
     "text": [
      "A summary of the data sets\n"
     ]
    },
    {
     "data": {
      "text/html": [
       "<div>\n",
       "<style scoped>\n",
       "    .dataframe tbody tr th:only-of-type {\n",
       "        vertical-align: middle;\n",
       "    }\n",
       "\n",
       "    .dataframe tbody tr th {\n",
       "        vertical-align: top;\n",
       "    }\n",
       "\n",
       "    .dataframe thead th {\n",
       "        text-align: right;\n",
       "    }\n",
       "</style>\n",
       "<table border=\"1\" class=\"dataframe\">\n",
       "  <thead>\n",
       "    <tr style=\"text-align: right;\">\n",
       "      <th></th>\n",
       "      <th>train</th>\n",
       "      <th>test</th>\n",
       "    </tr>\n",
       "    <tr>\n",
       "      <th>column type</th>\n",
       "      <th></th>\n",
       "      <th></th>\n",
       "    </tr>\n",
       "  </thead>\n",
       "  <tbody>\n",
       "    <tr>\n",
       "      <th>categorical_integer</th>\n",
       "      <td>0</td>\n",
       "      <td>0</td>\n",
       "    </tr>\n",
       "    <tr>\n",
       "      <th>categorical_string</th>\n",
       "      <td>9</td>\n",
       "      <td>8</td>\n",
       "    </tr>\n",
       "    <tr>\n",
       "      <th>continuous</th>\n",
       "      <td>5</td>\n",
       "      <td>4</td>\n",
       "    </tr>\n",
       "    <tr>\n",
       "      <th>date</th>\n",
       "      <td>1</td>\n",
       "      <td>1</td>\n",
       "    </tr>\n",
       "    <tr>\n",
       "      <th>json</th>\n",
       "      <td>8</td>\n",
       "      <td>9</td>\n",
       "    </tr>\n",
       "    <tr>\n",
       "      <th>other</th>\n",
       "      <td>0</td>\n",
       "      <td>0</td>\n",
       "    </tr>\n",
       "    <tr>\n",
       "      <th>total amount</th>\n",
       "      <td>23</td>\n",
       "      <td>22</td>\n",
       "    </tr>\n",
       "  </tbody>\n",
       "</table>\n",
       "</div>"
      ],
      "text/plain": [
       "                     train  test\n",
       "column type                     \n",
       "categorical_integer      0     0\n",
       "categorical_string       9     8\n",
       "continuous               5     4\n",
       "date                     1     1\n",
       "json                     8     9\n",
       "other                    0     0\n",
       "total amount            23    22"
      ]
     },
     "metadata": {},
     "output_type": "display_data"
    },
    {
     "name": "stdout",
     "output_type": "stream",
     "text": [
      "\u001b[1mNOTE: numeric categorical columns that contains more than 50 classes are considered numeric continuous features.\u001b[0;0m\n",
      "\u001b[1mNOTE: You can modify the threshold value if you want to consider more or less numeric categorical features as numeric continuous features.\u001b[0;0m\n",
      "The possible ids are {'imdb_id', 'id', 'popularity'}\n",
      "The possible possible_target are ['revenue']\n",
      "The type of the problem that should be solved {'revenue': 'regression'}\n",
      "\u001b[1m\u001b[35mYou have JSON nested data inside the dataframe columns. Flatten the nested JSON data by applying the following function:\n",
      "\u001b[m\u001b[32m\u001b[40mdataframe_dict, columns_set= flow.flatten_json_data(dataframe_dict)\u001b[m\u001b[m\n"
     ]
    }
   ],
   "source": [
    "dataframe_dict, columns_set = flow.load_data(path, files_list)"
   ]
  },
  {
   "cell_type": "code",
   "execution_count": 6,
   "metadata": {},
   "outputs": [
    {
     "name": "stdout",
     "output_type": "stream",
     "text": [
      "Flatting column: belongs_to_collection\n",
      "Flatting column: genres\n",
      "Flatting column: production_companies\n",
      "Flatting column: production_countries\n",
      "Flatting column: spoken_languages\n",
      "Flatting column: Keywords\n",
      "Flatting column: cast\n",
      "Flatting column: crew\n",
      "A summary of the data sets\n"
     ]
    },
    {
     "data": {
      "text/html": [
       "<div>\n",
       "<style scoped>\n",
       "    .dataframe tbody tr th:only-of-type {\n",
       "        vertical-align: middle;\n",
       "    }\n",
       "\n",
       "    .dataframe tbody tr th {\n",
       "        vertical-align: top;\n",
       "    }\n",
       "\n",
       "    .dataframe thead th {\n",
       "        text-align: right;\n",
       "    }\n",
       "</style>\n",
       "<table border=\"1\" class=\"dataframe\">\n",
       "  <thead>\n",
       "    <tr style=\"text-align: right;\">\n",
       "      <th></th>\n",
       "      <th>train</th>\n",
       "      <th>test</th>\n",
       "    </tr>\n",
       "    <tr>\n",
       "      <th>column type</th>\n",
       "      <th></th>\n",
       "      <th></th>\n",
       "    </tr>\n",
       "  </thead>\n",
       "  <tbody>\n",
       "    <tr>\n",
       "      <th>categorical_integer</th>\n",
       "      <td>39</td>\n",
       "      <td>38</td>\n",
       "    </tr>\n",
       "    <tr>\n",
       "      <th>categorical_string</th>\n",
       "      <td>163</td>\n",
       "      <td>166</td>\n",
       "    </tr>\n",
       "    <tr>\n",
       "      <th>continuous</th>\n",
       "      <td>55</td>\n",
       "      <td>55</td>\n",
       "    </tr>\n",
       "    <tr>\n",
       "      <th>date</th>\n",
       "      <td>6</td>\n",
       "      <td>2</td>\n",
       "    </tr>\n",
       "    <tr>\n",
       "      <th>json</th>\n",
       "      <td>0</td>\n",
       "      <td>1</td>\n",
       "    </tr>\n",
       "    <tr>\n",
       "      <th>other</th>\n",
       "      <td>0</td>\n",
       "      <td>0</td>\n",
       "    </tr>\n",
       "    <tr>\n",
       "      <th>total amount</th>\n",
       "      <td>263</td>\n",
       "      <td>262</td>\n",
       "    </tr>\n",
       "  </tbody>\n",
       "</table>\n",
       "</div>"
      ],
      "text/plain": [
       "                     train  test\n",
       "column type                     \n",
       "categorical_integer     39    38\n",
       "categorical_string     163   166\n",
       "continuous              55    55\n",
       "date                     6     2\n",
       "json                     0     1\n",
       "other                    0     0\n",
       "total amount           263   262"
      ]
     },
     "metadata": {},
     "output_type": "display_data"
    },
    {
     "name": "stdout",
     "output_type": "stream",
     "text": [
      "\u001b[1mNOTE: numeric categorical columns that contains more than 50 classes are considered numeric continuous features.\u001b[0;0m\n",
      "\u001b[1mNOTE: You can modify the threshold value if you want to consider more or less numeric categorical features as numeric continuous features.\u001b[0;0m\n",
      "\u001b[1m\u001b[35mIf you have categorical features with string labels, Encode the categorical features by applying the following function:\n",
      "\u001b[m\u001b[32m\u001b[40mdataframe_dict, columns_set = flow.encode_categorical_feature(dataframe_dict: dict)\u001b[m\u001b[m\n"
     ]
    }
   ],
   "source": [
    "dataframe_dict, columns_set= flow.flatten_json_data(dataframe_dict)"
   ]
  },
  {
   "cell_type": "code",
   "execution_count": 7,
   "metadata": {},
   "outputs": [
    {
     "name": "stdout",
     "output_type": "stream",
     "text": [
      "The reference dataframe is: train\n",
      "\u001b[31m******************************\u001b[m\n",
      "A summary of the data sets\n"
     ]
    },
    {
     "data": {
      "text/html": [
       "<div>\n",
       "<style scoped>\n",
       "    .dataframe tbody tr th:only-of-type {\n",
       "        vertical-align: middle;\n",
       "    }\n",
       "\n",
       "    .dataframe tbody tr th {\n",
       "        vertical-align: top;\n",
       "    }\n",
       "\n",
       "    .dataframe thead th {\n",
       "        text-align: right;\n",
       "    }\n",
       "</style>\n",
       "<table border=\"1\" class=\"dataframe\">\n",
       "  <thead>\n",
       "    <tr style=\"text-align: right;\">\n",
       "      <th></th>\n",
       "      <th>train</th>\n",
       "      <th>test</th>\n",
       "    </tr>\n",
       "    <tr>\n",
       "      <th>column type</th>\n",
       "      <th></th>\n",
       "      <th></th>\n",
       "    </tr>\n",
       "  </thead>\n",
       "  <tbody>\n",
       "    <tr>\n",
       "      <th>categorical_integer</th>\n",
       "      <td>89</td>\n",
       "      <td>83</td>\n",
       "    </tr>\n",
       "    <tr>\n",
       "      <th>categorical_string</th>\n",
       "      <td>0</td>\n",
       "      <td>5</td>\n",
       "    </tr>\n",
       "    <tr>\n",
       "      <th>continuous</th>\n",
       "      <td>168</td>\n",
       "      <td>173</td>\n",
       "    </tr>\n",
       "    <tr>\n",
       "      <th>date</th>\n",
       "      <td>6</td>\n",
       "      <td>1</td>\n",
       "    </tr>\n",
       "    <tr>\n",
       "      <th>json</th>\n",
       "      <td>0</td>\n",
       "      <td>0</td>\n",
       "    </tr>\n",
       "    <tr>\n",
       "      <th>other</th>\n",
       "      <td>0</td>\n",
       "      <td>0</td>\n",
       "    </tr>\n",
       "    <tr>\n",
       "      <th>total amount</th>\n",
       "      <td>263</td>\n",
       "      <td>262</td>\n",
       "    </tr>\n",
       "  </tbody>\n",
       "</table>\n",
       "</div>"
      ],
      "text/plain": [
       "                     train  test\n",
       "column type                     \n",
       "categorical_integer     89    83\n",
       "categorical_string       0     5\n",
       "continuous             168   173\n",
       "date                     6     1\n",
       "json                     0     0\n",
       "other                    0     0\n",
       "total amount           263   262"
      ]
     },
     "metadata": {},
     "output_type": "display_data"
    },
    {
     "name": "stdout",
     "output_type": "stream",
     "text": [
      "\u001b[1mNOTE: numeric categorical columns that contains more than 50 classes are considered numeric continuous features.\u001b[0;0m\n",
      "\u001b[1mNOTE: You can modify the threshold value if you want to consider more or less numeric categorical features as numeric continuous features.\u001b[0;0m\n",
      "\u001b[1m\u001b[35mIf you have numeric features, it is a good idea to normalize numeric features. Use the following function for feature normalization :\n",
      "\u001b[m\u001b[32m\u001b[40mdataframe_dict, columns_set = flow.scale_data (dataframe_dict: dict, ignore_columns: list)\u001b[m\u001b[m\n",
      "\u001b[1m\u001b[35mFor example: \u001b[m\u001b[32m\u001b[40mignore_columns = ['id', 'target']\u001b[m\u001b[m\n"
     ]
    }
   ],
   "source": [
    "dataframe_dict, columns_set = flow.encode_categorical_feature(dataframe_dict)"
   ]
  },
  {
   "cell_type": "code",
   "execution_count": 8,
   "metadata": {},
   "outputs": [],
   "source": [
    "ignore_columns = ['id', 'revenue']"
   ]
  },
  {
   "cell_type": "code",
   "execution_count": 9,
   "metadata": {},
   "outputs": [
    {
     "name": "stdout",
     "output_type": "stream",
     "text": [
      "A summary of the data sets\n"
     ]
    },
    {
     "data": {
      "text/html": [
       "<div>\n",
       "<style scoped>\n",
       "    .dataframe tbody tr th:only-of-type {\n",
       "        vertical-align: middle;\n",
       "    }\n",
       "\n",
       "    .dataframe tbody tr th {\n",
       "        vertical-align: top;\n",
       "    }\n",
       "\n",
       "    .dataframe thead th {\n",
       "        text-align: right;\n",
       "    }\n",
       "</style>\n",
       "<table border=\"1\" class=\"dataframe\">\n",
       "  <thead>\n",
       "    <tr style=\"text-align: right;\">\n",
       "      <th></th>\n",
       "      <th>train</th>\n",
       "      <th>test</th>\n",
       "    </tr>\n",
       "    <tr>\n",
       "      <th>column type</th>\n",
       "      <th></th>\n",
       "      <th></th>\n",
       "    </tr>\n",
       "  </thead>\n",
       "  <tbody>\n",
       "    <tr>\n",
       "      <th>categorical_integer</th>\n",
       "      <td>89</td>\n",
       "      <td>83</td>\n",
       "    </tr>\n",
       "    <tr>\n",
       "      <th>categorical_string</th>\n",
       "      <td>0</td>\n",
       "      <td>5</td>\n",
       "    </tr>\n",
       "    <tr>\n",
       "      <th>continuous</th>\n",
       "      <td>168</td>\n",
       "      <td>173</td>\n",
       "    </tr>\n",
       "    <tr>\n",
       "      <th>date</th>\n",
       "      <td>6</td>\n",
       "      <td>1</td>\n",
       "    </tr>\n",
       "    <tr>\n",
       "      <th>json</th>\n",
       "      <td>0</td>\n",
       "      <td>0</td>\n",
       "    </tr>\n",
       "    <tr>\n",
       "      <th>other</th>\n",
       "      <td>0</td>\n",
       "      <td>0</td>\n",
       "    </tr>\n",
       "    <tr>\n",
       "      <th>total amount</th>\n",
       "      <td>263</td>\n",
       "      <td>262</td>\n",
       "    </tr>\n",
       "  </tbody>\n",
       "</table>\n",
       "</div>"
      ],
      "text/plain": [
       "                     train  test\n",
       "column type                     \n",
       "categorical_integer     89    83\n",
       "categorical_string       0     5\n",
       "continuous             168   173\n",
       "date                     6     1\n",
       "json                     0     0\n",
       "other                    0     0\n",
       "total amount           263   262"
      ]
     },
     "metadata": {},
     "output_type": "display_data"
    },
    {
     "name": "stdout",
     "output_type": "stream",
     "text": [
      "\u001b[1mNOTE: numeric categorical columns that contains more than 50 classes are considered numeric continuous features.\u001b[0;0m\n",
      "\u001b[1mNOTE: You can modify the threshold value if you want to consider more or less numeric categorical features as numeric continuous features.\u001b[0;0m\n",
      "\u001b[1m\u001b[35mYour features are ready to train the model: \u001b[m\u001b[m\n",
      "\u001b[1m\u001b[35mIf you want to explore the data you can run one of the following functions: \u001b[m\u001b[m\n",
      "\u001b[1m\u001b[35m1 . \u001b[m\u001b[32m\u001b[40mflow.exploring_data(dataframe_dict: dict, key_i: str)\u001b[m\u001b[m\n",
      "\u001b[1m\u001b[35mFor example: \u001b[m\u001b[32m\u001b[40mflow.exploring_data(dataframe_dict, 'train')\u001b[m\u001b[m\n",
      "\u001b[1m\u001b[35m2 . \u001b[m\u001b[32m\u001b[40mflow.comparing_statistics(dataframe_dict: dict)\u001b[m\u001b[m\n",
      "\u001b[1m\u001b[35mFor example: \u001b[m\u001b[32m\u001b[40mflow.comparing_statistics(dataframe_dict)\u001b[m\u001b[m\n",
      "\n",
      "\n",
      "\n",
      "\n",
      "\u001b[1m\u001b[35mYou can start training the model by applying the following function: \u001b[m\u001b[m\n",
      "\u001b[32m\u001b[40mmodel_index_list, save_models_dir, y_test = flow.training(parameters)\u001b[m\n",
      "parameters = { \n",
      " \"data\": {\n",
      " \"train\": {\"features\": train_dataframe, \"target\": train_target},\n",
      " \"valid\": {\"features\": valid_dataframe, \"target\": valid_target},\n",
      " \"test\": {\"features\": test_dataframe, \"target\": test_target},\n",
      " },\n",
      " \"split\": {\n",
      " \"method\": \"split\",  # \"method\":\"kfold\"\n",
      " \"split_ratios\": 0.2,  # fold_nr: 5 , \"split_ratios\": 0.2 # \"split_ratios\":(0.3,0.2)\n",
      " },\n",
      " \"model\": {\"type\": \"Ridge linear regression\",\n",
      " \"hyperparameters\": {\"alpha\": 1,  # alpha:optimize\n",
      " },\n",
      " },\n",
      " \"metrics\": [\"r2_score\", \"mean_squared_error\"]\n",
      " }\n"
     ]
    }
   ],
   "source": [
    "dataframe_dict, columns_set = flow.scale_data(dataframe_dict, ignore_columns)"
   ]
  },
  {
   "cell_type": "code",
   "execution_count": 10,
   "metadata": {},
   "outputs": [
    {
     "data": {
      "application/vnd.jupyter.widget-view+json": {
       "model_id": "2fb5565c675740b0867a65e460ef09b1",
       "version_major": 2,
       "version_minor": 0
      },
      "text/plain": [
       "interactive(children=(IntSlider(value=0, description='column_i', max=261), Output()), _dom_classes=('widget-in…"
      ]
     },
     "metadata": {},
     "output_type": "display_data"
    }
   ],
   "source": [
    "flow.exploring_data(dataframe_dict, \"test\")"
   ]
  },
  {
   "cell_type": "code",
   "execution_count": 11,
   "metadata": {},
   "outputs": [
    {
     "data": {
      "application/vnd.jupyter.widget-view+json": {
       "model_id": "dadc81e9830a4406993068e4646f9373",
       "version_major": 2,
       "version_minor": 0
      },
      "text/plain": [
       "interactive(children=(IntSlider(value=0, description='feature_nr', max=262), Output()), _dom_classes=('widget-…"
      ]
     },
     "metadata": {},
     "output_type": "display_data"
    }
   ],
   "source": [
    "flow.comparing_statistics(dataframe_dict)"
   ]
  },
  {
   "cell_type": "code",
   "execution_count": 12,
   "metadata": {},
   "outputs": [],
   "source": [
    "ignore_columns = [\"id\", \"release_date\", \"revenue\"]\n",
    "columns = dataframe_dict[\"train\"].columns\n",
    "train_dataframe = dataframe_dict[\"train\"][[x for x in columns_set[\"train\"][\"continuous\"] if x not in ignore_columns]]\n",
    "test_dataframe = dataframe_dict[\"test\"][[x for x in columns_set[\"train\"][\"continuous\"] if x not in ignore_columns]]\n",
    "train_target = dataframe_dict[\"train\"][\"revenue\"]"
   ]
  },
  {
   "cell_type": "code",
   "execution_count": 13,
   "metadata": {},
   "outputs": [],
   "source": [
    "parameters = {\n",
    "    \"data\": {\n",
    "        \"train\": {\"features\": train_dataframe, \"target\": train_target.to_numpy()},\n",
    "    },\n",
    "    \"split\": {\n",
    "        \"method\": \"kfold\",  # \"method\":\"kfold\"\n",
    "        \"fold_nr\": 5,  # foldnr:5 , \"split_ratios\": 0.8 # \"split_ratios\":(0.7,0.2)\n",
    "    },\n",
    "    \"model\": {\"type\": \"Ridge linear regression\",\n",
    "              \"hyperparameters\": {\"alpha\": \"optimize\",  # alpha:optimize\n",
    "                                  },\n",
    "              },\n",
    "    \"metrics\": [\"r2_score\", \"mean_squared_error\"],\n",
    "    \"predict\": {\n",
    "        \"test\": {\"features\": test_dataframe}\n",
    "    }\n",
    "}"
   ]
  },
  {
   "cell_type": "code",
   "execution_count": 14,
   "metadata": {},
   "outputs": [
    {
     "name": "stdout",
     "output_type": "stream",
     "text": [
      "shuffle is not provided: 'shuffle'\n",
      "random_state is not provided: 'random_state'\n",
      "fold_nr. 1\n",
      "the required metrics =  ['r2_score', 'mean_squared_error']\n",
      "The quality of the model using the dataset kfold 1\n",
      "dataset kfold 1: Mean squared error: 5138373596675930.0\n",
      "dataset kfold 1:  R2: 62.0 %\n",
      "fold_nr. 2\n",
      "the required metrics =  ['r2_score', 'mean_squared_error']\n",
      "The quality of the model using the dataset kfold 2\n",
      "dataset kfold 2: Mean squared error: 1.026289655855342e+16\n",
      "dataset kfold 2:  R2: 60.5 %\n",
      "fold_nr. 3\n",
      "the required metrics =  ['r2_score', 'mean_squared_error']\n",
      "The quality of the model using the dataset kfold 3\n",
      "dataset kfold 3: Mean squared error: 4850400397192670.0\n",
      "dataset kfold 3:  R2: 73.5 %\n",
      "fold_nr. 4\n",
      "the required metrics =  ['r2_score', 'mean_squared_error']\n",
      "The quality of the model using the dataset kfold 4\n",
      "dataset kfold 4: Mean squared error: 6970326771048463.0\n",
      "dataset kfold 4:  R2: 48.0 %\n",
      "fold_nr. 5\n",
      "the required metrics =  ['r2_score', 'mean_squared_error']\n",
      "The quality of the model using the dataset kfold 5\n",
      "dataset kfold 5: Mean squared error: 7852170964552520.0\n",
      "dataset kfold 5:  R2: 66.1 %\n"
     ]
    },
    {
     "data": {
      "text/html": [
       "<div>\n",
       "<style scoped>\n",
       "    .dataframe tbody tr th:only-of-type {\n",
       "        vertical-align: middle;\n",
       "    }\n",
       "\n",
       "    .dataframe tbody tr th {\n",
       "        vertical-align: top;\n",
       "    }\n",
       "\n",
       "    .dataframe thead th {\n",
       "        text-align: right;\n",
       "    }\n",
       "</style>\n",
       "<table border=\"1\" class=\"dataframe\">\n",
       "  <thead>\n",
       "    <tr style=\"text-align: right;\">\n",
       "      <th></th>\n",
       "      <th>fold_1</th>\n",
       "      <th>fold_2</th>\n",
       "      <th>fold_3</th>\n",
       "      <th>fold_4</th>\n",
       "      <th>fold_5</th>\n",
       "      <th>mean</th>\n",
       "    </tr>\n",
       "  </thead>\n",
       "  <tbody>\n",
       "    <tr>\n",
       "      <th>mean_squared_error</th>\n",
       "      <td>5.138374e+15</td>\n",
       "      <td>1.026290e+16</td>\n",
       "      <td>4.850400e+15</td>\n",
       "      <td>6.970327e+15</td>\n",
       "      <td>7.852171e+15</td>\n",
       "      <td>7.014834e+15</td>\n",
       "    </tr>\n",
       "    <tr>\n",
       "      <th>r2_score</th>\n",
       "      <td>6.200000e+01</td>\n",
       "      <td>6.050000e+01</td>\n",
       "      <td>7.350000e+01</td>\n",
       "      <td>4.800000e+01</td>\n",
       "      <td>6.610000e+01</td>\n",
       "      <td>6.202000e+01</td>\n",
       "    </tr>\n",
       "  </tbody>\n",
       "</table>\n",
       "</div>"
      ],
      "text/plain": [
       "                          fold_1        fold_2        fold_3        fold_4  \\\n",
       "mean_squared_error  5.138374e+15  1.026290e+16  4.850400e+15  6.970327e+15   \n",
       "r2_score            6.200000e+01  6.050000e+01  7.350000e+01  4.800000e+01   \n",
       "\n",
       "                          fold_5          mean  \n",
       "mean_squared_error  7.852171e+15  7.014834e+15  \n",
       "r2_score            6.610000e+01  6.202000e+01  "
      ]
     },
     "metadata": {},
     "output_type": "display_data"
    },
    {
     "name": "stdout",
     "output_type": "stream",
     "text": [
      "the required metrics =  ['r2_score', 'mean_squared_error']\n",
      "The quality of the model using the Evaluating the dataset: train\n",
      "Evaluating the dataset: train: Mean squared error: 6189942076195239.0\n",
      "Evaluating the dataset: train:  R2: 67.3 %\n",
      "the required metrics =  ['r2_score', 'mean_squared_error']\n",
      "The quality of the model using the Evaluating the dataset: train\n",
      "Evaluating the dataset: train: Mean squared error: 6356940961457917.0\n",
      "Evaluating the dataset: train:  R2: 66.4 %\n",
      "the required metrics =  ['r2_score', 'mean_squared_error']\n",
      "The quality of the model using the Evaluating the dataset: train\n",
      "Evaluating the dataset: train: Mean squared error: 6197901310509893.0\n",
      "Evaluating the dataset: train:  R2: 67.2 %\n",
      "the required metrics =  ['r2_score', 'mean_squared_error']\n",
      "The quality of the model using the Evaluating the dataset: train\n",
      "Evaluating the dataset: train: Mean squared error: 6205972546613894.0\n",
      "Evaluating the dataset: train:  R2: 67.2 %\n",
      "the required metrics =  ['r2_score', 'mean_squared_error']\n",
      "The quality of the model using the Evaluating the dataset: train\n",
      "Evaluating the dataset: train: Mean squared error: 6244211317813292.0\n",
      "Evaluating the dataset: train:  R2: 67.0 %\n",
      "train: Mean squared error linear: 6238993642518047.0\n",
      "train:  Mean R2: 67.02 %\n"
     ]
    },
    {
     "data": {
      "text/html": [
       "<div>\n",
       "<style scoped>\n",
       "    .dataframe tbody tr th:only-of-type {\n",
       "        vertical-align: middle;\n",
       "    }\n",
       "\n",
       "    .dataframe tbody tr th {\n",
       "        vertical-align: top;\n",
       "    }\n",
       "\n",
       "    .dataframe thead th {\n",
       "        text-align: right;\n",
       "    }\n",
       "</style>\n",
       "<table border=\"1\" class=\"dataframe\">\n",
       "  <thead>\n",
       "    <tr style=\"text-align: right;\">\n",
       "      <th></th>\n",
       "      <th>model_1</th>\n",
       "      <th>model_2</th>\n",
       "      <th>model_3</th>\n",
       "      <th>model_4</th>\n",
       "      <th>model_5</th>\n",
       "      <th>mean</th>\n",
       "    </tr>\n",
       "  </thead>\n",
       "  <tbody>\n",
       "    <tr>\n",
       "      <th>mean_squared_error (train)</th>\n",
       "      <td>6.189942e+15</td>\n",
       "      <td>6.356941e+15</td>\n",
       "      <td>6.197901e+15</td>\n",
       "      <td>6.205973e+15</td>\n",
       "      <td>6.244211e+15</td>\n",
       "      <td>6.238994e+15</td>\n",
       "    </tr>\n",
       "    <tr>\n",
       "      <th>r2_score (train)</th>\n",
       "      <td>6.730000e+01</td>\n",
       "      <td>6.640000e+01</td>\n",
       "      <td>6.720000e+01</td>\n",
       "      <td>6.720000e+01</td>\n",
       "      <td>6.700000e+01</td>\n",
       "      <td>6.702000e+01</td>\n",
       "    </tr>\n",
       "  </tbody>\n",
       "</table>\n",
       "</div>"
      ],
      "text/plain": [
       "                                 model_1       model_2       model_3  \\\n",
       "mean_squared_error (train)  6.189942e+15  6.356941e+15  6.197901e+15   \n",
       "r2_score (train)            6.730000e+01  6.640000e+01  6.720000e+01   \n",
       "\n",
       "                                 model_4       model_5          mean  \n",
       "mean_squared_error (train)  6.205973e+15  6.244211e+15  6.238994e+15  \n",
       "r2_score (train)            6.720000e+01  6.700000e+01  6.702000e+01  "
      ]
     },
     "metadata": {},
     "output_type": "display_data"
    },
    {
     "name": "stdout",
     "output_type": "stream",
     "text": [
      "This is the end of the flow\n"
     ]
    }
   ],
   "source": [
    "model_index_list, save_models_dir, y_test = flow.training(parameters)"
   ]
  },
  {
   "cell_type": "code",
   "execution_count": 15,
   "metadata": {},
   "outputs": [],
   "source": [
    "parameters_lighgbm = {\n",
    "    \"data\": {\n",
    "        \"train\": {\"features\": train_dataframe, \"target\": train_target.to_numpy()},\n",
    "    },\n",
    "    \"split\": {\n",
    "        \"method\": \"kfold\",  # \"method\":\"kfold\"\n",
    "        \"fold_nr\": 5,  # foldnr:5 , \"split_ratios\": 0.8 # \"split_ratios\":(0.7,0.2)\n",
    "    },\n",
    "    \"model\": {\"type\": \"lightgbm\",\n",
    "              \"hyperparameters\": dict(objective='regression', metric='root_mean_squared_error', num_leaves=5,\n",
    "                                      boost_from_average=True,\n",
    "                                      learning_rate=0.05, bagging_fraction=0.99, feature_fraction=0.99, max_depth=-1,\n",
    "                                      num_rounds=10000, min_data_in_leaf=10, boosting='dart')\n",
    "              },\n",
    "    \"metrics\": [\"r2_score\", \"mean_squared_error\"],\n",
    "    \"predict\": {\n",
    "        \"test\": {\"features\": test_dataframe}\n",
    "    }\n",
    "}"
   ]
  },
  {
   "cell_type": "code",
   "execution_count": 16,
   "metadata": {},
   "outputs": [
    {
     "name": "stdout",
     "output_type": "stream",
     "text": [
      "shuffle is not provided: 'shuffle'\n",
      "random_state is not provided: 'random_state'\n",
      "fold_nr. 1\n",
      "the required metrics =  ['r2_score', 'mean_squared_error']\n",
      "The quality of the model using the dataset kfold 1\n",
      "dataset kfold 1: Mean squared error: 4161872311224590.5\n",
      "dataset kfold 1:  R2: 69.2 %\n",
      "fold_nr. 2\n",
      "the required metrics =  ['r2_score', 'mean_squared_error']\n",
      "The quality of the model using the dataset kfold 2\n",
      "dataset kfold 2: Mean squared error: 8901642375697506.0\n",
      "dataset kfold 2:  R2: 65.7 %\n",
      "fold_nr. 3\n",
      "the required metrics =  ['r2_score', 'mean_squared_error']\n",
      "The quality of the model using the dataset kfold 3\n",
      "dataset kfold 3: Mean squared error: 3358898044730845.5\n",
      "dataset kfold 3:  R2: 81.6 %\n",
      "fold_nr. 4\n",
      "the required metrics =  ['r2_score', 'mean_squared_error']\n",
      "The quality of the model using the dataset kfold 4\n",
      "dataset kfold 4: Mean squared error: 6071373086620322.0\n",
      "dataset kfold 4:  R2: 54.7 %\n",
      "fold_nr. 5\n",
      "the required metrics =  ['r2_score', 'mean_squared_error']\n",
      "The quality of the model using the dataset kfold 5\n",
      "dataset kfold 5: Mean squared error: 7376339159188029.0\n",
      "dataset kfold 5:  R2: 68.1 %\n"
     ]
    },
    {
     "data": {
      "text/html": [
       "<div>\n",
       "<style scoped>\n",
       "    .dataframe tbody tr th:only-of-type {\n",
       "        vertical-align: middle;\n",
       "    }\n",
       "\n",
       "    .dataframe tbody tr th {\n",
       "        vertical-align: top;\n",
       "    }\n",
       "\n",
       "    .dataframe thead th {\n",
       "        text-align: right;\n",
       "    }\n",
       "</style>\n",
       "<table border=\"1\" class=\"dataframe\">\n",
       "  <thead>\n",
       "    <tr style=\"text-align: right;\">\n",
       "      <th></th>\n",
       "      <th>fold_1</th>\n",
       "      <th>fold_2</th>\n",
       "      <th>fold_3</th>\n",
       "      <th>fold_4</th>\n",
       "      <th>fold_5</th>\n",
       "      <th>mean</th>\n",
       "    </tr>\n",
       "  </thead>\n",
       "  <tbody>\n",
       "    <tr>\n",
       "      <th>mean_squared_error</th>\n",
       "      <td>4.161872e+15</td>\n",
       "      <td>8.901642e+15</td>\n",
       "      <td>3.358898e+15</td>\n",
       "      <td>6.071373e+15</td>\n",
       "      <td>7.376339e+15</td>\n",
       "      <td>5.974025e+15</td>\n",
       "    </tr>\n",
       "    <tr>\n",
       "      <th>r2_score</th>\n",
       "      <td>6.920000e+01</td>\n",
       "      <td>6.570000e+01</td>\n",
       "      <td>8.160000e+01</td>\n",
       "      <td>5.470000e+01</td>\n",
       "      <td>6.810000e+01</td>\n",
       "      <td>6.786000e+01</td>\n",
       "    </tr>\n",
       "  </tbody>\n",
       "</table>\n",
       "</div>"
      ],
      "text/plain": [
       "                          fold_1        fold_2        fold_3        fold_4  \\\n",
       "mean_squared_error  4.161872e+15  8.901642e+15  3.358898e+15  6.071373e+15   \n",
       "r2_score            6.920000e+01  6.570000e+01  8.160000e+01  5.470000e+01   \n",
       "\n",
       "                          fold_5          mean  \n",
       "mean_squared_error  7.376339e+15  5.974025e+15  \n",
       "r2_score            6.810000e+01  6.786000e+01  "
      ]
     },
     "metadata": {},
     "output_type": "display_data"
    },
    {
     "name": "stdout",
     "output_type": "stream",
     "text": [
      "the required metrics =  ['r2_score', 'mean_squared_error']\n",
      "The quality of the model using the Evaluating the dataset: train\n",
      "Evaluating the dataset: train: Mean squared error: 962400120545498.9\n",
      "Evaluating the dataset: train:  R2: 94.9 %\n",
      "the required metrics =  ['r2_score', 'mean_squared_error']\n",
      "The quality of the model using the Evaluating the dataset: train\n",
      "Evaluating the dataset: train: Mean squared error: 1890782910028812.2\n",
      "Evaluating the dataset: train:  R2: 90.0 %\n",
      "the required metrics =  ['r2_score', 'mean_squared_error']\n",
      "The quality of the model using the Evaluating the dataset: train\n",
      "Evaluating the dataset: train: Mean squared error: 793517714084678.9\n",
      "Evaluating the dataset: train:  R2: 95.8 %\n",
      "the required metrics =  ['r2_score', 'mean_squared_error']\n",
      "The quality of the model using the Evaluating the dataset: train\n",
      "Evaluating the dataset: train: Mean squared error: 1332269588733857.8\n",
      "Evaluating the dataset: train:  R2: 93.0 %\n",
      "the required metrics =  ['r2_score', 'mean_squared_error']\n",
      "The quality of the model using the Evaluating the dataset: train\n",
      "Evaluating the dataset: train: Mean squared error: 1589110524686681.5\n",
      "Evaluating the dataset: train:  R2: 91.6 %\n",
      "train: Mean squared error linear: 1313616171615906.0\n",
      "train:  Mean R2: 93.05999999999999 %\n"
     ]
    },
    {
     "data": {
      "text/html": [
       "<div>\n",
       "<style scoped>\n",
       "    .dataframe tbody tr th:only-of-type {\n",
       "        vertical-align: middle;\n",
       "    }\n",
       "\n",
       "    .dataframe tbody tr th {\n",
       "        vertical-align: top;\n",
       "    }\n",
       "\n",
       "    .dataframe thead th {\n",
       "        text-align: right;\n",
       "    }\n",
       "</style>\n",
       "<table border=\"1\" class=\"dataframe\">\n",
       "  <thead>\n",
       "    <tr style=\"text-align: right;\">\n",
       "      <th></th>\n",
       "      <th>model_1</th>\n",
       "      <th>model_2</th>\n",
       "      <th>model_3</th>\n",
       "      <th>model_4</th>\n",
       "      <th>model_5</th>\n",
       "      <th>mean</th>\n",
       "    </tr>\n",
       "  </thead>\n",
       "  <tbody>\n",
       "    <tr>\n",
       "      <th>mean_squared_error (train)</th>\n",
       "      <td>9.624001e+14</td>\n",
       "      <td>1.890783e+15</td>\n",
       "      <td>7.935177e+14</td>\n",
       "      <td>1.332270e+15</td>\n",
       "      <td>1.589111e+15</td>\n",
       "      <td>1.313616e+15</td>\n",
       "    </tr>\n",
       "    <tr>\n",
       "      <th>r2_score (train)</th>\n",
       "      <td>9.490000e+01</td>\n",
       "      <td>9.000000e+01</td>\n",
       "      <td>9.580000e+01</td>\n",
       "      <td>9.300000e+01</td>\n",
       "      <td>9.160000e+01</td>\n",
       "      <td>9.306000e+01</td>\n",
       "    </tr>\n",
       "  </tbody>\n",
       "</table>\n",
       "</div>"
      ],
      "text/plain": [
       "                                 model_1       model_2       model_3  \\\n",
       "mean_squared_error (train)  9.624001e+14  1.890783e+15  7.935177e+14   \n",
       "r2_score (train)            9.490000e+01  9.000000e+01  9.580000e+01   \n",
       "\n",
       "                                 model_4       model_5          mean  \n",
       "mean_squared_error (train)  1.332270e+15  1.589111e+15  1.313616e+15  \n",
       "r2_score (train)            9.300000e+01  9.160000e+01  9.306000e+01  "
      ]
     },
     "metadata": {},
     "output_type": "display_data"
    },
    {
     "name": "stdout",
     "output_type": "stream",
     "text": [
      "This is the end of the flow\n"
     ]
    }
   ],
   "source": [
    "model_index_list, save_models_dir, y_test = flow.training(parameters_lighgbm)"
   ]
  },
  {
   "cell_type": "code",
   "execution_count": 19,
   "metadata": {},
   "outputs": [],
   "source": [
    "parameters_xgboost = {\n",
    "    \"data\": {\n",
    "        \"train\": {\"features\": train_dataframe, \"target\": train_target.to_numpy()},\n",
    "    },\n",
    "    \"split\": {\n",
    "        \"method\": \"kfold\",  # \"method\":\"kfold\"\n",
    "        \"fold_nr\": 5,  # fold_nr:5 , \"split_ratios\": 0.3 # \"split_ratios\":(0.3,0.2)\n",
    "    },\n",
    "    \"model\": {\"type\": \"xgboost\",\n",
    "              \"hyperparameters\": {'max_depth': 5, 'eta': 1, 'eval_metric': \"rmse\"}\n",
    "              },\n",
    "    \"metrics\": [\"r2_score\", \"mean_squared_error\"],\n",
    "    \"predict\": {\n",
    "        \"test\": {\"features\": test_dataframe}\n",
    "    }\n",
    "}"
   ]
  },
  {
   "cell_type": "code",
   "execution_count": 20,
   "metadata": {},
   "outputs": [
    {
     "name": "stdout",
     "output_type": "stream",
     "text": [
      "shuffle is not provided: 'shuffle'\n",
      "random_state is not provided: 'random_state'\n",
      "fold_nr. 1\n",
      "The num_round is not defined. The default value is num_round = 10. Error: 'num_round'\n",
      "The objective is not defined. The default value is reg:squarederror. Error: 'objective'\n",
      "[0]\ttrain-rmse:6.379e+07\ttest-rmse:8.1404e+07\n",
      "[1]\ttrain-rmse:5.30354e+07\ttest-rmse:7.98035e+07\n",
      "[2]\ttrain-rmse:4.76315e+07\ttest-rmse:8.40547e+07\n",
      "[3]\ttrain-rmse:4.49167e+07\ttest-rmse:8.48168e+07\n",
      "[4]\ttrain-rmse:4.1329e+07\ttest-rmse:8.74375e+07\n",
      "[5]\ttrain-rmse:3.9357e+07\ttest-rmse:8.93973e+07\n",
      "[6]\ttrain-rmse:3.65121e+07\ttest-rmse:9.0741e+07\n",
      "[7]\ttrain-rmse:3.51372e+07\ttest-rmse:9.15847e+07\n",
      "[8]\ttrain-rmse:3.27178e+07\ttest-rmse:9.10178e+07\n",
      "[9]\ttrain-rmse:3.02967e+07\ttest-rmse:9.17028e+07\n",
      "the required metrics =  ['r2_score', 'mean_squared_error']\n",
      "The quality of the model using the dataset kfold 1\n",
      "dataset kfold 1: Mean squared error: 8409395281268395.0\n",
      "dataset kfold 1:  R2: 37.8 %\n",
      "fold_nr. 2\n",
      "The num_round is not defined. The default value is num_round = 10. Error: 'num_round'\n",
      "The objective is not defined. The default value is reg:squarederror. Error: 'objective'\n",
      "[0]\ttrain-rmse:6.20598e+07\ttest-rmse:1.19644e+08\n",
      "[1]\ttrain-rmse:5.27837e+07\ttest-rmse:1.13553e+08\n",
      "[2]\ttrain-rmse:4.78106e+07\ttest-rmse:1.15685e+08\n",
      "[3]\ttrain-rmse:4.51656e+07\ttest-rmse:1.16182e+08\n",
      "[4]\ttrain-rmse:4.17663e+07\ttest-rmse:1.17692e+08\n",
      "[5]\ttrain-rmse:3.88524e+07\ttest-rmse:1.17339e+08\n",
      "[6]\ttrain-rmse:3.72607e+07\ttest-rmse:1.16277e+08\n",
      "[7]\ttrain-rmse:3.43452e+07\ttest-rmse:1.16899e+08\n",
      "[8]\ttrain-rmse:3.10037e+07\ttest-rmse:1.18595e+08\n",
      "[9]\ttrain-rmse:2.93104e+07\ttest-rmse:1.20876e+08\n",
      "the required metrics =  ['r2_score', 'mean_squared_error']\n",
      "The quality of the model using the dataset kfold 2\n",
      "dataset kfold 2: Mean squared error: 1.4611025034450262e+16\n",
      "dataset kfold 2:  R2: 43.7 %\n",
      "fold_nr. 3\n",
      "The num_round is not defined. The default value is num_round = 10. Error: 'num_round'\n",
      "The objective is not defined. The default value is reg:squarederror. Error: 'objective'\n",
      "[0]\ttrain-rmse:6.55479e+07\ttest-rmse:8.30866e+07\n",
      "[1]\ttrain-rmse:5.26756e+07\ttest-rmse:8.95587e+07\n",
      "[2]\ttrain-rmse:4.76964e+07\ttest-rmse:8.94888e+07\n",
      "[3]\ttrain-rmse:4.19375e+07\ttest-rmse:9.29056e+07\n",
      "[4]\ttrain-rmse:3.86266e+07\ttest-rmse:9.33267e+07\n",
      "[5]\ttrain-rmse:3.69444e+07\ttest-rmse:9.32704e+07\n",
      "[6]\ttrain-rmse:3.31943e+07\ttest-rmse:9.54206e+07\n",
      "[7]\ttrain-rmse:3.13376e+07\ttest-rmse:9.62555e+07\n",
      "[8]\ttrain-rmse:2.90418e+07\ttest-rmse:9.55776e+07\n",
      "[9]\ttrain-rmse:2.76868e+07\ttest-rmse:9.57144e+07\n",
      "the required metrics =  ['r2_score', 'mean_squared_error']\n",
      "The quality of the model using the dataset kfold 3\n",
      "dataset kfold 3: Mean squared error: 9161250220737298.0\n",
      "dataset kfold 3:  R2: 49.9 %\n",
      "fold_nr. 4\n",
      "The num_round is not defined. The default value is num_round = 10. Error: 'num_round'\n",
      "The objective is not defined. The default value is reg:squarederror. Error: 'objective'\n",
      "[0]\ttrain-rmse:6.67632e+07\ttest-rmse:9.53966e+07\n",
      "[1]\ttrain-rmse:5.29666e+07\ttest-rmse:9.68194e+07\n",
      "[2]\ttrain-rmse:4.5658e+07\ttest-rmse:1.02021e+08\n",
      "[3]\ttrain-rmse:4.16798e+07\ttest-rmse:1.05494e+08\n",
      "[4]\ttrain-rmse:3.93622e+07\ttest-rmse:1.0599e+08\n",
      "[5]\ttrain-rmse:3.64692e+07\ttest-rmse:1.06314e+08\n",
      "[6]\ttrain-rmse:3.49623e+07\ttest-rmse:1.05885e+08\n",
      "[7]\ttrain-rmse:3.2405e+07\ttest-rmse:1.06265e+08\n",
      "[8]\ttrain-rmse:3.02048e+07\ttest-rmse:1.07543e+08\n",
      "[9]\ttrain-rmse:2.77735e+07\ttest-rmse:1.08283e+08\n",
      "the required metrics =  ['r2_score', 'mean_squared_error']\n",
      "The quality of the model using the dataset kfold 4\n",
      "dataset kfold 4: Mean squared error: 1.1725115384626066e+16\n",
      "dataset kfold 4:  R2: 12.4 %\n",
      "fold_nr. 5\n",
      "The num_round is not defined. The default value is num_round = 10. Error: 'num_round'\n",
      "The objective is not defined. The default value is reg:squarederror. Error: 'objective'\n",
      "[0]\ttrain-rmse:6.61765e+07\ttest-rmse:1.04559e+08\n",
      "[1]\ttrain-rmse:5.42195e+07\ttest-rmse:1.05499e+08\n",
      "[2]\ttrain-rmse:4.96246e+07\ttest-rmse:1.07678e+08\n",
      "[3]\ttrain-rmse:4.63173e+07\ttest-rmse:1.06557e+08\n",
      "[4]\ttrain-rmse:4.33334e+07\ttest-rmse:1.06809e+08\n",
      "[5]\ttrain-rmse:3.99069e+07\ttest-rmse:1.07115e+08\n",
      "[6]\ttrain-rmse:3.74825e+07\ttest-rmse:1.08069e+08\n",
      "[7]\ttrain-rmse:3.3826e+07\ttest-rmse:1.09671e+08\n",
      "[8]\ttrain-rmse:3.22395e+07\ttest-rmse:1.09773e+08\n",
      "[9]\ttrain-rmse:3.07492e+07\ttest-rmse:1.10429e+08\n",
      "the required metrics =  ['r2_score', 'mean_squared_error']\n",
      "The quality of the model using the dataset kfold 5\n",
      "dataset kfold 5: Mean squared error: 1.2194649652643486e+16\n",
      "dataset kfold 5:  R2: 47.3 %\n"
     ]
    },
    {
     "data": {
      "text/html": [
       "<div>\n",
       "<style scoped>\n",
       "    .dataframe tbody tr th:only-of-type {\n",
       "        vertical-align: middle;\n",
       "    }\n",
       "\n",
       "    .dataframe tbody tr th {\n",
       "        vertical-align: top;\n",
       "    }\n",
       "\n",
       "    .dataframe thead th {\n",
       "        text-align: right;\n",
       "    }\n",
       "</style>\n",
       "<table border=\"1\" class=\"dataframe\">\n",
       "  <thead>\n",
       "    <tr style=\"text-align: right;\">\n",
       "      <th></th>\n",
       "      <th>fold_1</th>\n",
       "      <th>fold_2</th>\n",
       "      <th>fold_3</th>\n",
       "      <th>fold_4</th>\n",
       "      <th>fold_5</th>\n",
       "      <th>mean</th>\n",
       "    </tr>\n",
       "  </thead>\n",
       "  <tbody>\n",
       "    <tr>\n",
       "      <th>mean_squared_error</th>\n",
       "      <td>8.409395e+15</td>\n",
       "      <td>1.461103e+16</td>\n",
       "      <td>9.161250e+15</td>\n",
       "      <td>1.172512e+16</td>\n",
       "      <td>1.219465e+16</td>\n",
       "      <td>1.122029e+16</td>\n",
       "    </tr>\n",
       "    <tr>\n",
       "      <th>r2_score</th>\n",
       "      <td>3.780000e+01</td>\n",
       "      <td>4.370000e+01</td>\n",
       "      <td>4.990000e+01</td>\n",
       "      <td>1.240000e+01</td>\n",
       "      <td>4.730000e+01</td>\n",
       "      <td>3.822000e+01</td>\n",
       "    </tr>\n",
       "  </tbody>\n",
       "</table>\n",
       "</div>"
      ],
      "text/plain": [
       "                          fold_1        fold_2        fold_3        fold_4  \\\n",
       "mean_squared_error  8.409395e+15  1.461103e+16  9.161250e+15  1.172512e+16   \n",
       "r2_score            3.780000e+01  4.370000e+01  4.990000e+01  1.240000e+01   \n",
       "\n",
       "                          fold_5          mean  \n",
       "mean_squared_error  1.219465e+16  1.122029e+16  \n",
       "r2_score            4.730000e+01  3.822000e+01  "
      ]
     },
     "metadata": {},
     "output_type": "display_data"
    },
    {
     "name": "stdout",
     "output_type": "stream",
     "text": [
      "The objective is not defined. The default value is reg:squarederror. Error: 'objective'\n",
      "This is xgboost exception. Error: 'DMatrix' object has no attribute 'to_numpy'\n",
      "the required metrics =  ['r2_score', 'mean_squared_error']\n",
      "The quality of the model using the Evaluating the dataset: train\n",
      "Evaluating the dataset: train: Mean squared error: 2416192498788068.5\n",
      "Evaluating the dataset: train:  R2: 87.2 %\n",
      "the required metrics =  ['r2_score', 'mean_squared_error']\n",
      "The quality of the model using the Evaluating the dataset: train\n",
      "Evaluating the dataset: train: Mean squared error: 3609484174601721.0\n",
      "Evaluating the dataset: train:  R2: 80.9 %\n",
      "the required metrics =  ['r2_score', 'mean_squared_error']\n",
      "The quality of the model using the Evaluating the dataset: train\n",
      "Evaluating the dataset: train: Mean squared error: 2445497007573499.0\n",
      "Evaluating the dataset: train:  R2: 87.1 %\n",
      "the required metrics =  ['r2_score', 'mean_squared_error']\n",
      "The quality of the model using the Evaluating the dataset: train\n",
      "Evaluating the dataset: train: Mean squared error: 2962118913633820.5\n",
      "Evaluating the dataset: train:  R2: 84.3 %\n",
      "the required metrics =  ['r2_score', 'mean_squared_error']\n",
      "The quality of the model using the Evaluating the dataset: train\n",
      "Evaluating the dataset: train: Mean squared error: 3195340705680533.5\n",
      "Evaluating the dataset: train:  R2: 83.1 %\n",
      "train: Mean squared error linear: 2925726660055529.0\n",
      "train:  Mean R2: 84.52000000000001 %\n"
     ]
    },
    {
     "data": {
      "text/html": [
       "<div>\n",
       "<style scoped>\n",
       "    .dataframe tbody tr th:only-of-type {\n",
       "        vertical-align: middle;\n",
       "    }\n",
       "\n",
       "    .dataframe tbody tr th {\n",
       "        vertical-align: top;\n",
       "    }\n",
       "\n",
       "    .dataframe thead th {\n",
       "        text-align: right;\n",
       "    }\n",
       "</style>\n",
       "<table border=\"1\" class=\"dataframe\">\n",
       "  <thead>\n",
       "    <tr style=\"text-align: right;\">\n",
       "      <th></th>\n",
       "      <th>model_1</th>\n",
       "      <th>model_2</th>\n",
       "      <th>model_3</th>\n",
       "      <th>model_4</th>\n",
       "      <th>model_5</th>\n",
       "      <th>mean</th>\n",
       "    </tr>\n",
       "  </thead>\n",
       "  <tbody>\n",
       "    <tr>\n",
       "      <th>mean_squared_error (train)</th>\n",
       "      <td>2.416192e+15</td>\n",
       "      <td>3.609484e+15</td>\n",
       "      <td>2.445497e+15</td>\n",
       "      <td>2.962119e+15</td>\n",
       "      <td>3.195341e+15</td>\n",
       "      <td>2.925727e+15</td>\n",
       "    </tr>\n",
       "    <tr>\n",
       "      <th>r2_score (train)</th>\n",
       "      <td>8.720000e+01</td>\n",
       "      <td>8.090000e+01</td>\n",
       "      <td>8.710000e+01</td>\n",
       "      <td>8.430000e+01</td>\n",
       "      <td>8.310000e+01</td>\n",
       "      <td>8.452000e+01</td>\n",
       "    </tr>\n",
       "  </tbody>\n",
       "</table>\n",
       "</div>"
      ],
      "text/plain": [
       "                                 model_1       model_2       model_3  \\\n",
       "mean_squared_error (train)  2.416192e+15  3.609484e+15  2.445497e+15   \n",
       "r2_score (train)            8.720000e+01  8.090000e+01  8.710000e+01   \n",
       "\n",
       "                                 model_4       model_5          mean  \n",
       "mean_squared_error (train)  2.962119e+15  3.195341e+15  2.925727e+15  \n",
       "r2_score (train)            8.430000e+01  8.310000e+01  8.452000e+01  "
      ]
     },
     "metadata": {},
     "output_type": "display_data"
    },
    {
     "name": "stdout",
     "output_type": "stream",
     "text": [
      "This is the end of the flow\n"
     ]
    }
   ],
   "source": [
    "model_index_list, save_models_dir, y_test = flow.training(parameters_xgboost)"
   ]
  },
  {
   "cell_type": "code",
   "execution_count": null,
   "metadata": {},
   "outputs": [],
   "source": []
  }
 ],
 "metadata": {
  "kernelspec": {
   "display_name": "Python 3",
   "language": "python",
   "name": "python3"
  },
  "language_info": {
   "codemirror_mode": {
    "name": "ipython",
    "version": 3
   },
   "file_extension": ".py",
   "mimetype": "text/x-python",
   "name": "python",
   "nbconvert_exporter": "python",
   "pygments_lexer": "ipython3",
   "version": "3.6.9"
  }
 },
 "nbformat": 4,
 "nbformat_minor": 2
}
