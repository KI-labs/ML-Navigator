{
 "cells": [
  {
   "cell_type": "code",
   "execution_count": 1,
   "metadata": {},
   "outputs": [],
   "source": [
    "import os"
   ]
  },
  {
   "cell_type": "code",
   "execution_count": 2,
   "metadata": {},
   "outputs": [],
   "source": [
    "os.chdir('..')"
   ]
  },
  {
   "cell_type": "markdown",
   "metadata": {},
   "source": [
    "<img src=\"flow_4.png\">"
   ]
  },
  {
   "cell_type": "code",
   "execution_count": 3,
   "metadata": {},
   "outputs": [
    {
     "name": "stdout",
     "output_type": "stream",
     "text": [
      "\u001b[1m\u001b[35mWelcome to the Data Science Package. First create an object as follows:\u001b[m\u001b[m\n",
      "\u001b[1m\u001b[35mFor example, use the code below to import the flow 0:\u001b[m\u001b[m\n",
      "\u001b[32m\u001b[40mflow = Flows(0)\u001b[m\n",
      "\u001b[1m\u001b[35mYou can define the `categorical_threshold` which is the maximum number of categories that a categorical feature should have before considering it as continuous numeric feature. The default value is 50\u001b[m\u001b[m\n",
      "\u001b[1m\u001b[35mFor example, use the code below to import the flow 0 with defining the categorical_threshold as 50\u001b[m\u001b[m\n",
      "\u001b[32m\u001b[40mflow = Flows(flow_id=0, categorical_threshold=50)\u001b[m\n"
     ]
    }
   ],
   "source": [
    "from flows.flows import Flows"
   ]
  },
  {
   "cell_type": "code",
   "execution_count": 4,
   "metadata": {},
   "outputs": [
    {
     "name": "stdout",
     "output_type": "stream",
     "text": [
      "\u001b[1m\u001b[35mPlease use the following function to read the data\u001b[m\u001b[m\n",
      "\u001b[32m\u001b[40mdataframe_dict, columns_set = flow.load_data(path : str, files_list : list)\u001b[m\n",
      "\u001b[1m\u001b[35mFor example: \u001b[m\u001b[32m\u001b[40mpath = './data'\u001b[m\u001b[m\n",
      "\u001b[1m\u001b[35mIf your data is in a nested directory, it is better to os.path.join. For example: \u001b[m\u001b[32m\u001b[40mpath = os.path.join('data', 'flow_0')\u001b[m\u001b[m\n",
      "\u001b[1m\u001b[35mFor example: \u001b[m\u001b[32m\u001b[40mfiles_list = ['train.csv','test.csv']\u001b[m\u001b[m\n",
      "\u001b[1m\u001b[35mThe output is a dictionary that contains dataframes e.g.  \u001b[m\u001b[m\n",
      "\u001b[34mdataframe_dict = {'train': train_dataframe,'test': test_dataframe}\u001b[m\n",
      "\u001b[1m\u001b[35mIf you want to explore the data you can run one of the following functions: \u001b[m\u001b[m\n",
      "\u001b[1m\u001b[35m1 . \u001b[m\u001b[32m\u001b[40mflow.exploring_data(dataframe_dict: dict, key_i: str)\u001b[m\u001b[m\n",
      "\u001b[1m\u001b[35mFor example: \u001b[m\u001b[32m\u001b[40mflow.exploring_data(dataframe_dict, 'train')\u001b[m\u001b[m\n",
      "\u001b[1m\u001b[35m2 . \u001b[m\u001b[32m\u001b[40mflow.comparing_statistics(dataframe_dict: dict)\u001b[m\u001b[m\n",
      "\u001b[1m\u001b[35mFor example: \u001b[m\u001b[32m\u001b[40mflow.comparing_statistics(dataframe_dict)\u001b[m\u001b[m\n",
      "\n",
      "\n"
     ]
    }
   ],
   "source": [
    "flow = Flows(4)"
   ]
  },
  {
   "cell_type": "code",
   "execution_count": 5,
   "metadata": {},
   "outputs": [],
   "source": [
    "path = \"./data/flow_3\" # the flow applied to the same data in flow_3\n",
    "files_list = ['train_transaction.csv','test_transaction.csv']"
   ]
  },
  {
   "cell_type": "code",
   "execution_count": null,
   "metadata": {
    "scrolled": false
   },
   "outputs": [],
   "source": [
    "dataframe_dict, columns_set = flow.load_data(path, files_list)"
   ]
  },
  {
   "cell_type": "code",
   "execution_count": null,
   "metadata": {},
   "outputs": [],
   "source": [
    "dataframe_dict[\"train_transaction\"].head()"
   ]
  },
  {
   "cell_type": "code",
   "execution_count": null,
   "metadata": {},
   "outputs": [],
   "source": [
    " columns_set[\"train_transaction\"].keys()"
   ]
  },
  {
   "cell_type": "code",
   "execution_count": null,
   "metadata": {},
   "outputs": [],
   "source": [
    "dataframe_dict, columns_set = flow.encode_categorical_feature(dataframe_dict,print_results=10)"
   ]
  },
  {
   "cell_type": "code",
   "execution_count": null,
   "metadata": {},
   "outputs": [],
   "source": [
    "ignore_columns = ['isFraud']"
   ]
  },
  {
   "cell_type": "code",
   "execution_count": null,
   "metadata": {},
   "outputs": [],
   "source": [
    "dataframe_dict, columns_set = flow.drop_columns_constant_values(dataframe_dict, ignore_columns)"
   ]
  },
  {
   "cell_type": "code",
   "execution_count": null,
   "metadata": {},
   "outputs": [],
   "source": [
    "dataframe_dict, columns_set = flow.drop_correlated_columns(dataframe_dict, ignore_columns)"
   ]
  },
  {
   "cell_type": "code",
   "execution_count": null,
   "metadata": {},
   "outputs": [],
   "source": [
    "ignore_columns = [\"TransactionID\", \"isFraud\"]\n",
    "reference = \"train_transaction\"\n",
    "target = \"isFraud\""
   ]
  },
  {
   "cell_type": "code",
   "execution_count": null,
   "metadata": {},
   "outputs": [],
   "source": [
    "dataframe_dict, columns_set = flow.features_encoding(\"target\",\n",
    "                                                     dataframe_dict,\n",
    "                                                     reference=reference,\n",
    "                                                     ignore_columns=ignore_columns,\n",
    "                                                     target_name=target)"
   ]
  },
  {
   "cell_type": "code",
   "execution_count": null,
   "metadata": {},
   "outputs": [],
   "source": [
    "ignore_columns = [\"TransactionID\", \"isFraud\"]"
   ]
  },
  {
   "cell_type": "code",
   "execution_count": null,
   "metadata": {},
   "outputs": [],
   "source": [
    "dataframe_dict, columns_set = flow.scale_data(dataframe_dict, ignore_columns)"
   ]
  },
  {
   "cell_type": "code",
   "execution_count": null,
   "metadata": {},
   "outputs": [],
   "source": [
    "flow.exploring_data(dataframe_dict, \"test_transaction\")"
   ]
  },
  {
   "cell_type": "code",
   "execution_count": null,
   "metadata": {},
   "outputs": [],
   "source": [
    "flow.comparing_statistics(dataframe_dict)"
   ]
  },
  {
   "cell_type": "code",
   "execution_count": null,
   "metadata": {},
   "outputs": [],
   "source": [
    "columns = dataframe_dict[\"train_transaction\"].columns\n",
    "train_dataframe = dataframe_dict[\"train_transaction\"][\n",
    "    [x for x in columns_set[\"train_transaction\"][\"continuous\"] if x not in ignore_columns]]\n",
    "test_dataframe = dataframe_dict[\"test_transaction\"][\n",
    "    [x for x in columns_set[\"train_transaction\"][\"continuous\"] if x not in ignore_columns]]\n",
    "train_target = dataframe_dict[\"train_transaction\"][\"isFraud\"]"
   ]
  },
  {
   "cell_type": "code",
   "execution_count": null,
   "metadata": {},
   "outputs": [],
   "source": [
    "parameters = {\n",
    "    \"data\": {\n",
    "        \"train\": {\"features\": train_dataframe, \"target\": train_target.to_numpy()},\n",
    "    },\n",
    "    \"split\": {\n",
    "        \"method\": \"kfold\",  # \"method\":\"kfold\"\n",
    "        \"fold_nr\": 5,  # foldnr:5 , \"split_ratios\": 0.8 # \"split_ratios\":(0.7,0.2)\n",
    "    },\n",
    "    \"model\": {\"type\": \"Logistic regression\",\n",
    "              \"hyperparameters\": {\"alpha\": \"optimize\",  # alpha:optimize\n",
    "                                  },\n",
    "              },\n",
    "    \"metrics\": [\"accuracy_score\", \"roc_auc_score\"],\n",
    "    \"predict\": {\n",
    "        \"test\": {\"features\": test_dataframe}\n",
    "    }\n",
    "}"
   ]
  },
  {
   "cell_type": "code",
   "execution_count": null,
   "metadata": {},
   "outputs": [],
   "source": [
    "model_index_list_logistic, save_models_dir_logistic, y_test_logistic = flow.training(parameters)"
   ]
  },
  {
   "cell_type": "code",
   "execution_count": null,
   "metadata": {},
   "outputs": [],
   "source": [
    "parameters_lighgbm = {\n",
    "    \"data\": {\n",
    "        \"train\": {\"features\": train_dataframe, \"target\": train_target.to_numpy()},\n",
    "    },\n",
    "    \"split\": {\n",
    "        \"method\": \"kfold\",  # \"method\":\"kfold\"\n",
    "        \"fold_nr\": 5,  # foldnr:5 , \"split_ratios\": 0.8 # \"split_ratios\":(0.7,0.2)\n",
    "    },\n",
    "    \"model\": {\"type\": \"lightgbm\",\n",
    "              \"hyperparameters\": dict(objective='binary', metric='cross-entropy', num_leaves=5,\n",
    "                                      boost_from_average=True,\n",
    "                                      learning_rate=0.05, bagging_fraction=0.99, feature_fraction=0.99, max_depth=-1,\n",
    "                                      num_rounds=10000, min_data_in_leaf=10, boosting='dart')\n",
    "              },\n",
    "    \"metrics\": [\"accuracy_score\", \"roc_auc_score\"],\n",
    "    \"predict\": {\n",
    "        \"test\": {\"features\": test_dataframe}\n",
    "    }\n",
    "}"
   ]
  },
  {
   "cell_type": "code",
   "execution_count": null,
   "metadata": {
    "scrolled": true
   },
   "outputs": [],
   "source": [
    "model_index_list_lightgbm, save_models_dir_lightgbm, y_test_lightgbm = flow.training(parameters_lighgbm)"
   ]
  },
  {
   "cell_type": "code",
   "execution_count": null,
   "metadata": {},
   "outputs": [],
   "source": [
    "parameters_xgboost = {\n",
    "    \"data\": {\n",
    "        \"train\": {\"features\": train_dataframe, \"target\": train_target.to_numpy()},\n",
    "    },\n",
    "    \"split\": {\n",
    "        \"method\": \"kfold\",  # \"method\":\"kfold\"\n",
    "        \"fold_nr\": 5,  # fold_nr:5 , \"split_ratios\": 0.3 # \"split_ratios\":(0.3,0.2)\n",
    "    },\n",
    "    \"model\": {\"type\": \"xgboost\",\n",
    "              \"hyperparameters\": {'max_depth': 5, 'eta': 1, 'eval_metric': \"auc\", 'objective':'binary:logistic'}\n",
    "              },\n",
    "    \"metrics\": [\"accuracy_score\", \"roc_auc_score\"],\n",
    "    \"predict\": {\n",
    "        \"test\": {\"features\": test_dataframe}\n",
    "    }\n",
    "}"
   ]
  },
  {
   "cell_type": "code",
   "execution_count": null,
   "metadata": {
    "scrolled": true
   },
   "outputs": [],
   "source": [
    "model_index_list_xgboost, save_models_dir_xgboost, y_test_xgboost = flow.training(parameters_xgboost)"
   ]
  },
  {
   "cell_type": "code",
   "execution_count": null,
   "metadata": {},
   "outputs": [],
   "source": [
    "train_dataframe = dataframe_dict['train_transaction'].drop(['isFraud'],1)\n",
    "train_target = dataframe_dict[\"train_transaction\"][\"isFraud\"]\n",
    "\n",
    "test_dataframe = dataframe_dict['test_transaction']  #.drop(['isFraud'],1)\n",
    "\n",
    "parameters_sklearn = {\n",
    "    \"data\": {\n",
    "        \"train\": {\n",
    "            \"features\": train_dataframe,\n",
    "            \"target\": train_target.to_numpy()\n",
    "        }, \n",
    "    },\n",
    "    \"split\": {\n",
    "        \"method\": \"split\",\n",
    "        \"split_ratios\": 0.2,\n",
    "        \"stratify\": True\n",
    "    },\n",
    "    \"model\": {\n",
    "        \"type\": \"sklearn.ensemble.RandomForestClassifier\",\n",
    "        \"hyperparameters\": {\n",
    "            'params_grid':{\n",
    "                'class_weight': [\"balanced_subsample\"],\n",
    "                'max_depth': [5, 10, 20, 999],\n",
    "                'min_samples_leaf': [10, 3, 1]\n",
    "            },\n",
    "            'params_fixed': {\n",
    "                'max_depth': 4, \n",
    "                'min_samples_split': 10, \n",
    "                'min_samples_leaf': 2, \n",
    "                'random_state': 11\n",
    "            },\n",
    "            'params_cv': {\n",
    "                'n_splits': 5, \n",
    "                'shuffle': True, \n",
    "                'random_state': 11\n",
    "            },\n",
    "            \"objective\": \"classification\",\n",
    "            \"grid_search_scoring\": ['roc_auc', 'accuracy']\n",
    "        },\n",
    "    },\n",
    "    \"metrics\": ['roc_auc_score', 'accuracy_score'],\n",
    "    \"predict\": {\n",
    "        \"test\": {\n",
    "            \"features\": test_dataframe\n",
    "        }\n",
    "    }\n",
    "}"
   ]
  },
  {
   "cell_type": "code",
   "execution_count": null,
   "metadata": {},
   "outputs": [],
   "source": [
    "model_index_list_RF, save_models_dir_RF, y_test_RF = flow.training(parameters_sklearn)"
   ]
  }
 ],
 "metadata": {
  "kernelspec": {
   "display_name": "Python 3",
   "language": "python",
   "name": "python3"
  },
  "language_info": {
   "codemirror_mode": {
    "name": "ipython",
    "version": 3
   },
   "file_extension": ".py",
   "mimetype": "text/x-python",
   "name": "python",
   "nbconvert_exporter": "python",
   "pygments_lexer": "ipython3",
   "version": "3.6.8"
  }
 },
 "nbformat": 4,
 "nbformat_minor": 2
}
